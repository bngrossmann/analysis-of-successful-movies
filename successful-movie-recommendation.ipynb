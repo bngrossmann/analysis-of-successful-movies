{
 "cells": [
  {
   "cell_type": "markdown",
   "id": "4318eaae",
   "metadata": {},
   "source": [
    "# Analysis of Successful Movies (Notebook 1)\n",
    "* Benjamin Grossmann"
   ]
  },
  {
   "cell_type": "markdown",
   "id": "08f09142",
   "metadata": {},
   "source": [
    "This notebook retrieves the data from online.\n",
    "Then it performs some preprocessing and filtering to keep only the movies that meet the desired criteria.\n",
    "The final steps are to save the reduced data set.\n",
    "\n",
    "After the reduced data set has been saved, further work on this project should use Notebook 2. This will reduce the time to bring the data into a project-ready state.\n",
    "\n",
    "If the reduced data set should need to be reset to its initial condition, then re-run Notebook 1.\n",
    "\n",
    "THe IMDB files being used:\n",
    "* https://datasets.imdbws.com/title.basics.tsv.gz\n",
    "* https://datasets.imdbws.com/title.akas.tsv.gz\n",
    "* https://datasets.imdbws.com/title.ratings.tsv.gz\n",
    "\n",
    "The data dictionay:\n",
    "* https://www.imdb.com/interfaces/"
   ]
  },
  {
   "cell_type": "markdown",
   "id": "9db7fa0a",
   "metadata": {},
   "source": [
    "## Load Data"
   ]
  },
  {
   "cell_type": "code",
   "execution_count": 1,
   "id": "5b21a889",
   "metadata": {},
   "outputs": [],
   "source": [
    "import numpy as np\n",
    "import pandas as pd\n",
    "from sqlalchemy import create_engine"
   ]
  },
  {
   "cell_type": "code",
   "execution_count": 3,
   "id": "fbd9b902",
   "metadata": {},
   "outputs": [
    {
     "name": "stdout",
     "output_type": "stream",
     "text": [
      "Wall time: 4min 20s\n"
     ]
    }
   ],
   "source": [
    "%%time\n",
    "# This code block can take around 5 minutes\n",
    "\n",
    "# Store the data locations as strings\n",
    "url_basics = 'https://datasets.imdbws.com/title.basics.tsv.gz'\n",
    "url_akas = 'https://datasets.imdbws.com/title.akas.tsv.gz'\n",
    "url_ratings = 'https://datasets.imdbws.com/title.ratings.tsv.gz'\n",
    "\n",
    "# Retrieve the data from online\n",
    "basics = pd.read_csv(url_basics, sep='\\t', low_memory=False)\n",
    "akas = pd.read_csv(url_akas, sep='\\t', low_memory=False)\n",
    "ratings = pd.read_csv(url_ratings, sep='\\t', low_memory=False)"
   ]
  },
  {
   "cell_type": "code",
   "execution_count": 58,
   "id": "ed0d36bc",
   "metadata": {},
   "outputs": [
    {
     "name": "stdout",
     "output_type": "stream",
     "text": [
      "The basics dataframe shape: (81040, 9)\n",
      "The akas dataframe shape: (1322196, 8)\n",
      "The ratings dataframe shape: (1245178, 3)\n"
     ]
    }
   ],
   "source": [
    "# Display basic information about the data\n",
    "print(f\"The basics dataframe shape: {basics.shape}\")\n",
    "print(f\"The akas dataframe shape: {akas.shape}\")\n",
    "print(f\"The ratings dataframe shape: {ratings.shape}\")"
   ]
  },
  {
   "cell_type": "markdown",
   "id": "0a941aea",
   "metadata": {},
   "source": [
    "## Standardizing Missing Values"
   ]
  },
  {
   "cell_type": "code",
   "execution_count": 5,
   "id": "ba92b56c",
   "metadata": {},
   "outputs": [
    {
     "name": "stdout",
     "output_type": "stream",
     "text": [
      "Wall time: 52.3 s\n"
     ]
    }
   ],
   "source": [
    "%%time\n",
    "# This code block can take around 1 minutes\n",
    "\n",
    "# Replace the \\N placeholders with np.nan\n",
    "basics = basics.replace({'\\\\N':np.nan})\n",
    "akas = akas.replace({'\\\\N':np.nan})\n",
    "ratings = ratings.replace({'\\\\N':np.nan})"
   ]
  },
  {
   "cell_type": "markdown",
   "id": "f091ca29",
   "metadata": {},
   "source": [
    "## Filter the Akas DataFrame"
   ]
  },
  {
   "cell_type": "code",
   "execution_count": 38,
   "id": "34188709",
   "metadata": {},
   "outputs": [
    {
     "name": "stdout",
     "output_type": "stream",
     "text": [
      "<class 'pandas.core.frame.DataFrame'>\n",
      "RangeIndex: 32014153 entries, 0 to 32014152\n",
      "Data columns (total 8 columns):\n",
      " #   Column           Dtype \n",
      "---  ------           ----- \n",
      " 0   titleId          object\n",
      " 1   ordering         int64 \n",
      " 2   title            object\n",
      " 3   region           object\n",
      " 4   language         object\n",
      " 5   types            object\n",
      " 6   attributes       object\n",
      " 7   isOriginalTitle  object\n",
      "dtypes: int64(1), object(7)\n",
      "memory usage: 1.9+ GB\n"
     ]
    },
    {
     "data": {
      "text/html": [
       "<div>\n",
       "<style scoped>\n",
       "    .dataframe tbody tr th:only-of-type {\n",
       "        vertical-align: middle;\n",
       "    }\n",
       "\n",
       "    .dataframe tbody tr th {\n",
       "        vertical-align: top;\n",
       "    }\n",
       "\n",
       "    .dataframe thead th {\n",
       "        text-align: right;\n",
       "    }\n",
       "</style>\n",
       "<table border=\"1\" class=\"dataframe\">\n",
       "  <thead>\n",
       "    <tr style=\"text-align: right;\">\n",
       "      <th></th>\n",
       "      <th>titleId</th>\n",
       "      <th>ordering</th>\n",
       "      <th>title</th>\n",
       "      <th>region</th>\n",
       "      <th>language</th>\n",
       "      <th>types</th>\n",
       "      <th>attributes</th>\n",
       "      <th>isOriginalTitle</th>\n",
       "    </tr>\n",
       "  </thead>\n",
       "  <tbody>\n",
       "    <tr>\n",
       "      <th>0</th>\n",
       "      <td>tt0000001</td>\n",
       "      <td>1</td>\n",
       "      <td>Карменсіта</td>\n",
       "      <td>UA</td>\n",
       "      <td>NaN</td>\n",
       "      <td>imdbDisplay</td>\n",
       "      <td>NaN</td>\n",
       "      <td>0</td>\n",
       "    </tr>\n",
       "    <tr>\n",
       "      <th>1</th>\n",
       "      <td>tt0000001</td>\n",
       "      <td>2</td>\n",
       "      <td>Carmencita</td>\n",
       "      <td>DE</td>\n",
       "      <td>NaN</td>\n",
       "      <td>NaN</td>\n",
       "      <td>literal title</td>\n",
       "      <td>0</td>\n",
       "    </tr>\n",
       "    <tr>\n",
       "      <th>2</th>\n",
       "      <td>tt0000001</td>\n",
       "      <td>3</td>\n",
       "      <td>Carmencita - spanyol tánc</td>\n",
       "      <td>HU</td>\n",
       "      <td>NaN</td>\n",
       "      <td>imdbDisplay</td>\n",
       "      <td>NaN</td>\n",
       "      <td>0</td>\n",
       "    </tr>\n",
       "    <tr>\n",
       "      <th>3</th>\n",
       "      <td>tt0000001</td>\n",
       "      <td>4</td>\n",
       "      <td>Καρμενσίτα</td>\n",
       "      <td>GR</td>\n",
       "      <td>NaN</td>\n",
       "      <td>imdbDisplay</td>\n",
       "      <td>NaN</td>\n",
       "      <td>0</td>\n",
       "    </tr>\n",
       "    <tr>\n",
       "      <th>4</th>\n",
       "      <td>tt0000001</td>\n",
       "      <td>5</td>\n",
       "      <td>Карменсита</td>\n",
       "      <td>RU</td>\n",
       "      <td>NaN</td>\n",
       "      <td>imdbDisplay</td>\n",
       "      <td>NaN</td>\n",
       "      <td>0</td>\n",
       "    </tr>\n",
       "  </tbody>\n",
       "</table>\n",
       "</div>"
      ],
      "text/plain": [
       "     titleId  ordering                      title region language  \\\n",
       "0  tt0000001         1                 Карменсіта     UA      NaN   \n",
       "1  tt0000001         2                 Carmencita     DE      NaN   \n",
       "2  tt0000001         3  Carmencita - spanyol tánc     HU      NaN   \n",
       "3  tt0000001         4                 Καρμενσίτα     GR      NaN   \n",
       "4  tt0000001         5                 Карменсита     RU      NaN   \n",
       "\n",
       "         types     attributes isOriginalTitle  \n",
       "0  imdbDisplay            NaN               0  \n",
       "1          NaN  literal title               0  \n",
       "2  imdbDisplay            NaN               0  \n",
       "3  imdbDisplay            NaN               0  \n",
       "4  imdbDisplay            NaN               0  "
      ]
     },
     "execution_count": 38,
     "metadata": {},
     "output_type": "execute_result"
    }
   ],
   "source": [
    "akas.info()\n",
    "akas.head()"
   ]
  },
  {
   "cell_type": "markdown",
   "id": "11fc56f4",
   "metadata": {},
   "source": [
    "First, the 'region' column will be filtered to contain only the value 'US'."
   ]
  },
  {
   "cell_type": "code",
   "execution_count": 59,
   "id": "bae8ae8f",
   "metadata": {},
   "outputs": [
    {
     "name": "stdout",
     "output_type": "stream",
     "text": [
      "The akas dataframe shape: (1322196, 8)\n",
      "Eliminate entries that are not release in the US\n",
      "The akas dataframe shape: (1322196, 8)\n"
     ]
    },
    {
     "data": {
      "text/html": [
       "<div>\n",
       "<style scoped>\n",
       "    .dataframe tbody tr th:only-of-type {\n",
       "        vertical-align: middle;\n",
       "    }\n",
       "\n",
       "    .dataframe tbody tr th {\n",
       "        vertical-align: top;\n",
       "    }\n",
       "\n",
       "    .dataframe thead th {\n",
       "        text-align: right;\n",
       "    }\n",
       "</style>\n",
       "<table border=\"1\" class=\"dataframe\">\n",
       "  <thead>\n",
       "    <tr style=\"text-align: right;\">\n",
       "      <th></th>\n",
       "      <th>titleId</th>\n",
       "      <th>ordering</th>\n",
       "      <th>title</th>\n",
       "      <th>region</th>\n",
       "      <th>language</th>\n",
       "      <th>types</th>\n",
       "      <th>attributes</th>\n",
       "      <th>isOriginalTitle</th>\n",
       "    </tr>\n",
       "  </thead>\n",
       "  <tbody>\n",
       "    <tr>\n",
       "      <th>5</th>\n",
       "      <td>tt0000001</td>\n",
       "      <td>6</td>\n",
       "      <td>Carmencita</td>\n",
       "      <td>US</td>\n",
       "      <td>NaN</td>\n",
       "      <td>imdbDisplay</td>\n",
       "      <td>NaN</td>\n",
       "      <td>0</td>\n",
       "    </tr>\n",
       "    <tr>\n",
       "      <th>14</th>\n",
       "      <td>tt0000002</td>\n",
       "      <td>7</td>\n",
       "      <td>The Clown and His Dogs</td>\n",
       "      <td>US</td>\n",
       "      <td>NaN</td>\n",
       "      <td>NaN</td>\n",
       "      <td>literal English title</td>\n",
       "      <td>0</td>\n",
       "    </tr>\n",
       "    <tr>\n",
       "      <th>33</th>\n",
       "      <td>tt0000005</td>\n",
       "      <td>10</td>\n",
       "      <td>Blacksmith Scene</td>\n",
       "      <td>US</td>\n",
       "      <td>NaN</td>\n",
       "      <td>imdbDisplay</td>\n",
       "      <td>NaN</td>\n",
       "      <td>0</td>\n",
       "    </tr>\n",
       "    <tr>\n",
       "      <th>36</th>\n",
       "      <td>tt0000005</td>\n",
       "      <td>1</td>\n",
       "      <td>Blacksmithing Scene</td>\n",
       "      <td>US</td>\n",
       "      <td>NaN</td>\n",
       "      <td>alternative</td>\n",
       "      <td>NaN</td>\n",
       "      <td>0</td>\n",
       "    </tr>\n",
       "    <tr>\n",
       "      <th>41</th>\n",
       "      <td>tt0000005</td>\n",
       "      <td>6</td>\n",
       "      <td>Blacksmith Scene #1</td>\n",
       "      <td>US</td>\n",
       "      <td>NaN</td>\n",
       "      <td>alternative</td>\n",
       "      <td>NaN</td>\n",
       "      <td>0</td>\n",
       "    </tr>\n",
       "  </tbody>\n",
       "</table>\n",
       "</div>"
      ],
      "text/plain": [
       "      titleId  ordering                   title region language        types  \\\n",
       "5   tt0000001         6              Carmencita     US      NaN  imdbDisplay   \n",
       "14  tt0000002         7  The Clown and His Dogs     US      NaN          NaN   \n",
       "33  tt0000005        10        Blacksmith Scene     US      NaN  imdbDisplay   \n",
       "36  tt0000005         1     Blacksmithing Scene     US      NaN  alternative   \n",
       "41  tt0000005         6     Blacksmith Scene #1     US      NaN  alternative   \n",
       "\n",
       "               attributes isOriginalTitle  \n",
       "5                     NaN               0  \n",
       "14  literal English title               0  \n",
       "33                    NaN               0  \n",
       "36                    NaN               0  \n",
       "41                    NaN               0  "
      ]
     },
     "execution_count": 59,
     "metadata": {},
     "output_type": "execute_result"
    }
   ],
   "source": [
    "print(f'The akas dataframe shape: {akas.shape}')\n",
    "\n",
    "print(f'Eliminate entries that are not release in the US')\n",
    "is_US = (akas['region']=='US')\n",
    "akas = akas.loc[ is_US , :]\n",
    "\n",
    "print(f'The akas dataframe shape: {akas.shape}')\n",
    "akas.head()"
   ]
  },
  {
   "cell_type": "markdown",
   "id": "d5be50cc",
   "metadata": {},
   "source": [
    "The 'isOriginalTitle' column is object data type, but appears like it should be integer data type."
   ]
  },
  {
   "cell_type": "code",
   "execution_count": 51,
   "id": "4073f0fe",
   "metadata": {},
   "outputs": [
    {
     "data": {
      "text/plain": [
       "array(['0', nan, '1'], dtype=object)"
      ]
     },
     "execution_count": 51,
     "metadata": {},
     "output_type": "execute_result"
    }
   ],
   "source": [
    "akas['isOriginalTitle'].unique()"
   ]
  },
  {
   "cell_type": "markdown",
   "id": "dfd2ac01",
   "metadata": {},
   "source": [
    "So, 'isOriginalTitle' does contain string numerical values, that should be converted. Since nan is considered a float, I will convert the string numbers to floats."
   ]
  },
  {
   "cell_type": "code",
   "execution_count": 61,
   "id": "38664e5d",
   "metadata": {},
   "outputs": [
    {
     "data": {
      "text/plain": [
       "5           0.0\n",
       "14          0.0\n",
       "33          0.0\n",
       "36          0.0\n",
       "41          0.0\n",
       "           ... \n",
       "32013824    0.0\n",
       "32013862    0.0\n",
       "32013864    0.0\n",
       "32013881    0.0\n",
       "32013897    0.0\n",
       "Name: isOriginalTitle, Length: 1322196, dtype: float64"
      ]
     },
     "execution_count": 61,
     "metadata": {},
     "output_type": "execute_result"
    }
   ],
   "source": [
    "akas['isOriginalTitle'] = akas['isOriginalTitle'].apply(float)\n"
   ]
  },
  {
   "cell_type": "code",
   "execution_count": 47,
   "id": "a72c8baf",
   "metadata": {},
   "outputs": [
    {
     "data": {
      "text/html": [
       "<div>\n",
       "<style scoped>\n",
       "    .dataframe tbody tr th:only-of-type {\n",
       "        vertical-align: middle;\n",
       "    }\n",
       "\n",
       "    .dataframe tbody tr th {\n",
       "        vertical-align: top;\n",
       "    }\n",
       "\n",
       "    .dataframe thead th {\n",
       "        text-align: right;\n",
       "    }\n",
       "</style>\n",
       "<table border=\"1\" class=\"dataframe\">\n",
       "  <thead>\n",
       "    <tr style=\"text-align: right;\">\n",
       "      <th></th>\n",
       "      <th>titleId</th>\n",
       "      <th>ordering</th>\n",
       "      <th>title</th>\n",
       "      <th>region</th>\n",
       "      <th>language</th>\n",
       "      <th>types</th>\n",
       "      <th>attributes</th>\n",
       "      <th>isOriginalTitle</th>\n",
       "    </tr>\n",
       "  </thead>\n",
       "  <tbody>\n",
       "    <tr>\n",
       "      <th>5</th>\n",
       "      <td>tt0000001</td>\n",
       "      <td>6</td>\n",
       "      <td>Carmencita</td>\n",
       "      <td>US</td>\n",
       "      <td>NaN</td>\n",
       "      <td>imdbDisplay</td>\n",
       "      <td>NaN</td>\n",
       "      <td>0</td>\n",
       "    </tr>\n",
       "    <tr>\n",
       "      <th>14</th>\n",
       "      <td>tt0000002</td>\n",
       "      <td>7</td>\n",
       "      <td>The Clown and His Dogs</td>\n",
       "      <td>US</td>\n",
       "      <td>NaN</td>\n",
       "      <td>NaN</td>\n",
       "      <td>literal English title</td>\n",
       "      <td>0</td>\n",
       "    </tr>\n",
       "    <tr>\n",
       "      <th>33</th>\n",
       "      <td>tt0000005</td>\n",
       "      <td>10</td>\n",
       "      <td>Blacksmith Scene</td>\n",
       "      <td>US</td>\n",
       "      <td>NaN</td>\n",
       "      <td>imdbDisplay</td>\n",
       "      <td>NaN</td>\n",
       "      <td>0</td>\n",
       "    </tr>\n",
       "    <tr>\n",
       "      <th>36</th>\n",
       "      <td>tt0000005</td>\n",
       "      <td>1</td>\n",
       "      <td>Blacksmithing Scene</td>\n",
       "      <td>US</td>\n",
       "      <td>NaN</td>\n",
       "      <td>alternative</td>\n",
       "      <td>NaN</td>\n",
       "      <td>0</td>\n",
       "    </tr>\n",
       "    <tr>\n",
       "      <th>41</th>\n",
       "      <td>tt0000005</td>\n",
       "      <td>6</td>\n",
       "      <td>Blacksmith Scene #1</td>\n",
       "      <td>US</td>\n",
       "      <td>NaN</td>\n",
       "      <td>alternative</td>\n",
       "      <td>NaN</td>\n",
       "      <td>0</td>\n",
       "    </tr>\n",
       "  </tbody>\n",
       "</table>\n",
       "</div>"
      ],
      "text/plain": [
       "      titleId  ordering                   title region language        types  \\\n",
       "5   tt0000001         6              Carmencita     US      NaN  imdbDisplay   \n",
       "14  tt0000002         7  The Clown and His Dogs     US      NaN          NaN   \n",
       "33  tt0000005        10        Blacksmith Scene     US      NaN  imdbDisplay   \n",
       "36  tt0000005         1     Blacksmithing Scene     US      NaN  alternative   \n",
       "41  tt0000005         6     Blacksmith Scene #1     US      NaN  alternative   \n",
       "\n",
       "               attributes isOriginalTitle  \n",
       "5                     NaN               0  \n",
       "14  literal English title               0  \n",
       "33                    NaN               0  \n",
       "36                    NaN               0  \n",
       "41                    NaN               0  "
      ]
     },
     "execution_count": 47,
     "metadata": {},
     "output_type": "execute_result"
    }
   ],
   "source": [
    "akas.head()"
   ]
  },
  {
   "cell_type": "markdown",
   "id": "49bd197d",
   "metadata": {},
   "source": [
    "## Filter/Clean the Basics Dataframe"
   ]
  },
  {
   "cell_type": "markdown",
   "id": "2a3fcab9",
   "metadata": {},
   "source": [
    "### Drop Missing Genres Or Runtimes"
   ]
  },
  {
   "cell_type": "code",
   "execution_count": 8,
   "id": "2936519f",
   "metadata": {},
   "outputs": [
    {
     "name": "stdout",
     "output_type": "stream",
     "text": [
      "The basics dataframe shape: (8928653, 9)\n",
      "Eliminate entries that are missing runtime or genre\n",
      "The basics dataframe shape: (2336224, 9)\n"
     ]
    }
   ],
   "source": [
    "# Removing movies with missing values for genre or runtime\n",
    "\n",
    "print(f'The basics dataframe shape: {basics.shape}')\n",
    "\n",
    "has_runtimeMinutes = ~basics['runtimeMinutes'].isna()\n",
    "has_genres = ~basics['genres'].isna()\n",
    "\n",
    "print(f'Eliminate entries that are missing runtime or genre')\n",
    "basics = basics.loc[ (has_runtimeMinutes) & (has_genres) , : ]\n",
    "\n",
    "print(f'The basics dataframe shape: {basics.shape}')"
   ]
  },
  {
   "cell_type": "code",
   "execution_count": 11,
   "id": "9504f0ef",
   "metadata": {},
   "outputs": [
    {
     "name": "stdout",
     "output_type": "stream",
     "text": [
      "<class 'pandas.core.frame.DataFrame'>\n",
      "Int64Index: 2336224 entries, 0 to 8928652\n",
      "Data columns (total 9 columns):\n",
      " #   Column          Dtype \n",
      "---  ------          ----- \n",
      " 0   tconst          object\n",
      " 1   titleType       object\n",
      " 2   primaryTitle    object\n",
      " 3   originalTitle   object\n",
      " 4   isAdult         object\n",
      " 5   startYear       object\n",
      " 6   endYear         object\n",
      " 7   runtimeMinutes  int64 \n",
      " 8   genres          object\n",
      "dtypes: int64(1), object(8)\n",
      "memory usage: 178.2+ MB\n"
     ]
    }
   ],
   "source": [
    "basics['runtimeMinutes'] = basics['runtimeMinutes'].apply(int)\n",
    "basics.info()"
   ]
  },
  {
   "cell_type": "markdown",
   "id": "f83f42d5",
   "metadata": {},
   "source": [
    "### Keep Full-Length Movies"
   ]
  },
  {
   "cell_type": "code",
   "execution_count": 14,
   "id": "b2b53c4c",
   "metadata": {},
   "outputs": [
    {
     "data": {
      "text/plain": [
       "['short',\n",
       " 'movie',\n",
       " 'tvEpisode',\n",
       " 'tvSeries',\n",
       " 'tvShort',\n",
       " 'tvMovie',\n",
       " 'tvMiniSeries',\n",
       " 'video',\n",
       " 'tvSpecial',\n",
       " 'videoGame']"
      ]
     },
     "execution_count": 14,
     "metadata": {},
     "output_type": "execute_result"
    }
   ],
   "source": [
    "basics['titleType'].unique().tolist()"
   ]
  },
  {
   "cell_type": "code",
   "execution_count": 15,
   "id": "61cd38c7",
   "metadata": {},
   "outputs": [
    {
     "name": "stdout",
     "output_type": "stream",
     "text": [
      "The basics dataframe shape: (2336224, 9)\n",
      "Eliminate entries that are not full-length movies\n",
      "The basics dataframe shape: (360501, 9)\n"
     ]
    }
   ],
   "source": [
    "# Removing movies without a string value\n",
    "print(f'The basics dataframe shape: {basics.shape}')\n",
    "\n",
    "print(f'Eliminate entries that are not full-length movies')\n",
    "is_movie = (basics['titleType'] == 'movie')\n",
    "basics = basics.loc[ is_movie , : ]\n",
    "\n",
    "print(f'The basics dataframe shape: {basics.shape}')"
   ]
  },
  {
   "cell_type": "code",
   "execution_count": 16,
   "id": "4c7b1129",
   "metadata": {},
   "outputs": [
    {
     "data": {
      "text/plain": [
       "['movie']"
      ]
     },
     "execution_count": 16,
     "metadata": {},
     "output_type": "execute_result"
    }
   ],
   "source": [
    "basics['titleType'].unique().tolist()"
   ]
  },
  {
   "cell_type": "markdown",
   "id": "2e8aa238",
   "metadata": {},
   "source": [
    "### Drop Documentaries"
   ]
  },
  {
   "cell_type": "code",
   "execution_count": 17,
   "id": "f4ea286f",
   "metadata": {},
   "outputs": [
    {
     "data": {
      "text/plain": [
       "{'Action',\n",
       " 'Adult',\n",
       " 'Adventure',\n",
       " 'Animation',\n",
       " 'Biography',\n",
       " 'Comedy',\n",
       " 'Crime',\n",
       " 'Documentary',\n",
       " 'Drama',\n",
       " 'Family',\n",
       " 'Fantasy',\n",
       " 'Film-Noir',\n",
       " 'Game-Show',\n",
       " 'History',\n",
       " 'Horror',\n",
       " 'Music',\n",
       " 'Musical',\n",
       " 'Mystery',\n",
       " 'News',\n",
       " 'Reality-TV',\n",
       " 'Romance',\n",
       " 'Sci-Fi',\n",
       " 'Short',\n",
       " 'Sport',\n",
       " 'Talk-Show',\n",
       " 'Thriller',\n",
       " 'War',\n",
       " 'Western'}"
      ]
     },
     "execution_count": 17,
     "metadata": {},
     "output_type": "execute_result"
    }
   ],
   "source": [
    "# Find all the genres present in the basics dataframe\n",
    "# Because each entry can belong to multiple genres,\n",
    "# some extra steps are needed to show each unique genre.\n",
    "\n",
    "def splitter(n):\n",
    "    return n.split(\",\")\n",
    "\n",
    "set(list(np.concatenate(list(map( splitter , basics['genres'].unique().tolist() ))).flat))"
   ]
  },
  {
   "cell_type": "code",
   "execution_count": 18,
   "id": "01e174d6",
   "metadata": {},
   "outputs": [
    {
     "name": "stdout",
     "output_type": "stream",
     "text": [
      "The basics dataframe shape: (360501, 9)\n",
      "Eliminate entries that are documentaries\n",
      "The basics dataframe shape: (274436, 9)\n"
     ]
    }
   ],
   "source": [
    "# Removing rows with a sub-string value\n",
    "print(f'The basics dataframe shape: {basics.shape}')\n",
    "print(f'Eliminate entries that are documentaries')\n",
    "\n",
    "is_documentary = basics['genres'].str.contains('Documentary', case=False)\n",
    "# note: case parameter means case-sensitive spelling\n",
    "\n",
    "basics = basics.loc[ ~is_documentary , :]\n",
    "\n",
    "print(f'The basics dataframe shape: {basics.shape}')"
   ]
  },
  {
   "cell_type": "code",
   "execution_count": 19,
   "id": "59cd9703",
   "metadata": {},
   "outputs": [
    {
     "data": {
      "text/plain": [
       "{'Action',\n",
       " 'Adult',\n",
       " 'Adventure',\n",
       " 'Animation',\n",
       " 'Biography',\n",
       " 'Comedy',\n",
       " 'Crime',\n",
       " 'Drama',\n",
       " 'Family',\n",
       " 'Fantasy',\n",
       " 'Film-Noir',\n",
       " 'Game-Show',\n",
       " 'History',\n",
       " 'Horror',\n",
       " 'Music',\n",
       " 'Musical',\n",
       " 'Mystery',\n",
       " 'News',\n",
       " 'Reality-TV',\n",
       " 'Romance',\n",
       " 'Sci-Fi',\n",
       " 'Short',\n",
       " 'Sport',\n",
       " 'Talk-Show',\n",
       " 'Thriller',\n",
       " 'War',\n",
       " 'Western'}"
      ]
     },
     "execution_count": 19,
     "metadata": {},
     "output_type": "execute_result"
    }
   ],
   "source": [
    "# Find all the genres present in the basics dataframe\n",
    "# Because each entry can belong to multiple genres,\n",
    "# some extra steps are needed to show each unique genre.\n",
    "\n",
    "def splitter(n):\n",
    "    return n.split(\",\")\n",
    "\n",
    "set(list(np.concatenate(list(map( splitter , basics['genres'].unique().tolist() ))).flat))"
   ]
  },
  {
   "cell_type": "markdown",
   "id": "546eeb23",
   "metadata": {},
   "source": [
    "### Keep Released 21st Century Movies"
   ]
  },
  {
   "cell_type": "markdown",
   "id": "600462e2",
   "metadata": {},
   "source": [
    "The 'startYear' column is of the object data type, so the values should be checked. Ideally, the years are integers. Because np.nan values are floats, I will convert any string numbers to floats to avoid an error in trying to convert np.nan values to integers."
   ]
  },
  {
   "cell_type": "code",
   "execution_count": 21,
   "id": "db979781",
   "metadata": {},
   "outputs": [
    {
     "name": "stdout",
     "output_type": "stream",
     "text": [
      "The basics dataframe has 4155 null startYear values.\n",
      "\n",
      "The basics dataframe:\n",
      "<class 'str'>      270281\n",
      "<class 'float'>      4155\n",
      "Name: startYear, dtype: int64\n",
      "\n",
      "Null values constitute 1.51% of the basics dataframe\n",
      "The range of years is 1903.0 through 2027.0\n"
     ]
    }
   ],
   "source": [
    "startYear_null_count = basics['startYear'].isna().sum()\n",
    "startYear_null_percent = 100*startYear_null_count/basics.shape[0]\n",
    "startYear_min = basics['startYear'].apply(float).min()\n",
    "startYear_max = basics['startYear'].apply(float).max()\n",
    "\n",
    "print(f\"The basics dataframe has {startYear_null_count} null startYear values.\")\n",
    "print(f\"\\nThe basics dataframe:\")\n",
    "print(basics['startYear'].apply(type).value_counts())\n",
    "print(f\"\\nNull values constitute {startYear_null_percent:.2f}% of the basics dataframe\")\n",
    "print(f\"The range of years is {startYear_min} through {startYear_max}\")"
   ]
  },
  {
   "cell_type": "markdown",
   "id": "4e08d9a2",
   "metadata": {},
   "source": [
    "I will drop the null values. They constitute only 1.51% of the movies. Imputing any values could potentially be extremely misleading, as characteristics of successful movies have changed in the past century.\n",
    "\n",
    "By filtering the 'startYear' by inequalities, the np.nan values will be filtered out as they not less than or greater then a numerical value."
   ]
  },
  {
   "cell_type": "code",
   "execution_count": 31,
   "id": "2bab287c",
   "metadata": {},
   "outputs": [
    {
     "name": "stdout",
     "output_type": "stream",
     "text": [
      "The basics dataframe shape: (274436, 9)\n",
      "Eliminate entries that before the year 2000\n",
      "Eliminate entries that are after the year 2022\n",
      "The basics dataframe shape: (139319, 9)\n"
     ]
    }
   ],
   "source": [
    "print(f'The basics dataframe shape: {basics.shape}')\n",
    "print(f'Eliminate entries that before the year 2000')\n",
    "print(f'Eliminate entries that are after the year 2022')\n",
    "\n",
    "is_released = (basics['startYear'].apply(float) <= 2022)\n",
    "is_year_20XX = (basics['startYear'].apply(float) >= 2000)\n",
    "\n",
    "basics = basics.loc[ is_released & is_year_20XX, : ]\n",
    "\n",
    "print(f'The basics dataframe shape: {basics.shape}')"
   ]
  },
  {
   "cell_type": "code",
   "execution_count": 34,
   "id": "aea91112",
   "metadata": {},
   "outputs": [
    {
     "name": "stdout",
     "output_type": "stream",
     "text": [
      "<class 'pandas.core.frame.DataFrame'>\n",
      "Int64Index: 139319 entries, 34805 to 8928502\n",
      "Data columns (total 9 columns):\n",
      " #   Column          Non-Null Count   Dtype \n",
      "---  ------          --------------   ----- \n",
      " 0   tconst          139319 non-null  object\n",
      " 1   titleType       139319 non-null  object\n",
      " 2   primaryTitle    139319 non-null  object\n",
      " 3   originalTitle   139319 non-null  object\n",
      " 4   isAdult         139319 non-null  object\n",
      " 5   startYear       139319 non-null  int64 \n",
      " 6   endYear         0 non-null       object\n",
      " 7   runtimeMinutes  139319 non-null  int64 \n",
      " 8   genres          139319 non-null  object\n",
      "dtypes: int64(2), object(7)\n",
      "memory usage: 10.6+ MB\n"
     ]
    },
    {
     "data": {
      "text/plain": [
       "0"
      ]
     },
     "execution_count": 34,
     "metadata": {},
     "output_type": "execute_result"
    }
   ],
   "source": [
    "basics['startYear'] = basics['startYear'].apply(int)\n",
    "basics.info()"
   ]
  },
  {
   "cell_type": "markdown",
   "id": "5f91730d",
   "metadata": {},
   "source": [
    "## "
   ]
  },
  {
   "cell_type": "code",
   "execution_count": 48,
   "id": "929b380c",
   "metadata": {},
   "outputs": [
    {
     "name": "stdout",
     "output_type": "stream",
     "text": [
      "The basics dataframe shape: (139319, 9)\n",
      "The basics dataframe shape: (81040, 9)\n"
     ]
    },
    {
     "data": {
      "text/html": [
       "<div>\n",
       "<style scoped>\n",
       "    .dataframe tbody tr th:only-of-type {\n",
       "        vertical-align: middle;\n",
       "    }\n",
       "\n",
       "    .dataframe tbody tr th {\n",
       "        vertical-align: top;\n",
       "    }\n",
       "\n",
       "    .dataframe thead th {\n",
       "        text-align: right;\n",
       "    }\n",
       "</style>\n",
       "<table border=\"1\" class=\"dataframe\">\n",
       "  <thead>\n",
       "    <tr style=\"text-align: right;\">\n",
       "      <th></th>\n",
       "      <th>tconst</th>\n",
       "      <th>titleType</th>\n",
       "      <th>primaryTitle</th>\n",
       "      <th>originalTitle</th>\n",
       "      <th>isAdult</th>\n",
       "      <th>startYear</th>\n",
       "      <th>endYear</th>\n",
       "      <th>runtimeMinutes</th>\n",
       "      <th>genres</th>\n",
       "    </tr>\n",
       "  </thead>\n",
       "  <tbody>\n",
       "    <tr>\n",
       "      <th>34805</th>\n",
       "      <td>tt0035423</td>\n",
       "      <td>movie</td>\n",
       "      <td>Kate &amp; Leopold</td>\n",
       "      <td>Kate &amp; Leopold</td>\n",
       "      <td>0</td>\n",
       "      <td>2001</td>\n",
       "      <td>NaN</td>\n",
       "      <td>118</td>\n",
       "      <td>Comedy,Fantasy,Romance</td>\n",
       "    </tr>\n",
       "    <tr>\n",
       "      <th>61119</th>\n",
       "      <td>tt0062336</td>\n",
       "      <td>movie</td>\n",
       "      <td>The Tango of the Widower and Its Distorting Mi...</td>\n",
       "      <td>El Tango del Viudo y Su Espejo Deformante</td>\n",
       "      <td>0</td>\n",
       "      <td>2020</td>\n",
       "      <td>NaN</td>\n",
       "      <td>70</td>\n",
       "      <td>Drama</td>\n",
       "    </tr>\n",
       "    <tr>\n",
       "      <th>67672</th>\n",
       "      <td>tt0069049</td>\n",
       "      <td>movie</td>\n",
       "      <td>The Other Side of the Wind</td>\n",
       "      <td>The Other Side of the Wind</td>\n",
       "      <td>0</td>\n",
       "      <td>2018</td>\n",
       "      <td>NaN</td>\n",
       "      <td>122</td>\n",
       "      <td>Drama</td>\n",
       "    </tr>\n",
       "    <tr>\n",
       "      <th>86806</th>\n",
       "      <td>tt0088751</td>\n",
       "      <td>movie</td>\n",
       "      <td>The Naked Monster</td>\n",
       "      <td>The Naked Monster</td>\n",
       "      <td>0</td>\n",
       "      <td>2005</td>\n",
       "      <td>NaN</td>\n",
       "      <td>100</td>\n",
       "      <td>Comedy,Horror,Sci-Fi</td>\n",
       "    </tr>\n",
       "    <tr>\n",
       "      <th>91077</th>\n",
       "      <td>tt0093119</td>\n",
       "      <td>movie</td>\n",
       "      <td>Grizzly II: Revenge</td>\n",
       "      <td>Grizzly II: The Predator</td>\n",
       "      <td>0</td>\n",
       "      <td>2020</td>\n",
       "      <td>NaN</td>\n",
       "      <td>74</td>\n",
       "      <td>Horror,Music,Thriller</td>\n",
       "    </tr>\n",
       "  </tbody>\n",
       "</table>\n",
       "</div>"
      ],
      "text/plain": [
       "          tconst titleType                                       primaryTitle  \\\n",
       "34805  tt0035423     movie                                     Kate & Leopold   \n",
       "61119  tt0062336     movie  The Tango of the Widower and Its Distorting Mi...   \n",
       "67672  tt0069049     movie                         The Other Side of the Wind   \n",
       "86806  tt0088751     movie                                  The Naked Monster   \n",
       "91077  tt0093119     movie                                Grizzly II: Revenge   \n",
       "\n",
       "                                   originalTitle isAdult  startYear endYear  \\\n",
       "34805                             Kate & Leopold       0       2001     NaN   \n",
       "61119  El Tango del Viudo y Su Espejo Deformante       0       2020     NaN   \n",
       "67672                 The Other Side of the Wind       0       2018     NaN   \n",
       "86806                          The Naked Monster       0       2005     NaN   \n",
       "91077                   Grizzly II: The Predator       0       2020     NaN   \n",
       "\n",
       "       runtimeMinutes                  genres  \n",
       "34805             118  Comedy,Fantasy,Romance  \n",
       "61119              70                   Drama  \n",
       "67672             122                   Drama  \n",
       "86806             100    Comedy,Horror,Sci-Fi  \n",
       "91077              74   Horror,Music,Thriller  "
      ]
     },
     "execution_count": 48,
     "metadata": {},
     "output_type": "execute_result"
    }
   ],
   "source": [
    "print(f'The basics dataframe shape: {basics.shape}')\n",
    "\n",
    "# Filter out entries from the basics dataframe that are not released in the US\n",
    "is_basic_in_US =  basics['tconst'].isin(akas['titleId'])\n",
    "basics = basics.loc[ is_basic_in_US , :]\n",
    "\n",
    "print(f'The basics dataframe shape: {basics.shape}')\n",
    "basics.head()"
   ]
  },
  {
   "cell_type": "markdown",
   "id": "a9c82df4",
   "metadata": {},
   "source": [
    "# XYZ"
   ]
  },
  {
   "cell_type": "code",
   "execution_count": null,
   "id": "7671656f",
   "metadata": {},
   "outputs": [],
   "source": [
    "# This code was was used to create a Data folder for saving downloaded data\n",
    "\n",
    "\n",
    "# # make new folder with os\n",
    "# import os\n",
    "# os.makedirs('Data', exist_ok = True)\n",
    "# # verify folder was created\n",
    "# os.listdir('Data/')"
   ]
  },
  {
   "cell_type": "code",
   "execution_count": null,
   "id": "2623aef6",
   "metadata": {},
   "outputs": [],
   "source": [
    "# save dataframes to file\n",
    "basics.to_csv('Data/title_basics.csv.gz', compression='gzip', index=False)\n",
    "akas.to_csv('Data/title_akas.csv.gz', compression='gzip', index=False)\n",
    "ratings.to_csv('Data/title_ratings.csv.gz', compression='gzip', index=False)"
   ]
  },
  {
   "cell_type": "code",
   "execution_count": null,
   "id": "5f598828",
   "metadata": {},
   "outputs": [],
   "source": [
    "# open saved files and preview\n",
    "basics = pd.read_csv('Data/title_basics.csv.gz', low_memory = False)\n",
    "akas = pd.read_csv('Data/title_akas.csv.gz', low_memory = False)\n",
    "ratings = pd.read_csv('Data/title_ratings.csv.gz', low_memory = False)"
   ]
  },
  {
   "cell_type": "code",
   "execution_count": null,
   "id": "ed5a5a46",
   "metadata": {},
   "outputs": [],
   "source": [
    "display(basics.head())\n",
    "display(akas.head())\n",
    "display(ratings.head())"
   ]
  }
 ],
 "metadata": {
  "kernelspec": {
   "display_name": "Python (dojo-env)",
   "language": "python",
   "name": "dojo-env"
  },
  "language_info": {
   "codemirror_mode": {
    "name": "ipython",
    "version": 3
   },
   "file_extension": ".py",
   "mimetype": "text/x-python",
   "name": "python",
   "nbconvert_exporter": "python",
   "pygments_lexer": "ipython3",
   "version": "3.7.12"
  },
  "toc": {
   "base_numbering": 1,
   "nav_menu": {},
   "number_sections": false,
   "sideBar": true,
   "skip_h1_title": false,
   "title_cell": "Table of Contents",
   "title_sidebar": "Contents",
   "toc_cell": false,
   "toc_position": {
    "height": "calc(100% - 180px)",
    "left": "10px",
    "top": "150px",
    "width": "384px"
   },
   "toc_section_display": true,
   "toc_window_display": true
  }
 },
 "nbformat": 4,
 "nbformat_minor": 5
}
