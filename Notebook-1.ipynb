{
 "cells": [
  {
   "cell_type": "markdown",
   "id": "4318eaae",
   "metadata": {},
   "source": [
    "# Analysis of Successful Movies (Notebook 1)\n",
    "* Benjamin Grossmann"
   ]
  },
  {
   "cell_type": "markdown",
   "id": "08f09142",
   "metadata": {},
   "source": [
    "This notebook retrieves data from IMDB (Internet Movie Database).\n",
    "Then it performs some preprocessing and filtering to keep only the movies that meet the desired criteria.\n",
    "The final steps are to save the reduced data set.\n",
    "\n",
    "After the reduced data set has been saved, further work on this project should proceed in Notebook 2. This will reduce the time to bring the data into a project-ready state.\n",
    "\n",
    "If the reduced data set should need to be reset to its initial condition, then re-run Notebook 1.\n",
    "\n",
    "THe IMDB files being used:\n",
    "* https://datasets.imdbws.com/title.basics.tsv.gz\n",
    "* https://datasets.imdbws.com/title.akas.tsv.gz\n",
    "* https://datasets.imdbws.com/title.ratings.tsv.gz\n",
    "\n",
    "The data dictionay:\n",
    "* https://www.imdb.com/interfaces/\n",
    "\n",
    "The data kept from these files need to follow these specifications:\n",
    "* Exclude any movie with missing values for genre or runtime\n",
    "* Include only full-length movies (titleType = \"movie\").\n",
    "* Include only fictional movies (not from documentary genre)\n",
    "* Include only movies that were released 2000 - 2021 (include 2000 and 2021)\n",
    "* Include only movies that were released in the United States"
   ]
  },
  {
   "cell_type": "markdown",
   "id": "9db7fa0a",
   "metadata": {},
   "source": [
    "# Retrieve Data"
   ]
  },
  {
   "cell_type": "code",
   "execution_count": 1,
   "id": "5b21a889",
   "metadata": {},
   "outputs": [],
   "source": [
    "import numpy as np\n",
    "import pandas as pd"
   ]
  },
  {
   "cell_type": "code",
   "execution_count": 2,
   "id": "fbd9b902",
   "metadata": {},
   "outputs": [
    {
     "name": "stdout",
     "output_type": "stream",
     "text": [
      "Wall time: 3min 38s\n"
     ]
    }
   ],
   "source": [
    "%%time\n",
    "# This code block can take between 2 to 10 minutes\n",
    "\n",
    "# Store the data locations as strings\n",
    "url_basics = 'https://datasets.imdbws.com/title.basics.tsv.gz'\n",
    "url_akas = 'https://datasets.imdbws.com/title.akas.tsv.gz'\n",
    "url_ratings = 'https://datasets.imdbws.com/title.ratings.tsv.gz'\n",
    "\n",
    "# Retrieve the data from online\n",
    "basics = pd.read_csv(url_basics, sep='\\t', low_memory=False)\n",
    "akas = pd.read_csv(url_akas, sep='\\t', low_memory=False)\n",
    "ratings = pd.read_csv(url_ratings, sep='\\t', low_memory=False)"
   ]
  },
  {
   "cell_type": "code",
   "execution_count": 3,
   "id": "ed0d36bc",
   "metadata": {},
   "outputs": [
    {
     "name": "stdout",
     "output_type": "stream",
     "text": [
      "The basics dataframe shape: (8952170, 9)\n",
      "The akas dataframe shape: (32123546, 8)\n",
      "The ratings dataframe shape: (1247906, 3)\n"
     ]
    }
   ],
   "source": [
    "# Display shape information about the data\n",
    "print(f\"The basics dataframe shape: {basics.shape}\")\n",
    "print(f\"The akas dataframe shape: {akas.shape}\")\n",
    "print(f\"The ratings dataframe shape: {ratings.shape}\")"
   ]
  },
  {
   "cell_type": "markdown",
   "id": "0a941aea",
   "metadata": {},
   "source": [
    "# Standardizing Missing Values"
   ]
  },
  {
   "cell_type": "code",
   "execution_count": 4,
   "id": "ba92b56c",
   "metadata": {},
   "outputs": [
    {
     "name": "stdout",
     "output_type": "stream",
     "text": [
      "Wall time: 1min\n"
     ]
    }
   ],
   "source": [
    "%%time\n",
    "# This code block can take around 1 minute\n",
    "\n",
    "# Replace the \\N placeholders with np.nan\n",
    "basics = basics.replace({'\\\\N':np.nan})\n",
    "akas = akas.replace({'\\\\N':np.nan})\n",
    "ratings = ratings.replace({'\\\\N':np.nan})"
   ]
  },
  {
   "cell_type": "markdown",
   "id": "f091ca29",
   "metadata": {},
   "source": [
    "# Filter/Clean Akas DataFrame"
   ]
  },
  {
   "cell_type": "markdown",
   "id": "469fcdb8",
   "metadata": {},
   "source": [
    "Examining some details about the akas dataframe."
   ]
  },
  {
   "cell_type": "code",
   "execution_count": 5,
   "id": "34188709",
   "metadata": {},
   "outputs": [
    {
     "name": "stdout",
     "output_type": "stream",
     "text": [
      "The akas dataframe shape: (32123546, 8)\n",
      "\n",
      "<class 'pandas.core.frame.DataFrame'>\n",
      "RangeIndex: 32123546 entries, 0 to 32123545\n",
      "Data columns (total 8 columns):\n",
      " #   Column           Dtype \n",
      "---  ------           ----- \n",
      " 0   titleId          object\n",
      " 1   ordering         int64 \n",
      " 2   title            object\n",
      " 3   region           object\n",
      " 4   language         object\n",
      " 5   types            object\n",
      " 6   attributes       object\n",
      " 7   isOriginalTitle  object\n",
      "dtypes: int64(1), object(7)\n",
      "memory usage: 1.9+ GB\n"
     ]
    },
    {
     "data": {
      "text/plain": [
       "None"
      ]
     },
     "metadata": {},
     "output_type": "display_data"
    },
    {
     "data": {
      "text/html": [
       "<div>\n",
       "<style scoped>\n",
       "    .dataframe tbody tr th:only-of-type {\n",
       "        vertical-align: middle;\n",
       "    }\n",
       "\n",
       "    .dataframe tbody tr th {\n",
       "        vertical-align: top;\n",
       "    }\n",
       "\n",
       "    .dataframe thead th {\n",
       "        text-align: right;\n",
       "    }\n",
       "</style>\n",
       "<table border=\"1\" class=\"dataframe\">\n",
       "  <thead>\n",
       "    <tr style=\"text-align: right;\">\n",
       "      <th></th>\n",
       "      <th>titleId</th>\n",
       "      <th>ordering</th>\n",
       "      <th>title</th>\n",
       "      <th>region</th>\n",
       "      <th>language</th>\n",
       "      <th>types</th>\n",
       "      <th>attributes</th>\n",
       "      <th>isOriginalTitle</th>\n",
       "    </tr>\n",
       "  </thead>\n",
       "  <tbody>\n",
       "    <tr>\n",
       "      <th>0</th>\n",
       "      <td>tt0000001</td>\n",
       "      <td>1</td>\n",
       "      <td>Карменсіта</td>\n",
       "      <td>UA</td>\n",
       "      <td>NaN</td>\n",
       "      <td>imdbDisplay</td>\n",
       "      <td>NaN</td>\n",
       "      <td>0</td>\n",
       "    </tr>\n",
       "    <tr>\n",
       "      <th>1</th>\n",
       "      <td>tt0000001</td>\n",
       "      <td>2</td>\n",
       "      <td>Carmencita</td>\n",
       "      <td>DE</td>\n",
       "      <td>NaN</td>\n",
       "      <td>NaN</td>\n",
       "      <td>literal title</td>\n",
       "      <td>0</td>\n",
       "    </tr>\n",
       "    <tr>\n",
       "      <th>2</th>\n",
       "      <td>tt0000001</td>\n",
       "      <td>3</td>\n",
       "      <td>Carmencita - spanyol tánc</td>\n",
       "      <td>HU</td>\n",
       "      <td>NaN</td>\n",
       "      <td>imdbDisplay</td>\n",
       "      <td>NaN</td>\n",
       "      <td>0</td>\n",
       "    </tr>\n",
       "    <tr>\n",
       "      <th>3</th>\n",
       "      <td>tt0000001</td>\n",
       "      <td>4</td>\n",
       "      <td>Καρμενσίτα</td>\n",
       "      <td>GR</td>\n",
       "      <td>NaN</td>\n",
       "      <td>imdbDisplay</td>\n",
       "      <td>NaN</td>\n",
       "      <td>0</td>\n",
       "    </tr>\n",
       "    <tr>\n",
       "      <th>4</th>\n",
       "      <td>tt0000001</td>\n",
       "      <td>5</td>\n",
       "      <td>Карменсита</td>\n",
       "      <td>RU</td>\n",
       "      <td>NaN</td>\n",
       "      <td>imdbDisplay</td>\n",
       "      <td>NaN</td>\n",
       "      <td>0</td>\n",
       "    </tr>\n",
       "  </tbody>\n",
       "</table>\n",
       "</div>"
      ],
      "text/plain": [
       "     titleId  ordering                      title region language  \\\n",
       "0  tt0000001         1                 Карменсіта     UA      NaN   \n",
       "1  tt0000001         2                 Carmencita     DE      NaN   \n",
       "2  tt0000001         3  Carmencita - spanyol tánc     HU      NaN   \n",
       "3  tt0000001         4                 Καρμενσίτα     GR      NaN   \n",
       "4  tt0000001         5                 Карменсита     RU      NaN   \n",
       "\n",
       "         types     attributes isOriginalTitle  \n",
       "0  imdbDisplay            NaN               0  \n",
       "1          NaN  literal title               0  \n",
       "2  imdbDisplay            NaN               0  \n",
       "3  imdbDisplay            NaN               0  \n",
       "4  imdbDisplay            NaN               0  "
      ]
     },
     "metadata": {},
     "output_type": "display_data"
    }
   ],
   "source": [
    "print(f'The akas dataframe shape: {akas.shape}\\n')\n",
    "display(akas.info())\n",
    "display(akas.head())"
   ]
  },
  {
   "cell_type": "markdown",
   "id": "1296ab6d",
   "metadata": {},
   "source": [
    "## a) Keep Release Region US\n",
    "\n",
    "The 'region' column will be filtered to contain only the value 'US'."
   ]
  },
  {
   "cell_type": "code",
   "execution_count": 6,
   "id": "bae8ae8f",
   "metadata": {},
   "outputs": [
    {
     "name": "stdout",
     "output_type": "stream",
     "text": [
      "The akas dataframe shape: (32123546, 8)\n",
      "Eliminating entries that are not released in the US.\n",
      "The akas dataframe shape: (1324438, 8)\n"
     ]
    },
    {
     "data": {
      "text/html": [
       "<div>\n",
       "<style scoped>\n",
       "    .dataframe tbody tr th:only-of-type {\n",
       "        vertical-align: middle;\n",
       "    }\n",
       "\n",
       "    .dataframe tbody tr th {\n",
       "        vertical-align: top;\n",
       "    }\n",
       "\n",
       "    .dataframe thead th {\n",
       "        text-align: right;\n",
       "    }\n",
       "</style>\n",
       "<table border=\"1\" class=\"dataframe\">\n",
       "  <thead>\n",
       "    <tr style=\"text-align: right;\">\n",
       "      <th></th>\n",
       "      <th>titleId</th>\n",
       "      <th>ordering</th>\n",
       "      <th>title</th>\n",
       "      <th>region</th>\n",
       "      <th>language</th>\n",
       "      <th>types</th>\n",
       "      <th>attributes</th>\n",
       "      <th>isOriginalTitle</th>\n",
       "    </tr>\n",
       "  </thead>\n",
       "  <tbody>\n",
       "    <tr>\n",
       "      <th>5</th>\n",
       "      <td>tt0000001</td>\n",
       "      <td>6</td>\n",
       "      <td>Carmencita</td>\n",
       "      <td>US</td>\n",
       "      <td>NaN</td>\n",
       "      <td>imdbDisplay</td>\n",
       "      <td>NaN</td>\n",
       "      <td>0</td>\n",
       "    </tr>\n",
       "    <tr>\n",
       "      <th>14</th>\n",
       "      <td>tt0000002</td>\n",
       "      <td>7</td>\n",
       "      <td>The Clown and His Dogs</td>\n",
       "      <td>US</td>\n",
       "      <td>NaN</td>\n",
       "      <td>NaN</td>\n",
       "      <td>literal English title</td>\n",
       "      <td>0</td>\n",
       "    </tr>\n",
       "    <tr>\n",
       "      <th>33</th>\n",
       "      <td>tt0000005</td>\n",
       "      <td>10</td>\n",
       "      <td>Blacksmith Scene</td>\n",
       "      <td>US</td>\n",
       "      <td>NaN</td>\n",
       "      <td>imdbDisplay</td>\n",
       "      <td>NaN</td>\n",
       "      <td>0</td>\n",
       "    </tr>\n",
       "    <tr>\n",
       "      <th>36</th>\n",
       "      <td>tt0000005</td>\n",
       "      <td>1</td>\n",
       "      <td>Blacksmithing Scene</td>\n",
       "      <td>US</td>\n",
       "      <td>NaN</td>\n",
       "      <td>alternative</td>\n",
       "      <td>NaN</td>\n",
       "      <td>0</td>\n",
       "    </tr>\n",
       "    <tr>\n",
       "      <th>41</th>\n",
       "      <td>tt0000005</td>\n",
       "      <td>6</td>\n",
       "      <td>Blacksmith Scene #1</td>\n",
       "      <td>US</td>\n",
       "      <td>NaN</td>\n",
       "      <td>alternative</td>\n",
       "      <td>NaN</td>\n",
       "      <td>0</td>\n",
       "    </tr>\n",
       "  </tbody>\n",
       "</table>\n",
       "</div>"
      ],
      "text/plain": [
       "      titleId  ordering                   title region language        types  \\\n",
       "5   tt0000001         6              Carmencita     US      NaN  imdbDisplay   \n",
       "14  tt0000002         7  The Clown and His Dogs     US      NaN          NaN   \n",
       "33  tt0000005        10        Blacksmith Scene     US      NaN  imdbDisplay   \n",
       "36  tt0000005         1     Blacksmithing Scene     US      NaN  alternative   \n",
       "41  tt0000005         6     Blacksmith Scene #1     US      NaN  alternative   \n",
       "\n",
       "               attributes isOriginalTitle  \n",
       "5                     NaN               0  \n",
       "14  literal English title               0  \n",
       "33                    NaN               0  \n",
       "36                    NaN               0  \n",
       "41                    NaN               0  "
      ]
     },
     "execution_count": 6,
     "metadata": {},
     "output_type": "execute_result"
    }
   ],
   "source": [
    "print(f'The akas dataframe shape: {akas.shape}')\n",
    "\n",
    "print(f'Eliminating entries that are not released in the US.')\n",
    "is_US = (akas['region']=='US')\n",
    "akas = akas.loc[ is_US , :]\n",
    "\n",
    "print(f'The akas dataframe shape: {akas.shape}')\n",
    "akas.head()"
   ]
  },
  {
   "cell_type": "markdown",
   "id": "dd56b25e",
   "metadata": {},
   "source": [
    "## b) Convert Original Title Data Type"
   ]
  },
  {
   "cell_type": "markdown",
   "id": "c60f9fb5",
   "metadata": {},
   "source": [
    "The 'isOriginalTitle' column is object data type, but it should be boolean data type. I will check to see what data values and types are present."
   ]
  },
  {
   "cell_type": "code",
   "execution_count": 7,
   "id": "9f67b0d2",
   "metadata": {},
   "outputs": [
    {
     "name": "stdout",
     "output_type": "stream",
     "text": [
      "['0' nan '1']\n",
      "0      1323054\n",
      "NaN       1375\n",
      "1            9\n",
      "Name: isOriginalTitle, dtype: int64\n",
      "<class 'str'>      1323063\n",
      "<class 'float'>       1375\n",
      "Name: isOriginalTitle, dtype: int64\n"
     ]
    }
   ],
   "source": [
    "print(akas['isOriginalTitle'].unique())\n",
    "print(akas['isOriginalTitle'].value_counts(dropna=False))\n",
    "print(akas['isOriginalTitle'].apply(type).value_counts())"
   ]
  },
  {
   "cell_type": "markdown",
   "id": "28540a07",
   "metadata": {},
   "source": [
    "So, 'isOriginalTitle' does contain string numerical values that can be converted, but nan values are present. Since nan is considered a float, I will convert the string numbers to also be floats."
   ]
  },
  {
   "cell_type": "code",
   "execution_count": 8,
   "id": "4f34baea",
   "metadata": {},
   "outputs": [
    {
     "name": "stdout",
     "output_type": "stream",
     "text": [
      "[ 0. nan  1.]\n",
      "0.0    1323054\n",
      "NaN       1375\n",
      "1.0          9\n",
      "Name: isOriginalTitle, dtype: int64\n",
      "<class 'float'>    1324438\n",
      "Name: isOriginalTitle, dtype: int64\n"
     ]
    }
   ],
   "source": [
    "akas['isOriginalTitle'] = akas['isOriginalTitle'].apply(float)\n",
    "print(akas['isOriginalTitle'].unique())\n",
    "print(akas['isOriginalTitle'].value_counts(dropna=False))\n",
    "print(akas['isOriginalTitle'].apply(type).value_counts())"
   ]
  },
  {
   "cell_type": "code",
   "execution_count": 9,
   "id": "d65aeec5",
   "metadata": {},
   "outputs": [
    {
     "name": "stdout",
     "output_type": "stream",
     "text": [
      "The akas dataframe shape: (1324438, 8)\n",
      "\n",
      "<class 'pandas.core.frame.DataFrame'>\n",
      "Int64Index: 1324438 entries, 5 to 32123290\n",
      "Data columns (total 8 columns):\n",
      " #   Column           Non-Null Count    Dtype  \n",
      "---  ------           --------------    -----  \n",
      " 0   titleId          1324438 non-null  object \n",
      " 1   ordering         1324438 non-null  int64  \n",
      " 2   title            1324438 non-null  object \n",
      " 3   region           1324438 non-null  object \n",
      " 4   language         3545 non-null     object \n",
      " 5   types            1025660 non-null  object \n",
      " 6   attributes       44063 non-null    object \n",
      " 7   isOriginalTitle  1323063 non-null  float64\n",
      "dtypes: float64(1), int64(1), object(6)\n",
      "memory usage: 90.9+ MB\n"
     ]
    },
    {
     "data": {
      "text/plain": [
       "None"
      ]
     },
     "metadata": {},
     "output_type": "display_data"
    },
    {
     "data": {
      "text/html": [
       "<div>\n",
       "<style scoped>\n",
       "    .dataframe tbody tr th:only-of-type {\n",
       "        vertical-align: middle;\n",
       "    }\n",
       "\n",
       "    .dataframe tbody tr th {\n",
       "        vertical-align: top;\n",
       "    }\n",
       "\n",
       "    .dataframe thead th {\n",
       "        text-align: right;\n",
       "    }\n",
       "</style>\n",
       "<table border=\"1\" class=\"dataframe\">\n",
       "  <thead>\n",
       "    <tr style=\"text-align: right;\">\n",
       "      <th></th>\n",
       "      <th>titleId</th>\n",
       "      <th>ordering</th>\n",
       "      <th>title</th>\n",
       "      <th>region</th>\n",
       "      <th>language</th>\n",
       "      <th>types</th>\n",
       "      <th>attributes</th>\n",
       "      <th>isOriginalTitle</th>\n",
       "    </tr>\n",
       "  </thead>\n",
       "  <tbody>\n",
       "    <tr>\n",
       "      <th>5</th>\n",
       "      <td>tt0000001</td>\n",
       "      <td>6</td>\n",
       "      <td>Carmencita</td>\n",
       "      <td>US</td>\n",
       "      <td>NaN</td>\n",
       "      <td>imdbDisplay</td>\n",
       "      <td>NaN</td>\n",
       "      <td>0.0</td>\n",
       "    </tr>\n",
       "    <tr>\n",
       "      <th>14</th>\n",
       "      <td>tt0000002</td>\n",
       "      <td>7</td>\n",
       "      <td>The Clown and His Dogs</td>\n",
       "      <td>US</td>\n",
       "      <td>NaN</td>\n",
       "      <td>NaN</td>\n",
       "      <td>literal English title</td>\n",
       "      <td>0.0</td>\n",
       "    </tr>\n",
       "    <tr>\n",
       "      <th>33</th>\n",
       "      <td>tt0000005</td>\n",
       "      <td>10</td>\n",
       "      <td>Blacksmith Scene</td>\n",
       "      <td>US</td>\n",
       "      <td>NaN</td>\n",
       "      <td>imdbDisplay</td>\n",
       "      <td>NaN</td>\n",
       "      <td>0.0</td>\n",
       "    </tr>\n",
       "    <tr>\n",
       "      <th>36</th>\n",
       "      <td>tt0000005</td>\n",
       "      <td>1</td>\n",
       "      <td>Blacksmithing Scene</td>\n",
       "      <td>US</td>\n",
       "      <td>NaN</td>\n",
       "      <td>alternative</td>\n",
       "      <td>NaN</td>\n",
       "      <td>0.0</td>\n",
       "    </tr>\n",
       "    <tr>\n",
       "      <th>41</th>\n",
       "      <td>tt0000005</td>\n",
       "      <td>6</td>\n",
       "      <td>Blacksmith Scene #1</td>\n",
       "      <td>US</td>\n",
       "      <td>NaN</td>\n",
       "      <td>alternative</td>\n",
       "      <td>NaN</td>\n",
       "      <td>0.0</td>\n",
       "    </tr>\n",
       "  </tbody>\n",
       "</table>\n",
       "</div>"
      ],
      "text/plain": [
       "      titleId  ordering                   title region language        types  \\\n",
       "5   tt0000001         6              Carmencita     US      NaN  imdbDisplay   \n",
       "14  tt0000002         7  The Clown and His Dogs     US      NaN          NaN   \n",
       "33  tt0000005        10        Blacksmith Scene     US      NaN  imdbDisplay   \n",
       "36  tt0000005         1     Blacksmithing Scene     US      NaN  alternative   \n",
       "41  tt0000005         6     Blacksmith Scene #1     US      NaN  alternative   \n",
       "\n",
       "               attributes  isOriginalTitle  \n",
       "5                     NaN              0.0  \n",
       "14  literal English title              0.0  \n",
       "33                    NaN              0.0  \n",
       "36                    NaN              0.0  \n",
       "41                    NaN              0.0  "
      ]
     },
     "metadata": {},
     "output_type": "display_data"
    }
   ],
   "source": [
    "print(f'The akas dataframe shape: {akas.shape}\\n')\n",
    "display(akas.info())\n",
    "display(akas.head())"
   ]
  },
  {
   "cell_type": "markdown",
   "id": "2484c88d",
   "metadata": {},
   "source": [
    "## c) Propagate Filtering to Other Dataframes"
   ]
  },
  {
   "cell_type": "markdown",
   "id": "89b0266b",
   "metadata": {},
   "source": [
    "Only the rows that passed the filtering of the akas dataframe should have corresponding entries in the other dataframes. Those that were dropped should also have their corresponding entries in the other dataframes dropped."
   ]
  },
  {
   "cell_type": "code",
   "execution_count": 10,
   "id": "cb1d4699",
   "metadata": {},
   "outputs": [
    {
     "name": "stdout",
     "output_type": "stream",
     "text": [
      "The basics dataframe shape: (8952170, 9)\n",
      "Eliminating entries that are not in the akas dataframe.\n",
      "The basics dataframe shape: (1242916, 9)\n"
     ]
    },
    {
     "data": {
      "text/html": [
       "<div>\n",
       "<style scoped>\n",
       "    .dataframe tbody tr th:only-of-type {\n",
       "        vertical-align: middle;\n",
       "    }\n",
       "\n",
       "    .dataframe tbody tr th {\n",
       "        vertical-align: top;\n",
       "    }\n",
       "\n",
       "    .dataframe thead th {\n",
       "        text-align: right;\n",
       "    }\n",
       "</style>\n",
       "<table border=\"1\" class=\"dataframe\">\n",
       "  <thead>\n",
       "    <tr style=\"text-align: right;\">\n",
       "      <th></th>\n",
       "      <th>tconst</th>\n",
       "      <th>titleType</th>\n",
       "      <th>primaryTitle</th>\n",
       "      <th>originalTitle</th>\n",
       "      <th>isAdult</th>\n",
       "      <th>startYear</th>\n",
       "      <th>endYear</th>\n",
       "      <th>runtimeMinutes</th>\n",
       "      <th>genres</th>\n",
       "    </tr>\n",
       "  </thead>\n",
       "  <tbody>\n",
       "    <tr>\n",
       "      <th>0</th>\n",
       "      <td>tt0000001</td>\n",
       "      <td>short</td>\n",
       "      <td>Carmencita</td>\n",
       "      <td>Carmencita</td>\n",
       "      <td>0</td>\n",
       "      <td>1894</td>\n",
       "      <td>NaN</td>\n",
       "      <td>1</td>\n",
       "      <td>Documentary,Short</td>\n",
       "    </tr>\n",
       "    <tr>\n",
       "      <th>1</th>\n",
       "      <td>tt0000002</td>\n",
       "      <td>short</td>\n",
       "      <td>Le clown et ses chiens</td>\n",
       "      <td>Le clown et ses chiens</td>\n",
       "      <td>0</td>\n",
       "      <td>1892</td>\n",
       "      <td>NaN</td>\n",
       "      <td>5</td>\n",
       "      <td>Animation,Short</td>\n",
       "    </tr>\n",
       "    <tr>\n",
       "      <th>4</th>\n",
       "      <td>tt0000005</td>\n",
       "      <td>short</td>\n",
       "      <td>Blacksmith Scene</td>\n",
       "      <td>Blacksmith Scene</td>\n",
       "      <td>0</td>\n",
       "      <td>1893</td>\n",
       "      <td>NaN</td>\n",
       "      <td>1</td>\n",
       "      <td>Comedy,Short</td>\n",
       "    </tr>\n",
       "    <tr>\n",
       "      <th>5</th>\n",
       "      <td>tt0000006</td>\n",
       "      <td>short</td>\n",
       "      <td>Chinese Opium Den</td>\n",
       "      <td>Chinese Opium Den</td>\n",
       "      <td>0</td>\n",
       "      <td>1894</td>\n",
       "      <td>NaN</td>\n",
       "      <td>1</td>\n",
       "      <td>Short</td>\n",
       "    </tr>\n",
       "    <tr>\n",
       "      <th>6</th>\n",
       "      <td>tt0000007</td>\n",
       "      <td>short</td>\n",
       "      <td>Corbett and Courtney Before the Kinetograph</td>\n",
       "      <td>Corbett and Courtney Before the Kinetograph</td>\n",
       "      <td>0</td>\n",
       "      <td>1894</td>\n",
       "      <td>NaN</td>\n",
       "      <td>1</td>\n",
       "      <td>Short,Sport</td>\n",
       "    </tr>\n",
       "  </tbody>\n",
       "</table>\n",
       "</div>"
      ],
      "text/plain": [
       "      tconst titleType                                 primaryTitle  \\\n",
       "0  tt0000001     short                                   Carmencita   \n",
       "1  tt0000002     short                       Le clown et ses chiens   \n",
       "4  tt0000005     short                             Blacksmith Scene   \n",
       "5  tt0000006     short                            Chinese Opium Den   \n",
       "6  tt0000007     short  Corbett and Courtney Before the Kinetograph   \n",
       "\n",
       "                                 originalTitle isAdult startYear endYear  \\\n",
       "0                                   Carmencita       0      1894     NaN   \n",
       "1                       Le clown et ses chiens       0      1892     NaN   \n",
       "4                             Blacksmith Scene       0      1893     NaN   \n",
       "5                            Chinese Opium Den       0      1894     NaN   \n",
       "6  Corbett and Courtney Before the Kinetograph       0      1894     NaN   \n",
       "\n",
       "  runtimeMinutes             genres  \n",
       "0              1  Documentary,Short  \n",
       "1              5    Animation,Short  \n",
       "4              1       Comedy,Short  \n",
       "5              1              Short  \n",
       "6              1        Short,Sport  "
      ]
     },
     "execution_count": 10,
     "metadata": {},
     "output_type": "execute_result"
    }
   ],
   "source": [
    "print(f'The basics dataframe shape: {basics.shape}')\n",
    "\n",
    "# Filter out entries from the basics dataframe that are not released in the US\n",
    "print(f'Eliminating entries that are not in the akas dataframe.')\n",
    "basics_matches_akas =  basics['tconst'].isin(akas['titleId'])\n",
    "basics = basics.loc[ basics_matches_akas , :]\n",
    "\n",
    "print(f'The basics dataframe shape: {basics.shape}')\n",
    "basics.head()"
   ]
  },
  {
   "cell_type": "code",
   "execution_count": 11,
   "id": "a38f4263",
   "metadata": {},
   "outputs": [
    {
     "name": "stdout",
     "output_type": "stream",
     "text": [
      "The ratings dataframe shape: (1247906, 3)\n",
      "Eliminating entries that are not in the akas dataframe.\n",
      "The ratings dataframe shape: (471592, 3)\n"
     ]
    },
    {
     "data": {
      "text/html": [
       "<div>\n",
       "<style scoped>\n",
       "    .dataframe tbody tr th:only-of-type {\n",
       "        vertical-align: middle;\n",
       "    }\n",
       "\n",
       "    .dataframe tbody tr th {\n",
       "        vertical-align: top;\n",
       "    }\n",
       "\n",
       "    .dataframe thead th {\n",
       "        text-align: right;\n",
       "    }\n",
       "</style>\n",
       "<table border=\"1\" class=\"dataframe\">\n",
       "  <thead>\n",
       "    <tr style=\"text-align: right;\">\n",
       "      <th></th>\n",
       "      <th>tconst</th>\n",
       "      <th>averageRating</th>\n",
       "      <th>numVotes</th>\n",
       "    </tr>\n",
       "  </thead>\n",
       "  <tbody>\n",
       "    <tr>\n",
       "      <th>0</th>\n",
       "      <td>tt0000001</td>\n",
       "      <td>5.7</td>\n",
       "      <td>1882</td>\n",
       "    </tr>\n",
       "    <tr>\n",
       "      <th>1</th>\n",
       "      <td>tt0000002</td>\n",
       "      <td>5.9</td>\n",
       "      <td>250</td>\n",
       "    </tr>\n",
       "    <tr>\n",
       "      <th>4</th>\n",
       "      <td>tt0000005</td>\n",
       "      <td>6.2</td>\n",
       "      <td>2488</td>\n",
       "    </tr>\n",
       "    <tr>\n",
       "      <th>5</th>\n",
       "      <td>tt0000006</td>\n",
       "      <td>5.2</td>\n",
       "      <td>166</td>\n",
       "    </tr>\n",
       "    <tr>\n",
       "      <th>6</th>\n",
       "      <td>tt0000007</td>\n",
       "      <td>5.4</td>\n",
       "      <td>773</td>\n",
       "    </tr>\n",
       "  </tbody>\n",
       "</table>\n",
       "</div>"
      ],
      "text/plain": [
       "      tconst  averageRating  numVotes\n",
       "0  tt0000001            5.7      1882\n",
       "1  tt0000002            5.9       250\n",
       "4  tt0000005            6.2      2488\n",
       "5  tt0000006            5.2       166\n",
       "6  tt0000007            5.4       773"
      ]
     },
     "execution_count": 11,
     "metadata": {},
     "output_type": "execute_result"
    }
   ],
   "source": [
    "print(f'The ratings dataframe shape: {ratings.shape}')\n",
    "\n",
    "# Filter out entries from the basics dataframe that are not released in the US\n",
    "print(f'Eliminating entries that are not in the akas dataframe.')\n",
    "ratings_matches_akas =  ratings['tconst'].isin(akas['titleId'])\n",
    "ratings = ratings.loc[ ratings_matches_akas , :]\n",
    "\n",
    "print(f'The ratings dataframe shape: {ratings.shape}')\n",
    "ratings.head()"
   ]
  },
  {
   "cell_type": "markdown",
   "id": "49bd197d",
   "metadata": {},
   "source": [
    "# Filter/Clean the Basics Dataframe"
   ]
  },
  {
   "cell_type": "markdown",
   "id": "4cd1db6e",
   "metadata": {},
   "source": [
    "Examining some details about the basics dataframe."
   ]
  },
  {
   "cell_type": "code",
   "execution_count": 12,
   "id": "e74c35af",
   "metadata": {},
   "outputs": [
    {
     "name": "stdout",
     "output_type": "stream",
     "text": [
      "The basics dataframe shape: (1242916, 9)\n",
      "\n",
      "<class 'pandas.core.frame.DataFrame'>\n",
      "Int64Index: 1242916 entries, 0 to 8952125\n",
      "Data columns (total 9 columns):\n",
      " #   Column          Non-Null Count    Dtype \n",
      "---  ------          --------------    ----- \n",
      " 0   tconst          1242916 non-null  object\n",
      " 1   titleType       1242916 non-null  object\n",
      " 2   primaryTitle    1242916 non-null  object\n",
      " 3   originalTitle   1242916 non-null  object\n",
      " 4   isAdult         1242916 non-null  object\n",
      " 5   startYear       1160598 non-null  object\n",
      " 6   endYear         31136 non-null    object\n",
      " 7   runtimeMinutes  787379 non-null   object\n",
      " 8   genres          1215844 non-null  object\n",
      "dtypes: object(9)\n",
      "memory usage: 94.8+ MB\n"
     ]
    },
    {
     "data": {
      "text/plain": [
       "None"
      ]
     },
     "metadata": {},
     "output_type": "display_data"
    },
    {
     "data": {
      "text/html": [
       "<div>\n",
       "<style scoped>\n",
       "    .dataframe tbody tr th:only-of-type {\n",
       "        vertical-align: middle;\n",
       "    }\n",
       "\n",
       "    .dataframe tbody tr th {\n",
       "        vertical-align: top;\n",
       "    }\n",
       "\n",
       "    .dataframe thead th {\n",
       "        text-align: right;\n",
       "    }\n",
       "</style>\n",
       "<table border=\"1\" class=\"dataframe\">\n",
       "  <thead>\n",
       "    <tr style=\"text-align: right;\">\n",
       "      <th></th>\n",
       "      <th>tconst</th>\n",
       "      <th>titleType</th>\n",
       "      <th>primaryTitle</th>\n",
       "      <th>originalTitle</th>\n",
       "      <th>isAdult</th>\n",
       "      <th>startYear</th>\n",
       "      <th>endYear</th>\n",
       "      <th>runtimeMinutes</th>\n",
       "      <th>genres</th>\n",
       "    </tr>\n",
       "  </thead>\n",
       "  <tbody>\n",
       "    <tr>\n",
       "      <th>0</th>\n",
       "      <td>tt0000001</td>\n",
       "      <td>short</td>\n",
       "      <td>Carmencita</td>\n",
       "      <td>Carmencita</td>\n",
       "      <td>0</td>\n",
       "      <td>1894</td>\n",
       "      <td>NaN</td>\n",
       "      <td>1</td>\n",
       "      <td>Documentary,Short</td>\n",
       "    </tr>\n",
       "    <tr>\n",
       "      <th>1</th>\n",
       "      <td>tt0000002</td>\n",
       "      <td>short</td>\n",
       "      <td>Le clown et ses chiens</td>\n",
       "      <td>Le clown et ses chiens</td>\n",
       "      <td>0</td>\n",
       "      <td>1892</td>\n",
       "      <td>NaN</td>\n",
       "      <td>5</td>\n",
       "      <td>Animation,Short</td>\n",
       "    </tr>\n",
       "    <tr>\n",
       "      <th>4</th>\n",
       "      <td>tt0000005</td>\n",
       "      <td>short</td>\n",
       "      <td>Blacksmith Scene</td>\n",
       "      <td>Blacksmith Scene</td>\n",
       "      <td>0</td>\n",
       "      <td>1893</td>\n",
       "      <td>NaN</td>\n",
       "      <td>1</td>\n",
       "      <td>Comedy,Short</td>\n",
       "    </tr>\n",
       "    <tr>\n",
       "      <th>5</th>\n",
       "      <td>tt0000006</td>\n",
       "      <td>short</td>\n",
       "      <td>Chinese Opium Den</td>\n",
       "      <td>Chinese Opium Den</td>\n",
       "      <td>0</td>\n",
       "      <td>1894</td>\n",
       "      <td>NaN</td>\n",
       "      <td>1</td>\n",
       "      <td>Short</td>\n",
       "    </tr>\n",
       "    <tr>\n",
       "      <th>6</th>\n",
       "      <td>tt0000007</td>\n",
       "      <td>short</td>\n",
       "      <td>Corbett and Courtney Before the Kinetograph</td>\n",
       "      <td>Corbett and Courtney Before the Kinetograph</td>\n",
       "      <td>0</td>\n",
       "      <td>1894</td>\n",
       "      <td>NaN</td>\n",
       "      <td>1</td>\n",
       "      <td>Short,Sport</td>\n",
       "    </tr>\n",
       "  </tbody>\n",
       "</table>\n",
       "</div>"
      ],
      "text/plain": [
       "      tconst titleType                                 primaryTitle  \\\n",
       "0  tt0000001     short                                   Carmencita   \n",
       "1  tt0000002     short                       Le clown et ses chiens   \n",
       "4  tt0000005     short                             Blacksmith Scene   \n",
       "5  tt0000006     short                            Chinese Opium Den   \n",
       "6  tt0000007     short  Corbett and Courtney Before the Kinetograph   \n",
       "\n",
       "                                 originalTitle isAdult startYear endYear  \\\n",
       "0                                   Carmencita       0      1894     NaN   \n",
       "1                       Le clown et ses chiens       0      1892     NaN   \n",
       "4                             Blacksmith Scene       0      1893     NaN   \n",
       "5                            Chinese Opium Den       0      1894     NaN   \n",
       "6  Corbett and Courtney Before the Kinetograph       0      1894     NaN   \n",
       "\n",
       "  runtimeMinutes             genres  \n",
       "0              1  Documentary,Short  \n",
       "1              5    Animation,Short  \n",
       "4              1       Comedy,Short  \n",
       "5              1              Short  \n",
       "6              1        Short,Sport  "
      ]
     },
     "metadata": {},
     "output_type": "display_data"
    }
   ],
   "source": [
    "print(f'The basics dataframe shape: {basics.shape}\\n')\n",
    "display(basics.info())\n",
    "display(basics.head())"
   ]
  },
  {
   "cell_type": "markdown",
   "id": "2a3fcab9",
   "metadata": {},
   "source": [
    "## a) Drop Genre Missing Values"
   ]
  },
  {
   "cell_type": "code",
   "execution_count": 13,
   "id": "2936519f",
   "metadata": {},
   "outputs": [
    {
     "name": "stdout",
     "output_type": "stream",
     "text": [
      "The basics dataframe shape: (1242916, 9)\n",
      "There are 27072 missing values in 'genres'\n",
      "Eliminating entries that are missing genre.\n",
      "The basics dataframe shape: (1215844, 9)\n",
      "There are 0 missing values in 'genres'\n"
     ]
    }
   ],
   "source": [
    "# Removing movies with missing values for genre\n",
    "print(f\"The basics dataframe shape: {basics.shape}\")\n",
    "print(f\"There are {basics['genres'].isna().sum()} missing values in 'genres'\")\n",
    "\n",
    "has_genres = ~basics['genres'].isna()\n",
    "\n",
    "print(f\"Eliminating entries that are missing genre.\")\n",
    "basics = basics.loc[ (has_genres) , : ]\n",
    "\n",
    "print(f\"The basics dataframe shape: {basics.shape}\")\n",
    "print(f\"There are {basics['genres'].isna().sum()} missing values in 'genres'\")"
   ]
  },
  {
   "cell_type": "markdown",
   "id": "6fde0212",
   "metadata": {},
   "source": [
    "## c) Drop Genre 'Documentary'"
   ]
  },
  {
   "cell_type": "code",
   "execution_count": 14,
   "id": "79cfe607",
   "metadata": {},
   "outputs": [],
   "source": [
    "# Because each entry can contain multiple genres,\n",
    "# some extra steps are needed to split out each unique genre\n",
    "\n",
    "def splitter(n):\n",
    "    return n.split(\",\")"
   ]
  },
  {
   "cell_type": "code",
   "execution_count": 15,
   "id": "e7eed042",
   "metadata": {},
   "outputs": [
    {
     "name": "stdout",
     "output_type": "stream",
     "text": [
      "There are 28 genres represented in 'genres'\n"
     ]
    },
    {
     "data": {
      "text/plain": [
       "['Reality-TV',\n",
       " 'History',\n",
       " 'Fantasy',\n",
       " 'Game-Show',\n",
       " 'Crime',\n",
       " 'Adult',\n",
       " 'Musical',\n",
       " 'Horror',\n",
       " 'Adventure',\n",
       " 'Talk-Show',\n",
       " 'Comedy',\n",
       " 'Drama',\n",
       " 'Family',\n",
       " 'Thriller',\n",
       " 'Sport',\n",
       " 'War',\n",
       " 'Documentary',\n",
       " 'Action',\n",
       " 'News',\n",
       " 'Film-Noir',\n",
       " 'Romance',\n",
       " 'Short',\n",
       " 'Western',\n",
       " 'Mystery',\n",
       " 'Music',\n",
       " 'Sci-Fi',\n",
       " 'Animation',\n",
       " 'Biography']"
      ]
     },
     "execution_count": 15,
     "metadata": {},
     "output_type": "execute_result"
    }
   ],
   "source": [
    "# Find all the genres present in the basics dataframe\n",
    "genre_list = list(set(list(np.concatenate(list(map( splitter , basics['genres'].unique().tolist() ))).flat)))\n",
    "\n",
    "print(f\"There are {len(genre_list)} genres represented in 'genres'\")\n",
    "genre_list"
   ]
  },
  {
   "cell_type": "markdown",
   "id": "03dd2eea",
   "metadata": {},
   "source": [
    "The 'Documentary' genre is present. All releases with a 'Documentary' designation will be dropped from the dataframe."
   ]
  },
  {
   "cell_type": "code",
   "execution_count": 16,
   "id": "c414519c",
   "metadata": {},
   "outputs": [
    {
     "name": "stdout",
     "output_type": "stream",
     "text": [
      "The basics dataframe shape: (1215844, 9)\n",
      "Eliminating entries that are documentaries\n",
      "The basics dataframe shape: (1056414, 9)\n"
     ]
    }
   ],
   "source": [
    "# Removing rows with a sub-string value 'Documentary'\n",
    "print(f'The basics dataframe shape: {basics.shape}')\n",
    "print(f'Eliminating entries that are documentaries')\n",
    "\n",
    "is_documentary = basics['genres'].str.contains('Documentary', case=False)\n",
    "# note: case parameter means case-sensitive spelling\n",
    "\n",
    "basics = basics.loc[ ~is_documentary , :]\n",
    "\n",
    "print(f'The basics dataframe shape: {basics.shape}')"
   ]
  },
  {
   "cell_type": "code",
   "execution_count": 17,
   "id": "34b7326b",
   "metadata": {},
   "outputs": [
    {
     "name": "stdout",
     "output_type": "stream",
     "text": [
      "There are 27 genres represented in 'genres'\n"
     ]
    },
    {
     "data": {
      "text/plain": [
       "['Reality-TV',\n",
       " 'History',\n",
       " 'Fantasy',\n",
       " 'Game-Show',\n",
       " 'Crime',\n",
       " 'Adult',\n",
       " 'Musical',\n",
       " 'Horror',\n",
       " 'Adventure',\n",
       " 'Talk-Show',\n",
       " 'Comedy',\n",
       " 'Drama',\n",
       " 'Family',\n",
       " 'Thriller',\n",
       " 'Sport',\n",
       " 'War',\n",
       " 'Action',\n",
       " 'News',\n",
       " 'Film-Noir',\n",
       " 'Romance',\n",
       " 'Short',\n",
       " 'Western',\n",
       " 'Mystery',\n",
       " 'Music',\n",
       " 'Sci-Fi',\n",
       " 'Animation',\n",
       " 'Biography']"
      ]
     },
     "execution_count": 17,
     "metadata": {},
     "output_type": "execute_result"
    }
   ],
   "source": [
    "# Re-evaluate the genre_list\n",
    "\n",
    "genre_list = list(set(list(np.concatenate(list(map( splitter , basics['genres'].unique().tolist() ))).flat)))\n",
    "\n",
    "print(f\"There are {len(genre_list)} genres represented in 'genres'\")\n",
    "genre_list"
   ]
  },
  {
   "cell_type": "markdown",
   "id": "62508960",
   "metadata": {},
   "source": [
    "The value 'Documentary' is no longer present."
   ]
  },
  {
   "cell_type": "markdown",
   "id": "1828d34c",
   "metadata": {},
   "source": [
    "## b) Drop Runtime Missing Values"
   ]
  },
  {
   "cell_type": "code",
   "execution_count": 18,
   "id": "37f93566",
   "metadata": {},
   "outputs": [
    {
     "name": "stdout",
     "output_type": "stream",
     "text": [
      "The basics dataframe shape: (1056414, 9)\n",
      "There are 393987 missing values in 'runtimeMinutes'\n",
      "Eliminating entries that are missing runtime.\n",
      "The basics dataframe shape: (662427, 9)\n",
      "There are 0 missing values in 'runtimeMinutes'\n"
     ]
    }
   ],
   "source": [
    "# Removing movies with missing values for genre or runtime\n",
    "print(f\"The basics dataframe shape: {basics.shape}\")\n",
    "print(f\"There are {basics['runtimeMinutes'].isna().sum()} missing values in 'runtimeMinutes'\")\n",
    "\n",
    "has_runtimeMinutes = ~basics['runtimeMinutes'].isna()\n",
    "\n",
    "print(f\"Eliminating entries that are missing runtime.\")\n",
    "basics = basics.loc[ (has_runtimeMinutes) , : ]\n",
    "\n",
    "print(f\"The basics dataframe shape: {basics.shape}\")\n",
    "print(f\"There are {basics['runtimeMinutes'].isna().sum()} missing values in 'runtimeMinutes'\")"
   ]
  },
  {
   "cell_type": "markdown",
   "id": "da762692",
   "metadata": {},
   "source": [
    "## c) Convert Runtime Data Type"
   ]
  },
  {
   "cell_type": "markdown",
   "id": "41ae6ffe",
   "metadata": {},
   "source": [
    "The 'runtimeMinutes' values are supposed to be integers. The column was object type before dropping the nan values. Now that the nan values (floats) have been eliminated, I will inspect it again."
   ]
  },
  {
   "cell_type": "code",
   "execution_count": 19,
   "id": "c98128cf",
   "metadata": {},
   "outputs": [
    {
     "name": "stdout",
     "output_type": "stream",
     "text": [
      "<class 'str'>    662427\n",
      "Name: runtimeMinutes, dtype: int64\n"
     ]
    }
   ],
   "source": [
    "print(basics['runtimeMinutes'].apply(type).value_counts())"
   ]
  },
  {
   "cell_type": "code",
   "execution_count": 20,
   "id": "408c00c3",
   "metadata": {},
   "outputs": [
    {
     "name": "stdout",
     "output_type": "stream",
     "text": [
      "The basics dataframe shape: (662427, 9)\n",
      "<class 'pandas.core.frame.DataFrame'>\n",
      "Int64Index: 662427 entries, 1 to 8952106\n",
      "Data columns (total 9 columns):\n",
      " #   Column          Non-Null Count   Dtype \n",
      "---  ------          --------------   ----- \n",
      " 0   tconst          662427 non-null  object\n",
      " 1   titleType       662427 non-null  object\n",
      " 2   primaryTitle    662427 non-null  object\n",
      " 3   originalTitle   662427 non-null  object\n",
      " 4   isAdult         662427 non-null  object\n",
      " 5   startYear       656868 non-null  object\n",
      " 6   endYear         15646 non-null   object\n",
      " 7   runtimeMinutes  662427 non-null  int64 \n",
      " 8   genres          662427 non-null  object\n",
      "dtypes: int64(1), object(8)\n",
      "memory usage: 50.5+ MB\n"
     ]
    },
    {
     "data": {
      "text/plain": [
       "None"
      ]
     },
     "metadata": {},
     "output_type": "display_data"
    }
   ],
   "source": [
    "basics['runtimeMinutes'] = basics['runtimeMinutes'].apply(int)\n",
    "print(f'The basics dataframe shape: {basics.shape}')\n",
    "display(basics.info())"
   ]
  },
  {
   "cell_type": "markdown",
   "id": "f83f42d5",
   "metadata": {},
   "source": [
    "## b) Keep Full-Length Movies"
   ]
  },
  {
   "cell_type": "code",
   "execution_count": 21,
   "id": "b2b53c4c",
   "metadata": {},
   "outputs": [
    {
     "name": "stdout",
     "output_type": "stream",
     "text": [
      "There are 10 unique values in 'titleType'\n"
     ]
    },
    {
     "data": {
      "text/plain": [
       "['short',\n",
       " 'movie',\n",
       " 'tvEpisode',\n",
       " 'tvSeries',\n",
       " 'tvMovie',\n",
       " 'tvShort',\n",
       " 'tvMiniSeries',\n",
       " 'tvSpecial',\n",
       " 'video',\n",
       " 'videoGame']"
      ]
     },
     "execution_count": 21,
     "metadata": {},
     "output_type": "execute_result"
    }
   ],
   "source": [
    "print(f\"There are {basics['titleType'].nunique()} unique values in 'titleType'\")\n",
    "basics['titleType'].unique().tolist()"
   ]
  },
  {
   "cell_type": "code",
   "execution_count": 22,
   "id": "61cd38c7",
   "metadata": {},
   "outputs": [
    {
     "name": "stdout",
     "output_type": "stream",
     "text": [
      "The basics dataframe shape: (662427, 9)\n",
      "Eliminating entries that are not full-length movies.\n",
      "The basics dataframe shape: (150742, 9)\n"
     ]
    }
   ],
   "source": [
    "# Removing releases without type 'movie'\n",
    "print(f'The basics dataframe shape: {basics.shape}')\n",
    "\n",
    "print(f'Eliminating entries that are not full-length movies.')\n",
    "is_movie = (basics['titleType'] == 'movie')\n",
    "basics = basics.loc[ is_movie , : ]\n",
    "\n",
    "print(f'The basics dataframe shape: {basics.shape}')"
   ]
  },
  {
   "cell_type": "code",
   "execution_count": 23,
   "id": "4c7b1129",
   "metadata": {},
   "outputs": [
    {
     "name": "stdout",
     "output_type": "stream",
     "text": [
      "There are 1 unique values in 'titleType'\n"
     ]
    },
    {
     "data": {
      "text/plain": [
       "['movie']"
      ]
     },
     "execution_count": 23,
     "metadata": {},
     "output_type": "execute_result"
    }
   ],
   "source": [
    "print(f\"There are {basics['titleType'].nunique()} unique values in 'titleType'\")\n",
    "basics['titleType'].unique().tolist()"
   ]
  },
  {
   "cell_type": "markdown",
   "id": "546eeb23",
   "metadata": {},
   "source": [
    "## d) Keep Release Years 2000-2021"
   ]
  },
  {
   "cell_type": "markdown",
   "id": "600462e2",
   "metadata": {},
   "source": [
    "The 'startYear' column is of the object data type, so the values should be checked. Ideally, the years are integers. Because np.nan values are floats, I will convert any string numbers to floats to avoid an error in trying to convert np.nan values to integers."
   ]
  },
  {
   "cell_type": "code",
   "execution_count": 24,
   "id": "db979781",
   "metadata": {},
   "outputs": [
    {
     "name": "stdout",
     "output_type": "stream",
     "text": [
      "The basics dataframe has 2088 null startYear values.\n",
      "\n",
      "The basics dataframe:\n",
      "<class 'str'>      148654\n",
      "<class 'float'>      2088\n",
      "Name: startYear, dtype: int64\n",
      "\n",
      "Null values constitute 1.39% of the basics dataframe\n",
      "The range of years is 1903.0 through 2027.0\n"
     ]
    }
   ],
   "source": [
    "startYear_null_count = basics['startYear'].isna().sum()\n",
    "startYear_null_percent = 100*startYear_null_count/basics.shape[0]\n",
    "startYear_min = basics['startYear'].apply(float).min()\n",
    "startYear_max = basics['startYear'].apply(float).max()\n",
    "\n",
    "print(f\"The basics dataframe has {startYear_null_count} null startYear values.\")\n",
    "print(f\"\\nThe basics dataframe:\")\n",
    "print(basics['startYear'].apply(type).value_counts())\n",
    "print(f\"\\nNull values constitute {startYear_null_percent:.2f}% of the basics dataframe\")\n",
    "print(f\"The range of years is {startYear_min} through {startYear_max}\")"
   ]
  },
  {
   "cell_type": "markdown",
   "id": "4e08d9a2",
   "metadata": {},
   "source": [
    "I will drop the null values. They constitute less than 2% of the movies. Imputing any values could potentially be misleading, as characteristics of successful movies have changed in the past century.\n",
    "\n",
    "By filtering the 'startYear' by inequalities, the np.nan values will be filtered out as they not less than or greater then a numerical value."
   ]
  },
  {
   "cell_type": "code",
   "execution_count": 25,
   "id": "2bab287c",
   "metadata": {},
   "outputs": [
    {
     "name": "stdout",
     "output_type": "stream",
     "text": [
      "The basics dataframe shape: (150742, 9)\n",
      "Eliminating entries that before the year 2000.\n",
      "Eliminating entries that are after the year 2021.\n",
      "The basics dataframe shape: (79294, 9)\n"
     ]
    }
   ],
   "source": [
    "print(f'The basics dataframe shape: {basics.shape}')\n",
    "print(f'Eliminating entries that before the year 2000.')\n",
    "print(f'Eliminating entries that are after the year 2021.')\n",
    "\n",
    "is_year_before_now = (basics['startYear'].apply(float) <= 2021)\n",
    "is_year_since_2000 = (basics['startYear'].apply(float) >= 2000)\n",
    "\n",
    "basics = basics.loc[ is_year_before_now & is_year_since_2000, : ]\n",
    "\n",
    "print(f'The basics dataframe shape: {basics.shape}')"
   ]
  },
  {
   "cell_type": "markdown",
   "id": "4443be1c",
   "metadata": {},
   "source": [
    "Since all the remaining values should be integers, I can convert their datatype to match."
   ]
  },
  {
   "cell_type": "code",
   "execution_count": 26,
   "id": "19c201ed",
   "metadata": {},
   "outputs": [
    {
     "name": "stdout",
     "output_type": "stream",
     "text": [
      "There are 22 years in 'startYear'\n"
     ]
    },
    {
     "data": {
      "text/plain": [
       "[2000,\n",
       " 2001,\n",
       " 2002,\n",
       " 2003,\n",
       " 2004,\n",
       " 2005,\n",
       " 2006,\n",
       " 2007,\n",
       " 2008,\n",
       " 2009,\n",
       " 2010,\n",
       " 2011,\n",
       " 2012,\n",
       " 2013,\n",
       " 2014,\n",
       " 2015,\n",
       " 2016,\n",
       " 2017,\n",
       " 2018,\n",
       " 2019,\n",
       " 2020,\n",
       " 2021]"
      ]
     },
     "execution_count": 26,
     "metadata": {},
     "output_type": "execute_result"
    }
   ],
   "source": [
    "basics['startYear'] = basics['startYear'].apply(int)\n",
    "\n",
    "print(f\"There are {basics['startYear'].nunique()} years in 'startYear'\")\n",
    "basics['startYear'].sort_values().unique().tolist()"
   ]
  },
  {
   "cell_type": "code",
   "execution_count": 27,
   "id": "aea91112",
   "metadata": {},
   "outputs": [
    {
     "name": "stdout",
     "output_type": "stream",
     "text": [
      "The basics dataframe shape: (79294, 9)\n",
      "<class 'pandas.core.frame.DataFrame'>\n",
      "Int64Index: 79294 entries, 34805 to 8951935\n",
      "Data columns (total 9 columns):\n",
      " #   Column          Non-Null Count  Dtype \n",
      "---  ------          --------------  ----- \n",
      " 0   tconst          79294 non-null  object\n",
      " 1   titleType       79294 non-null  object\n",
      " 2   primaryTitle    79294 non-null  object\n",
      " 3   originalTitle   79294 non-null  object\n",
      " 4   isAdult         79294 non-null  object\n",
      " 5   startYear       79294 non-null  int64 \n",
      " 6   endYear         0 non-null      object\n",
      " 7   runtimeMinutes  79294 non-null  int64 \n",
      " 8   genres          79294 non-null  object\n",
      "dtypes: int64(2), object(7)\n",
      "memory usage: 6.0+ MB\n"
     ]
    },
    {
     "data": {
      "text/plain": [
       "None"
      ]
     },
     "metadata": {},
     "output_type": "display_data"
    }
   ],
   "source": [
    "print(f'The basics dataframe shape: {basics.shape}')\n",
    "display(basics.info())"
   ]
  },
  {
   "cell_type": "markdown",
   "id": "46b89956",
   "metadata": {},
   "source": [
    "## f) Convert Adult Data Type"
   ]
  },
  {
   "cell_type": "markdown",
   "id": "de2cf33b",
   "metadata": {},
   "source": [
    "The 'isAdult' column is object type, but it is suppose to contain boolean values."
   ]
  },
  {
   "cell_type": "code",
   "execution_count": 28,
   "id": "fdd7acf9",
   "metadata": {},
   "outputs": [
    {
     "data": {
      "text/plain": [
       "array(['0', '1'], dtype=object)"
      ]
     },
     "execution_count": 28,
     "metadata": {},
     "output_type": "execute_result"
    }
   ],
   "source": [
    "basics['isAdult'].unique()"
   ]
  },
  {
   "cell_type": "markdown",
   "id": "dc788619",
   "metadata": {},
   "source": [
    "Since there are no nan values, I can convert the values easily to integers."
   ]
  },
  {
   "cell_type": "code",
   "execution_count": 29,
   "id": "3c045e0b",
   "metadata": {},
   "outputs": [],
   "source": [
    "basics['isAdult'] = basics['isAdult'].apply(int)"
   ]
  },
  {
   "cell_type": "code",
   "execution_count": 30,
   "id": "f00e74ae",
   "metadata": {},
   "outputs": [
    {
     "name": "stdout",
     "output_type": "stream",
     "text": [
      "The basics dataframe shape: (79294, 9)\n",
      "<class 'pandas.core.frame.DataFrame'>\n",
      "Int64Index: 79294 entries, 34805 to 8951935\n",
      "Data columns (total 9 columns):\n",
      " #   Column          Non-Null Count  Dtype \n",
      "---  ------          --------------  ----- \n",
      " 0   tconst          79294 non-null  object\n",
      " 1   titleType       79294 non-null  object\n",
      " 2   primaryTitle    79294 non-null  object\n",
      " 3   originalTitle   79294 non-null  object\n",
      " 4   isAdult         79294 non-null  int64 \n",
      " 5   startYear       79294 non-null  int64 \n",
      " 6   endYear         0 non-null      object\n",
      " 7   runtimeMinutes  79294 non-null  int64 \n",
      " 8   genres          79294 non-null  object\n",
      "dtypes: int64(3), object(6)\n",
      "memory usage: 6.0+ MB\n"
     ]
    },
    {
     "data": {
      "text/plain": [
       "None"
      ]
     },
     "metadata": {},
     "output_type": "display_data"
    }
   ],
   "source": [
    "print(f'The basics dataframe shape: {basics.shape}')\n",
    "display(basics.info())"
   ]
  },
  {
   "cell_type": "markdown",
   "id": "56ec10fc",
   "metadata": {},
   "source": [
    "## g) Drop End Year Column"
   ]
  },
  {
   "cell_type": "markdown",
   "id": "9d5579d6",
   "metadata": {},
   "source": [
    "The 'endYear' column is suppose to contain years."
   ]
  },
  {
   "cell_type": "code",
   "execution_count": 31,
   "id": "bea03a84",
   "metadata": {},
   "outputs": [
    {
     "data": {
      "text/plain": [
       "array([nan], dtype=object)"
      ]
     },
     "execution_count": 31,
     "metadata": {},
     "output_type": "execute_result"
    }
   ],
   "source": [
    "basics['endYear'].unique()"
   ]
  },
  {
   "cell_type": "markdown",
   "id": "a04b72ab",
   "metadata": {},
   "source": [
    "However, it only contains nan values; it is completely empty. So I will drop this column."
   ]
  },
  {
   "cell_type": "code",
   "execution_count": 32,
   "id": "8f659d99",
   "metadata": {},
   "outputs": [
    {
     "name": "stdout",
     "output_type": "stream",
     "text": [
      "The basics dataframe shape: (79294, 8)\n",
      "<class 'pandas.core.frame.DataFrame'>\n",
      "Int64Index: 79294 entries, 34805 to 8951935\n",
      "Data columns (total 8 columns):\n",
      " #   Column          Non-Null Count  Dtype \n",
      "---  ------          --------------  ----- \n",
      " 0   tconst          79294 non-null  object\n",
      " 1   titleType       79294 non-null  object\n",
      " 2   primaryTitle    79294 non-null  object\n",
      " 3   originalTitle   79294 non-null  object\n",
      " 4   isAdult         79294 non-null  int64 \n",
      " 5   startYear       79294 non-null  int64 \n",
      " 6   runtimeMinutes  79294 non-null  int64 \n",
      " 7   genres          79294 non-null  object\n",
      "dtypes: int64(3), object(5)\n",
      "memory usage: 5.4+ MB\n"
     ]
    },
    {
     "data": {
      "text/plain": [
       "None"
      ]
     },
     "metadata": {},
     "output_type": "display_data"
    }
   ],
   "source": [
    "basics = basics.drop(columns=['endYear'])\n",
    "print(f'The basics dataframe shape: {basics.shape}')\n",
    "display(basics.info())"
   ]
  },
  {
   "cell_type": "markdown",
   "id": "ac9ffe11",
   "metadata": {},
   "source": [
    "## h) Propagate Filtering to Other Dataframes"
   ]
  },
  {
   "cell_type": "markdown",
   "id": "8ccbac80",
   "metadata": {},
   "source": [
    "Only the rows that passed the filtering of the basics dataframe should have corresponding entries in the other dataframes. Those that were dropped should also have their corresponding entries in the other dataframes dropped."
   ]
  },
  {
   "cell_type": "code",
   "execution_count": 33,
   "id": "afffb8e9",
   "metadata": {},
   "outputs": [
    {
     "name": "stdout",
     "output_type": "stream",
     "text": [
      "The akas dataframe shape: (1324438, 8)\n",
      "Eliminating entries that are not in the basics dataframe.\n",
      "The akas dataframe shape: (88441, 8)\n"
     ]
    },
    {
     "data": {
      "text/html": [
       "<div>\n",
       "<style scoped>\n",
       "    .dataframe tbody tr th:only-of-type {\n",
       "        vertical-align: middle;\n",
       "    }\n",
       "\n",
       "    .dataframe tbody tr th {\n",
       "        vertical-align: top;\n",
       "    }\n",
       "\n",
       "    .dataframe thead th {\n",
       "        text-align: right;\n",
       "    }\n",
       "</style>\n",
       "<table border=\"1\" class=\"dataframe\">\n",
       "  <thead>\n",
       "    <tr style=\"text-align: right;\">\n",
       "      <th></th>\n",
       "      <th>titleId</th>\n",
       "      <th>ordering</th>\n",
       "      <th>title</th>\n",
       "      <th>region</th>\n",
       "      <th>language</th>\n",
       "      <th>types</th>\n",
       "      <th>attributes</th>\n",
       "      <th>isOriginalTitle</th>\n",
       "    </tr>\n",
       "  </thead>\n",
       "  <tbody>\n",
       "    <tr>\n",
       "      <th>193605</th>\n",
       "      <td>tt0035423</td>\n",
       "      <td>35</td>\n",
       "      <td>Kate and Leopold</td>\n",
       "      <td>US</td>\n",
       "      <td>NaN</td>\n",
       "      <td>NaN</td>\n",
       "      <td>alternative spelling</td>\n",
       "      <td>0.0</td>\n",
       "    </tr>\n",
       "    <tr>\n",
       "      <th>193607</th>\n",
       "      <td>tt0035423</td>\n",
       "      <td>37</td>\n",
       "      <td>Kate &amp; Leopold</td>\n",
       "      <td>US</td>\n",
       "      <td>NaN</td>\n",
       "      <td>imdbDisplay</td>\n",
       "      <td>NaN</td>\n",
       "      <td>0.0</td>\n",
       "    </tr>\n",
       "    <tr>\n",
       "      <th>454297</th>\n",
       "      <td>tt0062336</td>\n",
       "      <td>5</td>\n",
       "      <td>The Tango of the Widower and Its Distorting Mi...</td>\n",
       "      <td>US</td>\n",
       "      <td>NaN</td>\n",
       "      <td>imdbDisplay</td>\n",
       "      <td>NaN</td>\n",
       "      <td>0.0</td>\n",
       "    </tr>\n",
       "    <tr>\n",
       "      <th>521612</th>\n",
       "      <td>tt0069049</td>\n",
       "      <td>3</td>\n",
       "      <td>The Other Side of the Wind</td>\n",
       "      <td>US</td>\n",
       "      <td>NaN</td>\n",
       "      <td>imdbDisplay</td>\n",
       "      <td>NaN</td>\n",
       "      <td>0.0</td>\n",
       "    </tr>\n",
       "    <tr>\n",
       "      <th>698869</th>\n",
       "      <td>tt0088751</td>\n",
       "      <td>1</td>\n",
       "      <td>Attack of the B-Movie Monster</td>\n",
       "      <td>US</td>\n",
       "      <td>NaN</td>\n",
       "      <td>working</td>\n",
       "      <td>NaN</td>\n",
       "      <td>0.0</td>\n",
       "    </tr>\n",
       "  </tbody>\n",
       "</table>\n",
       "</div>"
      ],
      "text/plain": [
       "          titleId  ordering  \\\n",
       "193605  tt0035423        35   \n",
       "193607  tt0035423        37   \n",
       "454297  tt0062336         5   \n",
       "521612  tt0069049         3   \n",
       "698869  tt0088751         1   \n",
       "\n",
       "                                                    title region language  \\\n",
       "193605                                   Kate and Leopold     US      NaN   \n",
       "193607                                     Kate & Leopold     US      NaN   \n",
       "454297  The Tango of the Widower and Its Distorting Mi...     US      NaN   \n",
       "521612                         The Other Side of the Wind     US      NaN   \n",
       "698869                      Attack of the B-Movie Monster     US      NaN   \n",
       "\n",
       "              types            attributes  isOriginalTitle  \n",
       "193605          NaN  alternative spelling              0.0  \n",
       "193607  imdbDisplay                   NaN              0.0  \n",
       "454297  imdbDisplay                   NaN              0.0  \n",
       "521612  imdbDisplay                   NaN              0.0  \n",
       "698869      working                   NaN              0.0  "
      ]
     },
     "execution_count": 33,
     "metadata": {},
     "output_type": "execute_result"
    }
   ],
   "source": [
    "print(f'The akas dataframe shape: {akas.shape}')\n",
    "\n",
    "# Filter out entries from the basics dataframe that are not released in the US\n",
    "print(f'Eliminating entries that are not in the basics dataframe.')\n",
    "akas_matches_basics = akas['titleId'].isin(basics['tconst'])\n",
    "akas = akas.loc[ akas_matches_basics , :]\n",
    "\n",
    "print(f'The akas dataframe shape: {akas.shape}')\n",
    "akas.head()"
   ]
  },
  {
   "cell_type": "code",
   "execution_count": 34,
   "id": "bf7cd69a",
   "metadata": {},
   "outputs": [
    {
     "name": "stdout",
     "output_type": "stream",
     "text": [
      "The ratings dataframe shape: (471592, 3)\n",
      "Eliminating entries that are not in the basics dataframe.\n",
      "The ratings dataframe shape: (65730, 3)\n"
     ]
    },
    {
     "data": {
      "text/html": [
       "<div>\n",
       "<style scoped>\n",
       "    .dataframe tbody tr th:only-of-type {\n",
       "        vertical-align: middle;\n",
       "    }\n",
       "\n",
       "    .dataframe tbody tr th {\n",
       "        vertical-align: top;\n",
       "    }\n",
       "\n",
       "    .dataframe thead th {\n",
       "        text-align: right;\n",
       "    }\n",
       "</style>\n",
       "<table border=\"1\" class=\"dataframe\">\n",
       "  <thead>\n",
       "    <tr style=\"text-align: right;\">\n",
       "      <th></th>\n",
       "      <th>tconst</th>\n",
       "      <th>averageRating</th>\n",
       "      <th>numVotes</th>\n",
       "    </tr>\n",
       "  </thead>\n",
       "  <tbody>\n",
       "    <tr>\n",
       "      <th>17916</th>\n",
       "      <td>tt0035423</td>\n",
       "      <td>6.4</td>\n",
       "      <td>83864</td>\n",
       "    </tr>\n",
       "    <tr>\n",
       "      <th>40761</th>\n",
       "      <td>tt0062336</td>\n",
       "      <td>6.4</td>\n",
       "      <td>161</td>\n",
       "    </tr>\n",
       "    <tr>\n",
       "      <th>46614</th>\n",
       "      <td>tt0069049</td>\n",
       "      <td>6.7</td>\n",
       "      <td>7238</td>\n",
       "    </tr>\n",
       "    <tr>\n",
       "      <th>63604</th>\n",
       "      <td>tt0088751</td>\n",
       "      <td>5.2</td>\n",
       "      <td>320</td>\n",
       "    </tr>\n",
       "    <tr>\n",
       "      <th>67385</th>\n",
       "      <td>tt0093119</td>\n",
       "      <td>2.9</td>\n",
       "      <td>1191</td>\n",
       "    </tr>\n",
       "  </tbody>\n",
       "</table>\n",
       "</div>"
      ],
      "text/plain": [
       "          tconst  averageRating  numVotes\n",
       "17916  tt0035423            6.4     83864\n",
       "40761  tt0062336            6.4       161\n",
       "46614  tt0069049            6.7      7238\n",
       "63604  tt0088751            5.2       320\n",
       "67385  tt0093119            2.9      1191"
      ]
     },
     "execution_count": 34,
     "metadata": {},
     "output_type": "execute_result"
    }
   ],
   "source": [
    "print(f'The ratings dataframe shape: {ratings.shape}')\n",
    "\n",
    "# Filter out entries from the basics dataframe that are not released in the US\n",
    "print(f'Eliminating entries that are not in the basics dataframe.')\n",
    "ratings_matches_basics =  ratings['tconst'].isin(basics['tconst'])\n",
    "ratings = ratings.loc[ ratings_matches_basics , :]\n",
    "\n",
    "print(f'The ratings dataframe shape: {ratings.shape}')\n",
    "ratings.head()"
   ]
  },
  {
   "cell_type": "markdown",
   "id": "20d4462b",
   "metadata": {},
   "source": [
    "# Filter/Clean Ratings Dataframe"
   ]
  },
  {
   "cell_type": "markdown",
   "id": "bc39a52e",
   "metadata": {},
   "source": [
    "There are no filtering conditions that need be be initially applied to the ratings dataframe."
   ]
  },
  {
   "cell_type": "code",
   "execution_count": 35,
   "id": "80d83702",
   "metadata": {},
   "outputs": [
    {
     "name": "stdout",
     "output_type": "stream",
     "text": [
      "The ratings dataframe shape: (65730, 3)\n",
      "\n",
      "<class 'pandas.core.frame.DataFrame'>\n",
      "Int64Index: 65730 entries, 17916 to 1247884\n",
      "Data columns (total 3 columns):\n",
      " #   Column         Non-Null Count  Dtype  \n",
      "---  ------         --------------  -----  \n",
      " 0   tconst         65730 non-null  object \n",
      " 1   averageRating  65730 non-null  float64\n",
      " 2   numVotes       65730 non-null  int64  \n",
      "dtypes: float64(1), int64(1), object(1)\n",
      "memory usage: 2.0+ MB\n"
     ]
    },
    {
     "data": {
      "text/plain": [
       "None"
      ]
     },
     "metadata": {},
     "output_type": "display_data"
    },
    {
     "data": {
      "text/html": [
       "<div>\n",
       "<style scoped>\n",
       "    .dataframe tbody tr th:only-of-type {\n",
       "        vertical-align: middle;\n",
       "    }\n",
       "\n",
       "    .dataframe tbody tr th {\n",
       "        vertical-align: top;\n",
       "    }\n",
       "\n",
       "    .dataframe thead th {\n",
       "        text-align: right;\n",
       "    }\n",
       "</style>\n",
       "<table border=\"1\" class=\"dataframe\">\n",
       "  <thead>\n",
       "    <tr style=\"text-align: right;\">\n",
       "      <th></th>\n",
       "      <th>tconst</th>\n",
       "      <th>averageRating</th>\n",
       "      <th>numVotes</th>\n",
       "    </tr>\n",
       "  </thead>\n",
       "  <tbody>\n",
       "    <tr>\n",
       "      <th>17916</th>\n",
       "      <td>tt0035423</td>\n",
       "      <td>6.4</td>\n",
       "      <td>83864</td>\n",
       "    </tr>\n",
       "    <tr>\n",
       "      <th>40761</th>\n",
       "      <td>tt0062336</td>\n",
       "      <td>6.4</td>\n",
       "      <td>161</td>\n",
       "    </tr>\n",
       "    <tr>\n",
       "      <th>46614</th>\n",
       "      <td>tt0069049</td>\n",
       "      <td>6.7</td>\n",
       "      <td>7238</td>\n",
       "    </tr>\n",
       "    <tr>\n",
       "      <th>63604</th>\n",
       "      <td>tt0088751</td>\n",
       "      <td>5.2</td>\n",
       "      <td>320</td>\n",
       "    </tr>\n",
       "    <tr>\n",
       "      <th>67385</th>\n",
       "      <td>tt0093119</td>\n",
       "      <td>2.9</td>\n",
       "      <td>1191</td>\n",
       "    </tr>\n",
       "  </tbody>\n",
       "</table>\n",
       "</div>"
      ],
      "text/plain": [
       "          tconst  averageRating  numVotes\n",
       "17916  tt0035423            6.4     83864\n",
       "40761  tt0062336            6.4       161\n",
       "46614  tt0069049            6.7      7238\n",
       "63604  tt0088751            5.2       320\n",
       "67385  tt0093119            2.9      1191"
      ]
     },
     "metadata": {},
     "output_type": "display_data"
    }
   ],
   "source": [
    "print(f'The ratings dataframe shape: {ratings.shape}\\n')\n",
    "display(ratings.info())\n",
    "display(ratings.head())"
   ]
  },
  {
   "cell_type": "markdown",
   "id": "18fa45e4",
   "metadata": {},
   "source": [
    "All the columns of the ratings dataframe agree with the expected data types."
   ]
  },
  {
   "cell_type": "markdown",
   "id": "92b9bfe5",
   "metadata": {},
   "source": [
    "# Review Dataframes"
   ]
  },
  {
   "cell_type": "markdown",
   "id": "4f468148",
   "metadata": {},
   "source": [
    "## a) Basics Dataframe"
   ]
  },
  {
   "cell_type": "code",
   "execution_count": 36,
   "id": "ef55aded",
   "metadata": {},
   "outputs": [
    {
     "name": "stdout",
     "output_type": "stream",
     "text": [
      "The basics dataframe shape: (79294, 8)\n",
      "\n",
      "<class 'pandas.core.frame.DataFrame'>\n",
      "Int64Index: 79294 entries, 34805 to 8951935\n",
      "Data columns (total 8 columns):\n",
      " #   Column          Non-Null Count  Dtype \n",
      "---  ------          --------------  ----- \n",
      " 0   tconst          79294 non-null  object\n",
      " 1   titleType       79294 non-null  object\n",
      " 2   primaryTitle    79294 non-null  object\n",
      " 3   originalTitle   79294 non-null  object\n",
      " 4   isAdult         79294 non-null  int64 \n",
      " 5   startYear       79294 non-null  int64 \n",
      " 6   runtimeMinutes  79294 non-null  int64 \n",
      " 7   genres          79294 non-null  object\n",
      "dtypes: int64(3), object(5)\n",
      "memory usage: 5.4+ MB\n"
     ]
    },
    {
     "data": {
      "text/plain": [
       "None"
      ]
     },
     "metadata": {},
     "output_type": "display_data"
    },
    {
     "data": {
      "text/html": [
       "<div>\n",
       "<style scoped>\n",
       "    .dataframe tbody tr th:only-of-type {\n",
       "        vertical-align: middle;\n",
       "    }\n",
       "\n",
       "    .dataframe tbody tr th {\n",
       "        vertical-align: top;\n",
       "    }\n",
       "\n",
       "    .dataframe thead th {\n",
       "        text-align: right;\n",
       "    }\n",
       "</style>\n",
       "<table border=\"1\" class=\"dataframe\">\n",
       "  <thead>\n",
       "    <tr style=\"text-align: right;\">\n",
       "      <th></th>\n",
       "      <th>tconst</th>\n",
       "      <th>titleType</th>\n",
       "      <th>primaryTitle</th>\n",
       "      <th>originalTitle</th>\n",
       "      <th>isAdult</th>\n",
       "      <th>startYear</th>\n",
       "      <th>runtimeMinutes</th>\n",
       "      <th>genres</th>\n",
       "    </tr>\n",
       "  </thead>\n",
       "  <tbody>\n",
       "    <tr>\n",
       "      <th>34805</th>\n",
       "      <td>tt0035423</td>\n",
       "      <td>movie</td>\n",
       "      <td>Kate &amp; Leopold</td>\n",
       "      <td>Kate &amp; Leopold</td>\n",
       "      <td>0</td>\n",
       "      <td>2001</td>\n",
       "      <td>118</td>\n",
       "      <td>Comedy,Fantasy,Romance</td>\n",
       "    </tr>\n",
       "    <tr>\n",
       "      <th>61119</th>\n",
       "      <td>tt0062336</td>\n",
       "      <td>movie</td>\n",
       "      <td>The Tango of the Widower and Its Distorting Mi...</td>\n",
       "      <td>El Tango del Viudo y Su Espejo Deformante</td>\n",
       "      <td>0</td>\n",
       "      <td>2020</td>\n",
       "      <td>70</td>\n",
       "      <td>Drama</td>\n",
       "    </tr>\n",
       "    <tr>\n",
       "      <th>67672</th>\n",
       "      <td>tt0069049</td>\n",
       "      <td>movie</td>\n",
       "      <td>The Other Side of the Wind</td>\n",
       "      <td>The Other Side of the Wind</td>\n",
       "      <td>0</td>\n",
       "      <td>2018</td>\n",
       "      <td>122</td>\n",
       "      <td>Drama</td>\n",
       "    </tr>\n",
       "    <tr>\n",
       "      <th>86806</th>\n",
       "      <td>tt0088751</td>\n",
       "      <td>movie</td>\n",
       "      <td>The Naked Monster</td>\n",
       "      <td>The Naked Monster</td>\n",
       "      <td>0</td>\n",
       "      <td>2005</td>\n",
       "      <td>100</td>\n",
       "      <td>Comedy,Horror,Sci-Fi</td>\n",
       "    </tr>\n",
       "    <tr>\n",
       "      <th>91077</th>\n",
       "      <td>tt0093119</td>\n",
       "      <td>movie</td>\n",
       "      <td>Grizzly II: Revenge</td>\n",
       "      <td>Grizzly II: The Predator</td>\n",
       "      <td>0</td>\n",
       "      <td>2020</td>\n",
       "      <td>74</td>\n",
       "      <td>Horror,Music,Thriller</td>\n",
       "    </tr>\n",
       "  </tbody>\n",
       "</table>\n",
       "</div>"
      ],
      "text/plain": [
       "          tconst titleType                                       primaryTitle  \\\n",
       "34805  tt0035423     movie                                     Kate & Leopold   \n",
       "61119  tt0062336     movie  The Tango of the Widower and Its Distorting Mi...   \n",
       "67672  tt0069049     movie                         The Other Side of the Wind   \n",
       "86806  tt0088751     movie                                  The Naked Monster   \n",
       "91077  tt0093119     movie                                Grizzly II: Revenge   \n",
       "\n",
       "                                   originalTitle  isAdult  startYear  \\\n",
       "34805                             Kate & Leopold        0       2001   \n",
       "61119  El Tango del Viudo y Su Espejo Deformante        0       2020   \n",
       "67672                 The Other Side of the Wind        0       2018   \n",
       "86806                          The Naked Monster        0       2005   \n",
       "91077                   Grizzly II: The Predator        0       2020   \n",
       "\n",
       "       runtimeMinutes                  genres  \n",
       "34805             118  Comedy,Fantasy,Romance  \n",
       "61119              70                   Drama  \n",
       "67672             122                   Drama  \n",
       "86806             100    Comedy,Horror,Sci-Fi  \n",
       "91077              74   Horror,Music,Thriller  "
      ]
     },
     "metadata": {},
     "output_type": "display_data"
    }
   ],
   "source": [
    "print(f'The basics dataframe shape: {basics.shape}\\n')\n",
    "display(basics.info())\n",
    "display(basics.head())"
   ]
  },
  {
   "cell_type": "markdown",
   "id": "d9946740",
   "metadata": {},
   "source": [
    "All the basics column data types appear consistent with the value data types."
   ]
  },
  {
   "cell_type": "markdown",
   "id": "86568132",
   "metadata": {},
   "source": [
    "## b) Akas Dataframe"
   ]
  },
  {
   "cell_type": "code",
   "execution_count": 37,
   "id": "006d4d5d",
   "metadata": {},
   "outputs": [
    {
     "name": "stdout",
     "output_type": "stream",
     "text": [
      "The akas dataframe shape: (88441, 8)\n",
      "\n",
      "<class 'pandas.core.frame.DataFrame'>\n",
      "Int64Index: 88441 entries, 193605 to 32122788\n",
      "Data columns (total 8 columns):\n",
      " #   Column           Non-Null Count  Dtype  \n",
      "---  ------           --------------  -----  \n",
      " 0   titleId          88441 non-null  object \n",
      " 1   ordering         88441 non-null  int64  \n",
      " 2   title            88441 non-null  object \n",
      " 3   region           88441 non-null  object \n",
      " 4   language         875 non-null    object \n",
      " 5   types            82276 non-null  object \n",
      " 6   attributes       4107 non-null   object \n",
      " 7   isOriginalTitle  88441 non-null  float64\n",
      "dtypes: float64(1), int64(1), object(6)\n",
      "memory usage: 6.1+ MB\n"
     ]
    },
    {
     "data": {
      "text/plain": [
       "None"
      ]
     },
     "metadata": {},
     "output_type": "display_data"
    },
    {
     "data": {
      "text/html": [
       "<div>\n",
       "<style scoped>\n",
       "    .dataframe tbody tr th:only-of-type {\n",
       "        vertical-align: middle;\n",
       "    }\n",
       "\n",
       "    .dataframe tbody tr th {\n",
       "        vertical-align: top;\n",
       "    }\n",
       "\n",
       "    .dataframe thead th {\n",
       "        text-align: right;\n",
       "    }\n",
       "</style>\n",
       "<table border=\"1\" class=\"dataframe\">\n",
       "  <thead>\n",
       "    <tr style=\"text-align: right;\">\n",
       "      <th></th>\n",
       "      <th>titleId</th>\n",
       "      <th>ordering</th>\n",
       "      <th>title</th>\n",
       "      <th>region</th>\n",
       "      <th>language</th>\n",
       "      <th>types</th>\n",
       "      <th>attributes</th>\n",
       "      <th>isOriginalTitle</th>\n",
       "    </tr>\n",
       "  </thead>\n",
       "  <tbody>\n",
       "    <tr>\n",
       "      <th>193605</th>\n",
       "      <td>tt0035423</td>\n",
       "      <td>35</td>\n",
       "      <td>Kate and Leopold</td>\n",
       "      <td>US</td>\n",
       "      <td>NaN</td>\n",
       "      <td>NaN</td>\n",
       "      <td>alternative spelling</td>\n",
       "      <td>0.0</td>\n",
       "    </tr>\n",
       "    <tr>\n",
       "      <th>193607</th>\n",
       "      <td>tt0035423</td>\n",
       "      <td>37</td>\n",
       "      <td>Kate &amp; Leopold</td>\n",
       "      <td>US</td>\n",
       "      <td>NaN</td>\n",
       "      <td>imdbDisplay</td>\n",
       "      <td>NaN</td>\n",
       "      <td>0.0</td>\n",
       "    </tr>\n",
       "    <tr>\n",
       "      <th>454297</th>\n",
       "      <td>tt0062336</td>\n",
       "      <td>5</td>\n",
       "      <td>The Tango of the Widower and Its Distorting Mi...</td>\n",
       "      <td>US</td>\n",
       "      <td>NaN</td>\n",
       "      <td>imdbDisplay</td>\n",
       "      <td>NaN</td>\n",
       "      <td>0.0</td>\n",
       "    </tr>\n",
       "    <tr>\n",
       "      <th>521612</th>\n",
       "      <td>tt0069049</td>\n",
       "      <td>3</td>\n",
       "      <td>The Other Side of the Wind</td>\n",
       "      <td>US</td>\n",
       "      <td>NaN</td>\n",
       "      <td>imdbDisplay</td>\n",
       "      <td>NaN</td>\n",
       "      <td>0.0</td>\n",
       "    </tr>\n",
       "    <tr>\n",
       "      <th>698869</th>\n",
       "      <td>tt0088751</td>\n",
       "      <td>1</td>\n",
       "      <td>Attack of the B-Movie Monster</td>\n",
       "      <td>US</td>\n",
       "      <td>NaN</td>\n",
       "      <td>working</td>\n",
       "      <td>NaN</td>\n",
       "      <td>0.0</td>\n",
       "    </tr>\n",
       "  </tbody>\n",
       "</table>\n",
       "</div>"
      ],
      "text/plain": [
       "          titleId  ordering  \\\n",
       "193605  tt0035423        35   \n",
       "193607  tt0035423        37   \n",
       "454297  tt0062336         5   \n",
       "521612  tt0069049         3   \n",
       "698869  tt0088751         1   \n",
       "\n",
       "                                                    title region language  \\\n",
       "193605                                   Kate and Leopold     US      NaN   \n",
       "193607                                     Kate & Leopold     US      NaN   \n",
       "454297  The Tango of the Widower and Its Distorting Mi...     US      NaN   \n",
       "521612                         The Other Side of the Wind     US      NaN   \n",
       "698869                      Attack of the B-Movie Monster     US      NaN   \n",
       "\n",
       "              types            attributes  isOriginalTitle  \n",
       "193605          NaN  alternative spelling              0.0  \n",
       "193607  imdbDisplay                   NaN              0.0  \n",
       "454297  imdbDisplay                   NaN              0.0  \n",
       "521612  imdbDisplay                   NaN              0.0  \n",
       "698869      working                   NaN              0.0  "
      ]
     },
     "metadata": {},
     "output_type": "display_data"
    }
   ],
   "source": [
    "print(f'The akas dataframe shape: {akas.shape}\\n')\n",
    "display(akas.info())\n",
    "display(akas.head())"
   ]
  },
  {
   "cell_type": "markdown",
   "id": "2c76ce26",
   "metadata": {},
   "source": [
    "I will check the 'isOriginal' column to see if any nan values survived all the filter propagation from other dataframes."
   ]
  },
  {
   "cell_type": "code",
   "execution_count": 38,
   "id": "87d3cfa0",
   "metadata": {},
   "outputs": [
    {
     "data": {
      "text/plain": [
       "array([0., 1.])"
      ]
     },
     "execution_count": 38,
     "metadata": {},
     "output_type": "execute_result"
    }
   ],
   "source": [
    "akas['isOriginalTitle'].unique()"
   ]
  },
  {
   "cell_type": "markdown",
   "id": "ed27d405",
   "metadata": {},
   "source": [
    "Since there are no nan values remaining, I can change the floats to ints."
   ]
  },
  {
   "cell_type": "code",
   "execution_count": 39,
   "id": "9b860925",
   "metadata": {},
   "outputs": [
    {
     "name": "stdout",
     "output_type": "stream",
     "text": [
      "<class 'pandas.core.frame.DataFrame'>\n",
      "Int64Index: 88441 entries, 193605 to 32122788\n",
      "Data columns (total 8 columns):\n",
      " #   Column           Non-Null Count  Dtype \n",
      "---  ------           --------------  ----- \n",
      " 0   titleId          88441 non-null  object\n",
      " 1   ordering         88441 non-null  int64 \n",
      " 2   title            88441 non-null  object\n",
      " 3   region           88441 non-null  object\n",
      " 4   language         875 non-null    object\n",
      " 5   types            82276 non-null  object\n",
      " 6   attributes       4107 non-null   object\n",
      " 7   isOriginalTitle  88441 non-null  int64 \n",
      "dtypes: int64(2), object(6)\n",
      "memory usage: 6.1+ MB\n"
     ]
    },
    {
     "data": {
      "text/plain": [
       "None"
      ]
     },
     "metadata": {},
     "output_type": "display_data"
    },
    {
     "data": {
      "text/html": [
       "<div>\n",
       "<style scoped>\n",
       "    .dataframe tbody tr th:only-of-type {\n",
       "        vertical-align: middle;\n",
       "    }\n",
       "\n",
       "    .dataframe tbody tr th {\n",
       "        vertical-align: top;\n",
       "    }\n",
       "\n",
       "    .dataframe thead th {\n",
       "        text-align: right;\n",
       "    }\n",
       "</style>\n",
       "<table border=\"1\" class=\"dataframe\">\n",
       "  <thead>\n",
       "    <tr style=\"text-align: right;\">\n",
       "      <th></th>\n",
       "      <th>titleId</th>\n",
       "      <th>ordering</th>\n",
       "      <th>title</th>\n",
       "      <th>region</th>\n",
       "      <th>language</th>\n",
       "      <th>types</th>\n",
       "      <th>attributes</th>\n",
       "      <th>isOriginalTitle</th>\n",
       "    </tr>\n",
       "  </thead>\n",
       "  <tbody>\n",
       "    <tr>\n",
       "      <th>193605</th>\n",
       "      <td>tt0035423</td>\n",
       "      <td>35</td>\n",
       "      <td>Kate and Leopold</td>\n",
       "      <td>US</td>\n",
       "      <td>NaN</td>\n",
       "      <td>NaN</td>\n",
       "      <td>alternative spelling</td>\n",
       "      <td>0</td>\n",
       "    </tr>\n",
       "    <tr>\n",
       "      <th>193607</th>\n",
       "      <td>tt0035423</td>\n",
       "      <td>37</td>\n",
       "      <td>Kate &amp; Leopold</td>\n",
       "      <td>US</td>\n",
       "      <td>NaN</td>\n",
       "      <td>imdbDisplay</td>\n",
       "      <td>NaN</td>\n",
       "      <td>0</td>\n",
       "    </tr>\n",
       "    <tr>\n",
       "      <th>454297</th>\n",
       "      <td>tt0062336</td>\n",
       "      <td>5</td>\n",
       "      <td>The Tango of the Widower and Its Distorting Mi...</td>\n",
       "      <td>US</td>\n",
       "      <td>NaN</td>\n",
       "      <td>imdbDisplay</td>\n",
       "      <td>NaN</td>\n",
       "      <td>0</td>\n",
       "    </tr>\n",
       "    <tr>\n",
       "      <th>521612</th>\n",
       "      <td>tt0069049</td>\n",
       "      <td>3</td>\n",
       "      <td>The Other Side of the Wind</td>\n",
       "      <td>US</td>\n",
       "      <td>NaN</td>\n",
       "      <td>imdbDisplay</td>\n",
       "      <td>NaN</td>\n",
       "      <td>0</td>\n",
       "    </tr>\n",
       "    <tr>\n",
       "      <th>698869</th>\n",
       "      <td>tt0088751</td>\n",
       "      <td>1</td>\n",
       "      <td>Attack of the B-Movie Monster</td>\n",
       "      <td>US</td>\n",
       "      <td>NaN</td>\n",
       "      <td>working</td>\n",
       "      <td>NaN</td>\n",
       "      <td>0</td>\n",
       "    </tr>\n",
       "  </tbody>\n",
       "</table>\n",
       "</div>"
      ],
      "text/plain": [
       "          titleId  ordering  \\\n",
       "193605  tt0035423        35   \n",
       "193607  tt0035423        37   \n",
       "454297  tt0062336         5   \n",
       "521612  tt0069049         3   \n",
       "698869  tt0088751         1   \n",
       "\n",
       "                                                    title region language  \\\n",
       "193605                                   Kate and Leopold     US      NaN   \n",
       "193607                                     Kate & Leopold     US      NaN   \n",
       "454297  The Tango of the Widower and Its Distorting Mi...     US      NaN   \n",
       "521612                         The Other Side of the Wind     US      NaN   \n",
       "698869                      Attack of the B-Movie Monster     US      NaN   \n",
       "\n",
       "              types            attributes  isOriginalTitle  \n",
       "193605          NaN  alternative spelling                0  \n",
       "193607  imdbDisplay                   NaN                0  \n",
       "454297  imdbDisplay                   NaN                0  \n",
       "521612  imdbDisplay                   NaN                0  \n",
       "698869      working                   NaN                0  "
      ]
     },
     "metadata": {},
     "output_type": "display_data"
    }
   ],
   "source": [
    "akas['isOriginalTitle'] = akas['isOriginalTitle'].apply(int)\n",
    "display(akas.info())\n",
    "display(akas.head())"
   ]
  },
  {
   "cell_type": "markdown",
   "id": "f20f6e54",
   "metadata": {},
   "source": [
    "All the akas expected value data types are consistent with the data dictionary, and the column data types match the value data types."
   ]
  },
  {
   "cell_type": "markdown",
   "id": "e27ccb45",
   "metadata": {},
   "source": [
    "## c) Ratings Dataframe"
   ]
  },
  {
   "cell_type": "code",
   "execution_count": 40,
   "id": "6952f4b3",
   "metadata": {},
   "outputs": [
    {
     "name": "stdout",
     "output_type": "stream",
     "text": [
      "The ratings dataframe shape: (65730, 3)\n",
      "\n",
      "<class 'pandas.core.frame.DataFrame'>\n",
      "Int64Index: 65730 entries, 17916 to 1247884\n",
      "Data columns (total 3 columns):\n",
      " #   Column         Non-Null Count  Dtype  \n",
      "---  ------         --------------  -----  \n",
      " 0   tconst         65730 non-null  object \n",
      " 1   averageRating  65730 non-null  float64\n",
      " 2   numVotes       65730 non-null  int64  \n",
      "dtypes: float64(1), int64(1), object(1)\n",
      "memory usage: 2.0+ MB\n"
     ]
    },
    {
     "data": {
      "text/plain": [
       "None"
      ]
     },
     "metadata": {},
     "output_type": "display_data"
    },
    {
     "data": {
      "text/html": [
       "<div>\n",
       "<style scoped>\n",
       "    .dataframe tbody tr th:only-of-type {\n",
       "        vertical-align: middle;\n",
       "    }\n",
       "\n",
       "    .dataframe tbody tr th {\n",
       "        vertical-align: top;\n",
       "    }\n",
       "\n",
       "    .dataframe thead th {\n",
       "        text-align: right;\n",
       "    }\n",
       "</style>\n",
       "<table border=\"1\" class=\"dataframe\">\n",
       "  <thead>\n",
       "    <tr style=\"text-align: right;\">\n",
       "      <th></th>\n",
       "      <th>tconst</th>\n",
       "      <th>averageRating</th>\n",
       "      <th>numVotes</th>\n",
       "    </tr>\n",
       "  </thead>\n",
       "  <tbody>\n",
       "    <tr>\n",
       "      <th>17916</th>\n",
       "      <td>tt0035423</td>\n",
       "      <td>6.4</td>\n",
       "      <td>83864</td>\n",
       "    </tr>\n",
       "    <tr>\n",
       "      <th>40761</th>\n",
       "      <td>tt0062336</td>\n",
       "      <td>6.4</td>\n",
       "      <td>161</td>\n",
       "    </tr>\n",
       "    <tr>\n",
       "      <th>46614</th>\n",
       "      <td>tt0069049</td>\n",
       "      <td>6.7</td>\n",
       "      <td>7238</td>\n",
       "    </tr>\n",
       "    <tr>\n",
       "      <th>63604</th>\n",
       "      <td>tt0088751</td>\n",
       "      <td>5.2</td>\n",
       "      <td>320</td>\n",
       "    </tr>\n",
       "    <tr>\n",
       "      <th>67385</th>\n",
       "      <td>tt0093119</td>\n",
       "      <td>2.9</td>\n",
       "      <td>1191</td>\n",
       "    </tr>\n",
       "  </tbody>\n",
       "</table>\n",
       "</div>"
      ],
      "text/plain": [
       "          tconst  averageRating  numVotes\n",
       "17916  tt0035423            6.4     83864\n",
       "40761  tt0062336            6.4       161\n",
       "46614  tt0069049            6.7      7238\n",
       "63604  tt0088751            5.2       320\n",
       "67385  tt0093119            2.9      1191"
      ]
     },
     "metadata": {},
     "output_type": "display_data"
    }
   ],
   "source": [
    "print(f'The ratings dataframe shape: {ratings.shape}\\n')\n",
    "display(ratings.info())\n",
    "display(ratings.head())"
   ]
  },
  {
   "cell_type": "markdown",
   "id": "fe7a75d6",
   "metadata": {},
   "source": [
    "All the ratings column data types appear consistent with the value data types."
   ]
  },
  {
   "cell_type": "markdown",
   "id": "a9c82df4",
   "metadata": {},
   "source": [
    "# Saving the Dataframes"
   ]
  },
  {
   "cell_type": "code",
   "execution_count": 41,
   "id": "7671656f",
   "metadata": {},
   "outputs": [
    {
     "data": {
      "text/plain": [
       "['title_akas.csv.gz', 'title_basics.csv.gz', 'title_ratings.csv.gz']"
      ]
     },
     "execution_count": 41,
     "metadata": {},
     "output_type": "execute_result"
    }
   ],
   "source": [
    "# This code is used to create a Data folder for saving downloaded data\n",
    "\n",
    "# make new folder with os if it does not exist\n",
    "import os\n",
    "os.makedirs('Data', exist_ok = True)\n",
    "\n",
    "# verify folder was created and list all files inside\n",
    "os.listdir('Data/')"
   ]
  },
  {
   "cell_type": "code",
   "execution_count": 42,
   "id": "2623aef6",
   "metadata": {},
   "outputs": [],
   "source": [
    "# save dataframes to file\n",
    "basics.to_csv('Data/title_basics.csv.gz', compression='gzip', index=False)\n",
    "akas.to_csv('Data/title_akas.csv.gz', compression='gzip', index=False)\n",
    "ratings.to_csv('Data/title_ratings.csv.gz', compression='gzip', index=False)"
   ]
  },
  {
   "cell_type": "markdown",
   "id": "23eb1846",
   "metadata": {},
   "source": [
    "The following code is only used to verify the dataframes are saved and can be retrieved as expected."
   ]
  },
  {
   "cell_type": "code",
   "execution_count": 43,
   "id": "5f598828",
   "metadata": {},
   "outputs": [],
   "source": [
    "# open saved files for review\n",
    "basics = pd.read_csv('Data/title_basics.csv.gz', low_memory = False)\n",
    "akas = pd.read_csv('Data/title_akas.csv.gz', low_memory = False)\n",
    "ratings = pd.read_csv('Data/title_ratings.csv.gz', low_memory = False)"
   ]
  },
  {
   "cell_type": "code",
   "execution_count": 44,
   "id": "76e622f3",
   "metadata": {},
   "outputs": [
    {
     "name": "stdout",
     "output_type": "stream",
     "text": [
      "The basics dataframe shape: (79294, 8)\n",
      "\n",
      "<class 'pandas.core.frame.DataFrame'>\n",
      "RangeIndex: 79294 entries, 0 to 79293\n",
      "Data columns (total 8 columns):\n",
      " #   Column          Non-Null Count  Dtype \n",
      "---  ------          --------------  ----- \n",
      " 0   tconst          79294 non-null  object\n",
      " 1   titleType       79294 non-null  object\n",
      " 2   primaryTitle    79294 non-null  object\n",
      " 3   originalTitle   79294 non-null  object\n",
      " 4   isAdult         79294 non-null  int64 \n",
      " 5   startYear       79294 non-null  int64 \n",
      " 6   runtimeMinutes  79294 non-null  int64 \n",
      " 7   genres          79294 non-null  object\n",
      "dtypes: int64(3), object(5)\n",
      "memory usage: 4.8+ MB\n"
     ]
    },
    {
     "data": {
      "text/plain": [
       "None"
      ]
     },
     "metadata": {},
     "output_type": "display_data"
    },
    {
     "data": {
      "text/html": [
       "<div>\n",
       "<style scoped>\n",
       "    .dataframe tbody tr th:only-of-type {\n",
       "        vertical-align: middle;\n",
       "    }\n",
       "\n",
       "    .dataframe tbody tr th {\n",
       "        vertical-align: top;\n",
       "    }\n",
       "\n",
       "    .dataframe thead th {\n",
       "        text-align: right;\n",
       "    }\n",
       "</style>\n",
       "<table border=\"1\" class=\"dataframe\">\n",
       "  <thead>\n",
       "    <tr style=\"text-align: right;\">\n",
       "      <th></th>\n",
       "      <th>tconst</th>\n",
       "      <th>titleType</th>\n",
       "      <th>primaryTitle</th>\n",
       "      <th>originalTitle</th>\n",
       "      <th>isAdult</th>\n",
       "      <th>startYear</th>\n",
       "      <th>runtimeMinutes</th>\n",
       "      <th>genres</th>\n",
       "    </tr>\n",
       "  </thead>\n",
       "  <tbody>\n",
       "    <tr>\n",
       "      <th>0</th>\n",
       "      <td>tt0035423</td>\n",
       "      <td>movie</td>\n",
       "      <td>Kate &amp; Leopold</td>\n",
       "      <td>Kate &amp; Leopold</td>\n",
       "      <td>0</td>\n",
       "      <td>2001</td>\n",
       "      <td>118</td>\n",
       "      <td>Comedy,Fantasy,Romance</td>\n",
       "    </tr>\n",
       "    <tr>\n",
       "      <th>1</th>\n",
       "      <td>tt0062336</td>\n",
       "      <td>movie</td>\n",
       "      <td>The Tango of the Widower and Its Distorting Mi...</td>\n",
       "      <td>El Tango del Viudo y Su Espejo Deformante</td>\n",
       "      <td>0</td>\n",
       "      <td>2020</td>\n",
       "      <td>70</td>\n",
       "      <td>Drama</td>\n",
       "    </tr>\n",
       "    <tr>\n",
       "      <th>2</th>\n",
       "      <td>tt0069049</td>\n",
       "      <td>movie</td>\n",
       "      <td>The Other Side of the Wind</td>\n",
       "      <td>The Other Side of the Wind</td>\n",
       "      <td>0</td>\n",
       "      <td>2018</td>\n",
       "      <td>122</td>\n",
       "      <td>Drama</td>\n",
       "    </tr>\n",
       "    <tr>\n",
       "      <th>3</th>\n",
       "      <td>tt0088751</td>\n",
       "      <td>movie</td>\n",
       "      <td>The Naked Monster</td>\n",
       "      <td>The Naked Monster</td>\n",
       "      <td>0</td>\n",
       "      <td>2005</td>\n",
       "      <td>100</td>\n",
       "      <td>Comedy,Horror,Sci-Fi</td>\n",
       "    </tr>\n",
       "    <tr>\n",
       "      <th>4</th>\n",
       "      <td>tt0093119</td>\n",
       "      <td>movie</td>\n",
       "      <td>Grizzly II: Revenge</td>\n",
       "      <td>Grizzly II: The Predator</td>\n",
       "      <td>0</td>\n",
       "      <td>2020</td>\n",
       "      <td>74</td>\n",
       "      <td>Horror,Music,Thriller</td>\n",
       "    </tr>\n",
       "  </tbody>\n",
       "</table>\n",
       "</div>"
      ],
      "text/plain": [
       "      tconst titleType                                       primaryTitle  \\\n",
       "0  tt0035423     movie                                     Kate & Leopold   \n",
       "1  tt0062336     movie  The Tango of the Widower and Its Distorting Mi...   \n",
       "2  tt0069049     movie                         The Other Side of the Wind   \n",
       "3  tt0088751     movie                                  The Naked Monster   \n",
       "4  tt0093119     movie                                Grizzly II: Revenge   \n",
       "\n",
       "                               originalTitle  isAdult  startYear  \\\n",
       "0                             Kate & Leopold        0       2001   \n",
       "1  El Tango del Viudo y Su Espejo Deformante        0       2020   \n",
       "2                 The Other Side of the Wind        0       2018   \n",
       "3                          The Naked Monster        0       2005   \n",
       "4                   Grizzly II: The Predator        0       2020   \n",
       "\n",
       "   runtimeMinutes                  genres  \n",
       "0             118  Comedy,Fantasy,Romance  \n",
       "1              70                   Drama  \n",
       "2             122                   Drama  \n",
       "3             100    Comedy,Horror,Sci-Fi  \n",
       "4              74   Horror,Music,Thriller  "
      ]
     },
     "metadata": {},
     "output_type": "display_data"
    },
    {
     "name": "stdout",
     "output_type": "stream",
     "text": [
      "The akas dataframe shape: (88441, 8)\n",
      "\n",
      "<class 'pandas.core.frame.DataFrame'>\n",
      "RangeIndex: 88441 entries, 0 to 88440\n",
      "Data columns (total 8 columns):\n",
      " #   Column           Non-Null Count  Dtype \n",
      "---  ------           --------------  ----- \n",
      " 0   titleId          88441 non-null  object\n",
      " 1   ordering         88441 non-null  int64 \n",
      " 2   title            88441 non-null  object\n",
      " 3   region           88441 non-null  object\n",
      " 4   language         875 non-null    object\n",
      " 5   types            82276 non-null  object\n",
      " 6   attributes       4107 non-null   object\n",
      " 7   isOriginalTitle  88441 non-null  int64 \n",
      "dtypes: int64(2), object(6)\n",
      "memory usage: 5.4+ MB\n"
     ]
    },
    {
     "data": {
      "text/plain": [
       "None"
      ]
     },
     "metadata": {},
     "output_type": "display_data"
    },
    {
     "data": {
      "text/html": [
       "<div>\n",
       "<style scoped>\n",
       "    .dataframe tbody tr th:only-of-type {\n",
       "        vertical-align: middle;\n",
       "    }\n",
       "\n",
       "    .dataframe tbody tr th {\n",
       "        vertical-align: top;\n",
       "    }\n",
       "\n",
       "    .dataframe thead th {\n",
       "        text-align: right;\n",
       "    }\n",
       "</style>\n",
       "<table border=\"1\" class=\"dataframe\">\n",
       "  <thead>\n",
       "    <tr style=\"text-align: right;\">\n",
       "      <th></th>\n",
       "      <th>titleId</th>\n",
       "      <th>ordering</th>\n",
       "      <th>title</th>\n",
       "      <th>region</th>\n",
       "      <th>language</th>\n",
       "      <th>types</th>\n",
       "      <th>attributes</th>\n",
       "      <th>isOriginalTitle</th>\n",
       "    </tr>\n",
       "  </thead>\n",
       "  <tbody>\n",
       "    <tr>\n",
       "      <th>0</th>\n",
       "      <td>tt0035423</td>\n",
       "      <td>35</td>\n",
       "      <td>Kate and Leopold</td>\n",
       "      <td>US</td>\n",
       "      <td>NaN</td>\n",
       "      <td>NaN</td>\n",
       "      <td>alternative spelling</td>\n",
       "      <td>0</td>\n",
       "    </tr>\n",
       "    <tr>\n",
       "      <th>1</th>\n",
       "      <td>tt0035423</td>\n",
       "      <td>37</td>\n",
       "      <td>Kate &amp; Leopold</td>\n",
       "      <td>US</td>\n",
       "      <td>NaN</td>\n",
       "      <td>imdbDisplay</td>\n",
       "      <td>NaN</td>\n",
       "      <td>0</td>\n",
       "    </tr>\n",
       "    <tr>\n",
       "      <th>2</th>\n",
       "      <td>tt0062336</td>\n",
       "      <td>5</td>\n",
       "      <td>The Tango of the Widower and Its Distorting Mi...</td>\n",
       "      <td>US</td>\n",
       "      <td>NaN</td>\n",
       "      <td>imdbDisplay</td>\n",
       "      <td>NaN</td>\n",
       "      <td>0</td>\n",
       "    </tr>\n",
       "    <tr>\n",
       "      <th>3</th>\n",
       "      <td>tt0069049</td>\n",
       "      <td>3</td>\n",
       "      <td>The Other Side of the Wind</td>\n",
       "      <td>US</td>\n",
       "      <td>NaN</td>\n",
       "      <td>imdbDisplay</td>\n",
       "      <td>NaN</td>\n",
       "      <td>0</td>\n",
       "    </tr>\n",
       "    <tr>\n",
       "      <th>4</th>\n",
       "      <td>tt0088751</td>\n",
       "      <td>1</td>\n",
       "      <td>Attack of the B-Movie Monster</td>\n",
       "      <td>US</td>\n",
       "      <td>NaN</td>\n",
       "      <td>working</td>\n",
       "      <td>NaN</td>\n",
       "      <td>0</td>\n",
       "    </tr>\n",
       "  </tbody>\n",
       "</table>\n",
       "</div>"
      ],
      "text/plain": [
       "     titleId  ordering                                              title  \\\n",
       "0  tt0035423        35                                   Kate and Leopold   \n",
       "1  tt0035423        37                                     Kate & Leopold   \n",
       "2  tt0062336         5  The Tango of the Widower and Its Distorting Mi...   \n",
       "3  tt0069049         3                         The Other Side of the Wind   \n",
       "4  tt0088751         1                      Attack of the B-Movie Monster   \n",
       "\n",
       "  region language        types            attributes  isOriginalTitle  \n",
       "0     US      NaN          NaN  alternative spelling                0  \n",
       "1     US      NaN  imdbDisplay                   NaN                0  \n",
       "2     US      NaN  imdbDisplay                   NaN                0  \n",
       "3     US      NaN  imdbDisplay                   NaN                0  \n",
       "4     US      NaN      working                   NaN                0  "
      ]
     },
     "metadata": {},
     "output_type": "display_data"
    },
    {
     "name": "stdout",
     "output_type": "stream",
     "text": [
      "The ratings dataframe shape: (65730, 3)\n",
      "\n",
      "<class 'pandas.core.frame.DataFrame'>\n",
      "RangeIndex: 65730 entries, 0 to 65729\n",
      "Data columns (total 3 columns):\n",
      " #   Column         Non-Null Count  Dtype  \n",
      "---  ------         --------------  -----  \n",
      " 0   tconst         65730 non-null  object \n",
      " 1   averageRating  65730 non-null  float64\n",
      " 2   numVotes       65730 non-null  int64  \n",
      "dtypes: float64(1), int64(1), object(1)\n",
      "memory usage: 1.5+ MB\n"
     ]
    },
    {
     "data": {
      "text/plain": [
       "None"
      ]
     },
     "metadata": {},
     "output_type": "display_data"
    },
    {
     "data": {
      "text/html": [
       "<div>\n",
       "<style scoped>\n",
       "    .dataframe tbody tr th:only-of-type {\n",
       "        vertical-align: middle;\n",
       "    }\n",
       "\n",
       "    .dataframe tbody tr th {\n",
       "        vertical-align: top;\n",
       "    }\n",
       "\n",
       "    .dataframe thead th {\n",
       "        text-align: right;\n",
       "    }\n",
       "</style>\n",
       "<table border=\"1\" class=\"dataframe\">\n",
       "  <thead>\n",
       "    <tr style=\"text-align: right;\">\n",
       "      <th></th>\n",
       "      <th>tconst</th>\n",
       "      <th>averageRating</th>\n",
       "      <th>numVotes</th>\n",
       "    </tr>\n",
       "  </thead>\n",
       "  <tbody>\n",
       "    <tr>\n",
       "      <th>0</th>\n",
       "      <td>tt0035423</td>\n",
       "      <td>6.4</td>\n",
       "      <td>83864</td>\n",
       "    </tr>\n",
       "    <tr>\n",
       "      <th>1</th>\n",
       "      <td>tt0062336</td>\n",
       "      <td>6.4</td>\n",
       "      <td>161</td>\n",
       "    </tr>\n",
       "    <tr>\n",
       "      <th>2</th>\n",
       "      <td>tt0069049</td>\n",
       "      <td>6.7</td>\n",
       "      <td>7238</td>\n",
       "    </tr>\n",
       "    <tr>\n",
       "      <th>3</th>\n",
       "      <td>tt0088751</td>\n",
       "      <td>5.2</td>\n",
       "      <td>320</td>\n",
       "    </tr>\n",
       "    <tr>\n",
       "      <th>4</th>\n",
       "      <td>tt0093119</td>\n",
       "      <td>2.9</td>\n",
       "      <td>1191</td>\n",
       "    </tr>\n",
       "  </tbody>\n",
       "</table>\n",
       "</div>"
      ],
      "text/plain": [
       "      tconst  averageRating  numVotes\n",
       "0  tt0035423            6.4     83864\n",
       "1  tt0062336            6.4       161\n",
       "2  tt0069049            6.7      7238\n",
       "3  tt0088751            5.2       320\n",
       "4  tt0093119            2.9      1191"
      ]
     },
     "metadata": {},
     "output_type": "display_data"
    }
   ],
   "source": [
    "# Review data loaded from files\n",
    "print(f'The basics dataframe shape: {basics.shape}\\n')\n",
    "display(basics.info())\n",
    "display(basics.head())\n",
    "print(f'The akas dataframe shape: {akas.shape}\\n')\n",
    "display(akas.info())\n",
    "display(akas.head())\n",
    "print(f'The ratings dataframe shape: {ratings.shape}\\n')\n",
    "display(ratings.info())\n",
    "display(ratings.head())"
   ]
  }
 ],
 "metadata": {
  "kernelspec": {
   "display_name": "Python (dojo-env)",
   "language": "python",
   "name": "dojo-env"
  },
  "language_info": {
   "codemirror_mode": {
    "name": "ipython",
    "version": 3
   },
   "file_extension": ".py",
   "mimetype": "text/x-python",
   "name": "python",
   "nbconvert_exporter": "python",
   "pygments_lexer": "ipython3",
   "version": "3.7.12"
  },
  "toc": {
   "base_numbering": 1,
   "nav_menu": {},
   "number_sections": false,
   "sideBar": true,
   "skip_h1_title": false,
   "title_cell": "Table of Contents",
   "title_sidebar": "Contents",
   "toc_cell": false,
   "toc_position": {
    "height": "calc(100% - 180px)",
    "left": "10px",
    "top": "150px",
    "width": "384px"
   },
   "toc_section_display": true,
   "toc_window_display": false
  }
 },
 "nbformat": 4,
 "nbformat_minor": 5
}
