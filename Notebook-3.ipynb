{
 "cells": [
  {
   "cell_type": "markdown",
   "id": "02538ba1",
   "metadata": {},
   "source": [
    "# Analysis of Successful Movies (Notebook 3)\n",
    "* Benjamin Grossmann"
   ]
  },
  {
   "cell_type": "markdown",
   "id": "28917032",
   "metadata": {},
   "source": [
    "This notebook goes through a little Exploratory Data Analysis (EDA) using the data retrieved from Notebook 2."
   ]
  },
  {
   "cell_type": "markdown",
   "id": "44e74400",
   "metadata": {},
   "source": [
    "# Initial Imports and Loads"
   ]
  },
  {
   "cell_type": "code",
   "execution_count": 1,
   "id": "26f4e15a",
   "metadata": {},
   "outputs": [],
   "source": [
    "import numpy as np\n",
    "import pandas as pd\n",
    "import matplotlib.pyplot as plt\n",
    "import seaborn as sns"
   ]
  },
  {
   "cell_type": "code",
   "execution_count": 2,
   "id": "09b95b3e",
   "metadata": {},
   "outputs": [],
   "source": [
    "# open saved csv.gz files of from tmdb data\n",
    "df_2000 = pd.read_csv('Data/tmdb_data_2000.csv.gz', low_memory = False)\n",
    "df_2001 = pd.read_csv('Data/tmdb_data_2001.csv.gz', low_memory = False)"
   ]
  },
  {
   "cell_type": "code",
   "execution_count": 3,
   "id": "1ca46934",
   "metadata": {},
   "outputs": [],
   "source": [
    "df = pd.concat([df_2000,df_2001], ignore_index=True)"
   ]
  },
  {
   "cell_type": "code",
   "execution_count": 4,
   "id": "3c953761",
   "metadata": {},
   "outputs": [
    {
     "name": "stdout",
     "output_type": "stream",
     "text": [
      "<class 'pandas.core.frame.DataFrame'>\n",
      "RangeIndex: 2476 entries, 0 to 2475\n",
      "Data columns (total 26 columns):\n",
      " #   Column                 Non-Null Count  Dtype  \n",
      "---  ------                 --------------  -----  \n",
      " 0   imdb_id                2476 non-null   object \n",
      " 1   adult                  2476 non-null   float64\n",
      " 2   backdrop_path          1256 non-null   object \n",
      " 3   belongs_to_collection  195 non-null    object \n",
      " 4   budget                 2476 non-null   float64\n",
      " 5   genres                 2476 non-null   object \n",
      " 6   homepage               173 non-null    object \n",
      " 7   id                     2476 non-null   float64\n",
      " 8   original_language      2476 non-null   object \n",
      " 9   original_title         2476 non-null   object \n",
      " 10  overview               2423 non-null   object \n",
      " 11  popularity             2476 non-null   float64\n",
      " 12  poster_path            2169 non-null   object \n",
      " 13  production_companies   2476 non-null   object \n",
      " 14  production_countries   2476 non-null   object \n",
      " 15  release_date           2457 non-null   object \n",
      " 16  revenue                2476 non-null   float64\n",
      " 17  runtime                2433 non-null   float64\n",
      " 18  spoken_languages       2476 non-null   object \n",
      " 19  status                 2476 non-null   object \n",
      " 20  tagline                1023 non-null   object \n",
      " 21  title                  2476 non-null   object \n",
      " 22  video                  2476 non-null   float64\n",
      " 23  vote_average           2476 non-null   float64\n",
      " 24  vote_count             2476 non-null   float64\n",
      " 25  certification          786 non-null    object \n",
      "dtypes: float64(9), object(17)\n",
      "memory usage: 503.1+ KB\n"
     ]
    }
   ],
   "source": [
    "df.info()"
   ]
  },
  {
   "cell_type": "markdown",
   "id": "fe706286",
   "metadata": {},
   "source": [
    "# Budget and Revenue"
   ]
  },
  {
   "cell_type": "code",
   "execution_count": 5,
   "id": "481ae649",
   "metadata": {},
   "outputs": [
    {
     "name": "stdout",
     "output_type": "stream",
     "text": [
      "0 missing values for budget.\n",
      "0 missing values for revenue.\n"
     ]
    }
   ],
   "source": [
    "print(f\"{df['budget'].isna().sum()} missing values for budget.\")\n",
    "print(f\"{df['revenue'].isna().sum()} missing values for revenue.\")"
   ]
  },
  {
   "cell_type": "code",
   "execution_count": 6,
   "id": "d37c7a40",
   "metadata": {},
   "outputs": [
    {
     "data": {
      "text/html": [
       "<div>\n",
       "<style scoped>\n",
       "    .dataframe tbody tr th:only-of-type {\n",
       "        vertical-align: middle;\n",
       "    }\n",
       "\n",
       "    .dataframe tbody tr th {\n",
       "        vertical-align: top;\n",
       "    }\n",
       "\n",
       "    .dataframe thead th {\n",
       "        text-align: right;\n",
       "    }\n",
       "</style>\n",
       "<table border=\"1\" class=\"dataframe\">\n",
       "  <thead>\n",
       "    <tr style=\"text-align: right;\">\n",
       "      <th></th>\n",
       "      <th>budget</th>\n",
       "      <th>revenue</th>\n",
       "    </tr>\n",
       "  </thead>\n",
       "  <tbody>\n",
       "    <tr>\n",
       "      <th>count</th>\n",
       "      <td>2.476000e+03</td>\n",
       "      <td>2.476000e+03</td>\n",
       "    </tr>\n",
       "    <tr>\n",
       "      <th>mean</th>\n",
       "      <td>5.389631e+06</td>\n",
       "      <td>1.125107e+07</td>\n",
       "    </tr>\n",
       "    <tr>\n",
       "      <th>std</th>\n",
       "      <td>1.734807e+07</td>\n",
       "      <td>5.326838e+07</td>\n",
       "    </tr>\n",
       "    <tr>\n",
       "      <th>min</th>\n",
       "      <td>0.000000e+00</td>\n",
       "      <td>0.000000e+00</td>\n",
       "    </tr>\n",
       "    <tr>\n",
       "      <th>25%</th>\n",
       "      <td>0.000000e+00</td>\n",
       "      <td>0.000000e+00</td>\n",
       "    </tr>\n",
       "    <tr>\n",
       "      <th>50%</th>\n",
       "      <td>0.000000e+00</td>\n",
       "      <td>0.000000e+00</td>\n",
       "    </tr>\n",
       "    <tr>\n",
       "      <th>75%</th>\n",
       "      <td>0.000000e+00</td>\n",
       "      <td>0.000000e+00</td>\n",
       "    </tr>\n",
       "    <tr>\n",
       "      <th>max</th>\n",
       "      <td>1.400000e+08</td>\n",
       "      <td>9.764756e+08</td>\n",
       "    </tr>\n",
       "  </tbody>\n",
       "</table>\n",
       "</div>"
      ],
      "text/plain": [
       "             budget       revenue\n",
       "count  2.476000e+03  2.476000e+03\n",
       "mean   5.389631e+06  1.125107e+07\n",
       "std    1.734807e+07  5.326838e+07\n",
       "min    0.000000e+00  0.000000e+00\n",
       "25%    0.000000e+00  0.000000e+00\n",
       "50%    0.000000e+00  0.000000e+00\n",
       "75%    0.000000e+00  0.000000e+00\n",
       "max    1.400000e+08  9.764756e+08"
      ]
     },
     "execution_count": 6,
     "metadata": {},
     "output_type": "execute_result"
    }
   ],
   "source": [
    "df[['budget','revenue']].describe()"
   ]
  },
  {
   "cell_type": "markdown",
   "id": "065b9b16",
   "metadata": {},
   "source": [
    "The minimum values in both columns are zeros...over 75% of the values in both columns are zeros. This means there must be movies that have zero for both budget and revenue. Since these movies can't provide any help with determining what makes a financially successful movie, I will have to remove them from the analysis. Let's see how many we are going to lose."
   ]
  },
  {
   "cell_type": "code",
   "execution_count": 7,
   "id": "19609633",
   "metadata": {},
   "outputs": [
    {
     "name": "stdout",
     "output_type": "stream",
     "text": [
      "1860 movies with budget and revenue given as 0\n",
      "616 movies with a known budget OR revenue greater than 0\n",
      "     (80 with budget given as 0)\n",
      "     (190 with revenue given as 0)\n",
      "     (346 budget AND revenue greater than 0)\n"
     ]
    }
   ],
   "source": [
    "print(len(df.loc[(df['budget']==0) & (df['revenue']==0),:]), \"movies with budget and revenue given as 0\")\n",
    "print(len(df.loc[(df['budget']>0) | (df['revenue']>0),:]), \"movies with a known budget OR revenue greater than 0\")\n",
    "print(f\"     ({len(df.loc[(df['budget']==0) & (df['revenue']>0),:])} with budget given as 0)\")\n",
    "print(f\"     ({len(df.loc[(df['budget']>0) & (df['revenue']==0),:])} with revenue given as 0)\")\n",
    "print(f\"     ({len(df.loc[(df['budget']>0) & (df['revenue']>0),:])} budget AND revenue greater than 0)\")"
   ]
  },
  {
   "cell_type": "code",
   "execution_count": 8,
   "id": "2aa8f425",
   "metadata": {},
   "outputs": [
    {
     "data": {
      "text/plain": [
       "(616, 26)"
      ]
     },
     "execution_count": 8,
     "metadata": {},
     "output_type": "execute_result"
    }
   ],
   "source": [
    "df = df.loc[(df['budget']>0) | (df['revenue']>0),:]\n",
    "df.shape"
   ]
  },
  {
   "cell_type": "code",
   "execution_count": 9,
   "id": "4a42c7e9",
   "metadata": {},
   "outputs": [
    {
     "data": {
      "text/html": [
       "<div>\n",
       "<style scoped>\n",
       "    .dataframe tbody tr th:only-of-type {\n",
       "        vertical-align: middle;\n",
       "    }\n",
       "\n",
       "    .dataframe tbody tr th {\n",
       "        vertical-align: top;\n",
       "    }\n",
       "\n",
       "    .dataframe thead th {\n",
       "        text-align: right;\n",
       "    }\n",
       "</style>\n",
       "<table border=\"1\" class=\"dataframe\">\n",
       "  <thead>\n",
       "    <tr style=\"text-align: right;\">\n",
       "      <th></th>\n",
       "      <th>budget</th>\n",
       "      <th>revenue</th>\n",
       "    </tr>\n",
       "  </thead>\n",
       "  <tbody>\n",
       "    <tr>\n",
       "      <th>count</th>\n",
       "      <td>6.160000e+02</td>\n",
       "      <td>6.160000e+02</td>\n",
       "    </tr>\n",
       "    <tr>\n",
       "      <th>mean</th>\n",
       "      <td>2.166352e+07</td>\n",
       "      <td>4.522347e+07</td>\n",
       "    </tr>\n",
       "    <tr>\n",
       "      <th>std</th>\n",
       "      <td>2.929232e+07</td>\n",
       "      <td>9.940040e+07</td>\n",
       "    </tr>\n",
       "    <tr>\n",
       "      <th>min</th>\n",
       "      <td>0.000000e+00</td>\n",
       "      <td>0.000000e+00</td>\n",
       "    </tr>\n",
       "    <tr>\n",
       "      <th>25%</th>\n",
       "      <td>7.000000e+05</td>\n",
       "      <td>0.000000e+00</td>\n",
       "    </tr>\n",
       "    <tr>\n",
       "      <th>50%</th>\n",
       "      <td>8.500000e+06</td>\n",
       "      <td>3.137902e+06</td>\n",
       "    </tr>\n",
       "    <tr>\n",
       "      <th>75%</th>\n",
       "      <td>3.000000e+07</td>\n",
       "      <td>3.952534e+07</td>\n",
       "    </tr>\n",
       "    <tr>\n",
       "      <th>max</th>\n",
       "      <td>1.400000e+08</td>\n",
       "      <td>9.764756e+08</td>\n",
       "    </tr>\n",
       "  </tbody>\n",
       "</table>\n",
       "</div>"
      ],
      "text/plain": [
       "             budget       revenue\n",
       "count  6.160000e+02  6.160000e+02\n",
       "mean   2.166352e+07  4.522347e+07\n",
       "std    2.929232e+07  9.940040e+07\n",
       "min    0.000000e+00  0.000000e+00\n",
       "25%    7.000000e+05  0.000000e+00\n",
       "50%    8.500000e+06  3.137902e+06\n",
       "75%    3.000000e+07  3.952534e+07\n",
       "max    1.400000e+08  9.764756e+08"
      ]
     },
     "execution_count": 9,
     "metadata": {},
     "output_type": "execute_result"
    }
   ],
   "source": [
    "df[['budget','revenue']].describe()"
   ]
  },
  {
   "cell_type": "markdown",
   "id": "4315147c",
   "metadata": {},
   "source": [
    "There are still some zero values present in either column, but never both columns at the same time."
   ]
  },
  {
   "cell_type": "markdown",
   "id": "cdfcaa3c",
   "metadata": {},
   "source": [
    "#  Certification Categories"
   ]
  },
  {
   "cell_type": "markdown",
   "id": "f9fd54cb",
   "metadata": {},
   "source": [
    "I can split the data into certification categories, and see how many are in each category."
   ]
  },
  {
   "cell_type": "code",
   "execution_count": 10,
   "id": "0314ca94",
   "metadata": {},
   "outputs": [
    {
     "data": {
      "text/html": [
       "<div>\n",
       "<style scoped>\n",
       "    .dataframe tbody tr th:only-of-type {\n",
       "        vertical-align: middle;\n",
       "    }\n",
       "\n",
       "    .dataframe tbody tr th {\n",
       "        vertical-align: top;\n",
       "    }\n",
       "\n",
       "    .dataframe thead th {\n",
       "        text-align: right;\n",
       "    }\n",
       "</style>\n",
       "<table border=\"1\" class=\"dataframe\">\n",
       "  <thead>\n",
       "    <tr style=\"text-align: right;\">\n",
       "      <th></th>\n",
       "      <th>certification</th>\n",
       "      <th>count</th>\n",
       "    </tr>\n",
       "  </thead>\n",
       "  <tbody>\n",
       "    <tr>\n",
       "      <th>0</th>\n",
       "      <td>G</td>\n",
       "      <td>14</td>\n",
       "    </tr>\n",
       "    <tr>\n",
       "      <th>1</th>\n",
       "      <td>NR</td>\n",
       "      <td>17</td>\n",
       "    </tr>\n",
       "    <tr>\n",
       "      <th>2</th>\n",
       "      <td>PG</td>\n",
       "      <td>35</td>\n",
       "    </tr>\n",
       "    <tr>\n",
       "      <th>3</th>\n",
       "      <td>PG-13</td>\n",
       "      <td>130</td>\n",
       "    </tr>\n",
       "    <tr>\n",
       "      <th>4</th>\n",
       "      <td>R</td>\n",
       "      <td>226</td>\n",
       "    </tr>\n",
       "    <tr>\n",
       "      <th>5</th>\n",
       "      <td>NaN</td>\n",
       "      <td>194</td>\n",
       "    </tr>\n",
       "  </tbody>\n",
       "</table>\n",
       "</div>"
      ],
      "text/plain": [
       "  certification  count\n",
       "0             G     14\n",
       "1            NR     17\n",
       "2            PG     35\n",
       "3         PG-13    130\n",
       "4             R    226\n",
       "5           NaN    194"
      ]
     },
     "execution_count": 10,
     "metadata": {},
     "output_type": "execute_result"
    }
   ],
   "source": [
    "df.groupby(['certification'],dropna=False)['imdb_id'].count().reset_index(name='count')"
   ]
  },
  {
   "cell_type": "markdown",
   "id": "5b85446a",
   "metadata": {},
   "source": [
    "Now to add the remaining numerical information to this table."
   ]
  },
  {
   "cell_type": "code",
   "execution_count": 11,
   "id": "65eeb2ba",
   "metadata": {},
   "outputs": [
    {
     "data": {
      "text/html": [
       "<div>\n",
       "<style scoped>\n",
       "    .dataframe tbody tr th:only-of-type {\n",
       "        vertical-align: middle;\n",
       "    }\n",
       "\n",
       "    .dataframe tbody tr th {\n",
       "        vertical-align: top;\n",
       "    }\n",
       "\n",
       "    .dataframe thead th {\n",
       "        text-align: right;\n",
       "    }\n",
       "</style>\n",
       "<table border=\"1\" class=\"dataframe\">\n",
       "  <thead>\n",
       "    <tr style=\"text-align: right;\">\n",
       "      <th></th>\n",
       "      <th>certification</th>\n",
       "      <th>adult</th>\n",
       "      <th>budget</th>\n",
       "      <th>id</th>\n",
       "      <th>popularity</th>\n",
       "      <th>revenue</th>\n",
       "      <th>runtime</th>\n",
       "      <th>video</th>\n",
       "      <th>vote_average</th>\n",
       "      <th>vote_count</th>\n",
       "      <th>count</th>\n",
       "    </tr>\n",
       "  </thead>\n",
       "  <tbody>\n",
       "    <tr>\n",
       "      <th>0</th>\n",
       "      <td>G</td>\n",
       "      <td>0.0</td>\n",
       "      <td>4.085714e+07</td>\n",
       "      <td>17450.500000</td>\n",
       "      <td>37.158214</td>\n",
       "      <td>1.237085e+08</td>\n",
       "      <td>85.928571</td>\n",
       "      <td>0.0</td>\n",
       "      <td>6.407143</td>\n",
       "      <td>2368.000000</td>\n",
       "      <td>14</td>\n",
       "    </tr>\n",
       "    <tr>\n",
       "      <th>1</th>\n",
       "      <td>NR</td>\n",
       "      <td>0.0</td>\n",
       "      <td>6.388241e+06</td>\n",
       "      <td>73369.529412</td>\n",
       "      <td>10.295941</td>\n",
       "      <td>8.887611e+06</td>\n",
       "      <td>101.882353</td>\n",
       "      <td>0.0</td>\n",
       "      <td>6.035294</td>\n",
       "      <td>426.588235</td>\n",
       "      <td>17</td>\n",
       "    </tr>\n",
       "    <tr>\n",
       "      <th>2</th>\n",
       "      <td>PG</td>\n",
       "      <td>0.0</td>\n",
       "      <td>4.497857e+07</td>\n",
       "      <td>35638.571429</td>\n",
       "      <td>32.933343</td>\n",
       "      <td>1.123378e+08</td>\n",
       "      <td>103.228571</td>\n",
       "      <td>0.0</td>\n",
       "      <td>6.154286</td>\n",
       "      <td>2394.600000</td>\n",
       "      <td>35</td>\n",
       "    </tr>\n",
       "    <tr>\n",
       "      <th>3</th>\n",
       "      <td>PG-13</td>\n",
       "      <td>0.0</td>\n",
       "      <td>4.348391e+07</td>\n",
       "      <td>15475.900000</td>\n",
       "      <td>14.789169</td>\n",
       "      <td>9.957933e+07</td>\n",
       "      <td>109.169231</td>\n",
       "      <td>0.0</td>\n",
       "      <td>6.099231</td>\n",
       "      <td>1685.884615</td>\n",
       "      <td>130</td>\n",
       "    </tr>\n",
       "    <tr>\n",
       "      <th>4</th>\n",
       "      <td>R</td>\n",
       "      <td>0.0</td>\n",
       "      <td>2.028827e+07</td>\n",
       "      <td>24560.265487</td>\n",
       "      <td>12.014265</td>\n",
       "      <td>3.324591e+07</td>\n",
       "      <td>105.765487</td>\n",
       "      <td>0.0</td>\n",
       "      <td>5.984071</td>\n",
       "      <td>929.380531</td>\n",
       "      <td>226</td>\n",
       "    </tr>\n",
       "    <tr>\n",
       "      <th>5</th>\n",
       "      <td>NaN</td>\n",
       "      <td>0.0</td>\n",
       "      <td>4.390831e+06</td>\n",
       "      <td>113219.664948</td>\n",
       "      <td>4.441897</td>\n",
       "      <td>8.164620e+06</td>\n",
       "      <td>101.211340</td>\n",
       "      <td>0.0</td>\n",
       "      <td>5.119072</td>\n",
       "      <td>228.706186</td>\n",
       "      <td>194</td>\n",
       "    </tr>\n",
       "  </tbody>\n",
       "</table>\n",
       "</div>"
      ],
      "text/plain": [
       "  certification  adult        budget             id  popularity       revenue  \\\n",
       "0             G    0.0  4.085714e+07   17450.500000   37.158214  1.237085e+08   \n",
       "1            NR    0.0  6.388241e+06   73369.529412   10.295941  8.887611e+06   \n",
       "2            PG    0.0  4.497857e+07   35638.571429   32.933343  1.123378e+08   \n",
       "3         PG-13    0.0  4.348391e+07   15475.900000   14.789169  9.957933e+07   \n",
       "4             R    0.0  2.028827e+07   24560.265487   12.014265  3.324591e+07   \n",
       "5           NaN    0.0  4.390831e+06  113219.664948    4.441897  8.164620e+06   \n",
       "\n",
       "      runtime  video  vote_average   vote_count  count  \n",
       "0   85.928571    0.0      6.407143  2368.000000     14  \n",
       "1  101.882353    0.0      6.035294   426.588235     17  \n",
       "2  103.228571    0.0      6.154286  2394.600000     35  \n",
       "3  109.169231    0.0      6.099231  1685.884615    130  \n",
       "4  105.765487    0.0      5.984071   929.380531    226  \n",
       "5  101.211340    0.0      5.119072   228.706186    194  "
      ]
     },
     "execution_count": 11,
     "metadata": {},
     "output_type": "execute_result"
    }
   ],
   "source": [
    "certification_means = df.groupby(['certification'],dropna=False).mean().reset_index().merge(\n",
    "    df.groupby(['certification'],dropna=False)['imdb_id'].count().reset_index(name='count'),\n",
    "    on='certification')\n",
    "certification_means"
   ]
  },
  {
   "cell_type": "markdown",
   "id": "ed6517ca",
   "metadata": {},
   "source": [
    "Since we are only interested in G/PG/PG-13/R, the other ratings can be dropped. I will also drop the columns that are all zeros and the id column because its average has no meaning."
   ]
  },
  {
   "cell_type": "code",
   "execution_count": 12,
   "id": "61324ebc",
   "metadata": {},
   "outputs": [
    {
     "data": {
      "text/html": [
       "<div>\n",
       "<style scoped>\n",
       "    .dataframe tbody tr th:only-of-type {\n",
       "        vertical-align: middle;\n",
       "    }\n",
       "\n",
       "    .dataframe tbody tr th {\n",
       "        vertical-align: top;\n",
       "    }\n",
       "\n",
       "    .dataframe thead th {\n",
       "        text-align: right;\n",
       "    }\n",
       "</style>\n",
       "<table border=\"1\" class=\"dataframe\">\n",
       "  <thead>\n",
       "    <tr style=\"text-align: right;\">\n",
       "      <th></th>\n",
       "      <th>certification</th>\n",
       "      <th>budget</th>\n",
       "      <th>popularity</th>\n",
       "      <th>revenue</th>\n",
       "      <th>runtime</th>\n",
       "      <th>vote_average</th>\n",
       "      <th>vote_count</th>\n",
       "      <th>count</th>\n",
       "    </tr>\n",
       "  </thead>\n",
       "  <tbody>\n",
       "    <tr>\n",
       "      <th>0</th>\n",
       "      <td>G</td>\n",
       "      <td>4.085714e+07</td>\n",
       "      <td>37.158214</td>\n",
       "      <td>1.237085e+08</td>\n",
       "      <td>85.928571</td>\n",
       "      <td>6.407143</td>\n",
       "      <td>2368.000000</td>\n",
       "      <td>14</td>\n",
       "    </tr>\n",
       "    <tr>\n",
       "      <th>2</th>\n",
       "      <td>PG</td>\n",
       "      <td>4.497857e+07</td>\n",
       "      <td>32.933343</td>\n",
       "      <td>1.123378e+08</td>\n",
       "      <td>103.228571</td>\n",
       "      <td>6.154286</td>\n",
       "      <td>2394.600000</td>\n",
       "      <td>35</td>\n",
       "    </tr>\n",
       "    <tr>\n",
       "      <th>3</th>\n",
       "      <td>PG-13</td>\n",
       "      <td>4.348391e+07</td>\n",
       "      <td>14.789169</td>\n",
       "      <td>9.957933e+07</td>\n",
       "      <td>109.169231</td>\n",
       "      <td>6.099231</td>\n",
       "      <td>1685.884615</td>\n",
       "      <td>130</td>\n",
       "    </tr>\n",
       "    <tr>\n",
       "      <th>4</th>\n",
       "      <td>R</td>\n",
       "      <td>2.028827e+07</td>\n",
       "      <td>12.014265</td>\n",
       "      <td>3.324591e+07</td>\n",
       "      <td>105.765487</td>\n",
       "      <td>5.984071</td>\n",
       "      <td>929.380531</td>\n",
       "      <td>226</td>\n",
       "    </tr>\n",
       "  </tbody>\n",
       "</table>\n",
       "</div>"
      ],
      "text/plain": [
       "  certification        budget  popularity       revenue     runtime  \\\n",
       "0             G  4.085714e+07   37.158214  1.237085e+08   85.928571   \n",
       "2            PG  4.497857e+07   32.933343  1.123378e+08  103.228571   \n",
       "3         PG-13  4.348391e+07   14.789169  9.957933e+07  109.169231   \n",
       "4             R  2.028827e+07   12.014265  3.324591e+07  105.765487   \n",
       "\n",
       "   vote_average   vote_count  count  \n",
       "0      6.407143  2368.000000     14  \n",
       "2      6.154286  2394.600000     35  \n",
       "3      6.099231  1685.884615    130  \n",
       "4      5.984071   929.380531    226  "
      ]
     },
     "execution_count": 12,
     "metadata": {},
     "output_type": "execute_result"
    }
   ],
   "source": [
    "certification_filter = (certification_means['certification']=='G')|(\n",
    "    certification_means['certification']=='PG')|(\n",
    "    certification_means['certification']=='PG-13')|(\n",
    "    certification_means['certification']=='R')\n",
    "\n",
    "certification_means = certification_means.loc[ certification_filter,:  ].drop(columns=['id','adult','video'])\n",
    "\n",
    "certification_means"
   ]
  },
  {
   "cell_type": "markdown",
   "id": "c663a783",
   "metadata": {},
   "source": [
    "The number of movies in each certification category:\n",
    "* G: 14\n",
    "* PG: 35\n",
    "* PG-13: 130\n",
    "* R: 226\n",
    "\n",
    "\n",
    "The average budget for each certification category:\n",
    "* G: \\$ 40.86 Million\n",
    "* PG: \\$ 44.98 Million\n",
    "* PG-13: \\$ 43.48 Million\n",
    "* R: \\$ 20.29 Million\n",
    "\n",
    "The average revenue for each certification category:\n",
    "* G: \\$ 123.71 Million\n",
    "* PG: \\$ 112.33 Million\n",
    "* PG-13: \\$ 99.58 Million\n",
    "* R: \\$ 33.25 Million\n",
    "\n",
    "We can see how these financial numbers compare in the graphs below."
   ]
  },
  {
   "cell_type": "markdown",
   "id": "3d1aba5e",
   "metadata": {},
   "source": [
    "# Visualizations"
   ]
  },
  {
   "cell_type": "code",
   "execution_count": 29,
   "id": "68ef3b81",
   "metadata": {},
   "outputs": [
    {
     "data": {
      "image/png": "[encoded data removed]",
      "text/plain": [
       "<Figure size 576x288 with 2 Axes>"
      ]
     },
     "metadata": {
      "needs_background": "light"
     },
     "output_type": "display_data"
    }
   ],
   "source": [
    "from matplotlib.ticker import FuncFormatter\n",
    "\n",
    "# define the format\n",
    "def mdollar(x,pos):\n",
    "    # function for use wth matplotlib FuncFormatter -  formats money in millions\n",
    "    return f\"${x*1e-6:,.0f}M\"\n",
    "# create the formatter\n",
    "\n",
    "mdollar_formatter = FuncFormatter(mdollar)\n",
    "\n",
    "fig, axe = plt.subplots(ncols = 2, figsize=(8,4),constrained_layout=True)\n",
    "\n",
    "sns.barplot(ax = axe[0],\n",
    "            data = certification_means,\n",
    "            x = 'certification',\n",
    "            y = 'budget',\n",
    "           zorder=3)\n",
    "sns.barplot(ax = axe[1],\n",
    "            data = certification_means,\n",
    "            x = 'certification',\n",
    "            y = 'revenue',\n",
    "           zorder=3)\n",
    "axe[0].set_xlabel('Certification', labelpad=15, fontsize='x-large')\n",
    "axe[0].set_ylabel('Mean Budget', labelpad=15, fontsize='x-large')\n",
    "axe[0].yaxis.set_major_formatter(mdollar_formatter)\n",
    "axe[1].set_xlabel('Certification', labelpad=15, fontsize='x-large')\n",
    "axe[1].set_ylabel('Mean Revenue', labelpad=15, fontsize='x-large')\n",
    "axe[1].yaxis.set_major_formatter(mdollar_formatter)\n",
    "axe[1].yaxis.set_label_position('right')\n",
    "axe[1].yaxis.tick_right()\n",
    "axe[0].set_title('Mean Budget\\nper Movie Certification\\n(2000-2001)', fontsize='xx-large')\n",
    "axe[1].set_title('Mean Revenue\\nper Movie Certification\\n(2000-2001)', fontsize='xx-large')\n",
    "axe[0].yaxis.grid(True,zorder=1)\n",
    "axe[1].yaxis.grid(True,zorder=1)\n",
    "axe[0].set(ylim=(0,130000000))\n",
    "axe[1].set(ylim=(0,130000000))\n",
    "plt.show()"
   ]
  },
  {
   "cell_type": "markdown",
   "id": "2c45a70d",
   "metadata": {},
   "source": [
    "We can also see a comparison of the revenue to the budget of each movie individually."
   ]
  },
  {
   "cell_type": "code",
   "execution_count": 39,
   "id": "e70606f1",
   "metadata": {},
   "outputs": [
    {
     "data": {
      "image/png": "[encoded data removed]",
      "text/plain": [
       "<Figure size 576x432 with 1 Axes>"
      ]
     },
     "metadata": {},
     "output_type": "display_data"
    }
   ],
   "source": [
    "plt.figure(figsize=(8,6))\n",
    "certification_filter = (df['certification']=='G')|(\n",
    "    df['certification']=='PG')|(\n",
    "    df['certification']=='PG-13')|(\n",
    "    df['certification']=='R')\n",
    "\n",
    "axe = sns.scatterplot(data = df[certification_filter].sort_values(by='certification'),\n",
    "                      x = 'budget',\n",
    "                      y = 'revenue',\n",
    "                      hue='certification',\n",
    "                      style='certification',\n",
    "                      s=100)\n",
    "axe.set_xlabel('Budget', labelpad=15, fontsize='x-large')\n",
    "axe.set_ylabel('Revenue', labelpad=15, fontsize='x-large')\n",
    "axe.plot([0,140000000],[0,140000000],color='black')\n",
    "# axe.plot([0,140000000],[0,280000000])\n",
    "# axe.plot([0,140000000],[0,420000000])\n",
    "# axe.plot([0,140000000],[0,590000000])\n",
    "axe.xaxis.set_major_formatter(mdollar_formatter)\n",
    "axe.yaxis.set_major_formatter(mdollar_formatter)\n",
    "axe.set_title('Revenues and Budgets per Movie Certification (2000-2001)\\n(with Break-Even Line)', fontsize='xx-large',pad=15)\n",
    "# axe.set(xscale='log',yscale='log')\n",
    "plt.show()"
   ]
  },
  {
   "cell_type": "code",
   "execution_count": 19,
   "id": "9ef9ea11",
   "metadata": {},
   "outputs": [],
   "source": [
    "df['r_to_b_ratio']=df['revenue']/df['budget']"
   ]
  },
  {
   "cell_type": "code",
   "execution_count": 62,
   "id": "6be05fed",
   "metadata": {},
   "outputs": [
    {
     "data": {
      "image/png": "[encoded data removed]",
      "text/plain": [
       "<Figure size 576x288 with 1 Axes>"
      ]
     },
     "metadata": {},
     "output_type": "display_data"
    },
    {
     "data": {
      "image/png": "[encoded data removed]",
      "text/plain": [
       "<Figure size 576x288 with 1 Axes>"
      ]
     },
     "metadata": {},
     "output_type": "display_data"
    }
   ],
   "source": [
    "plt.figure(figsize=(8,4),tight_layout=True)\n",
    "# sns.set(style=\"white\")\n",
    "axe = sns.boxplot(data=df[certification_filter][df[certification_filter]['budget']!=0].sort_values(by='certification') ,x=\"r_to_b_ratio\",y=\"certification\", notch=True,\\\n",
    "            width=0.5,\\\n",
    "            linewidth=1,\\\n",
    "            showmeans=True,\\\n",
    "            dodge=False,\\\n",
    "            flierprops=dict(marker=\"d\",color=\"black\"),\\\n",
    "            capprops=dict(color=\"black\"),\\\n",
    "            whiskerprops=dict(color=\"black\"),\\\n",
    "            boxprops=dict(edgecolor=\"black\"),\\\n",
    "            medianprops=dict(color=\"black\"),\\\n",
    "            meanprops=dict(color=\"black\",marker=\"o\",markerfacecolor=\"white\",markeredgecolor=\"black\"))\n",
    "# axe.set_xlim(0,10);\n",
    "# axe.set_xticks(range(0,10,1));\n",
    "axe.tick_params(bottom=True,left=True)\n",
    "axe.set_title(\"Boxplot Distribution of Revenue/Budget Ratio per Certification\\n(White Circle is the Mean Ratio)\",fontsize=\"x-large\",pad=20);\n",
    "axe.set_xlabel(\"Ratio of Revenue to Budget\",fontsize=\"large\",labelpad=10);\n",
    "axe.set_ylabel(\"Certification\",fontsize=\"large\",labelpad=10);\n",
    "axe.xaxis.grid(True);\n",
    "# axe.set(xscale='log')\n",
    "plt.show()\n",
    "\n",
    "plt.figure(figsize=(8,4),tight_layout=True)\n",
    "# sns.set(style=\"white\")\n",
    "axe = sns.boxplot(data=df[certification_filter][df[certification_filter]['budget']!=0].sort_values(by='certification') ,x=\"r_to_b_ratio\",y=\"certification\", notch=True,\\\n",
    "            width=0.5,\\\n",
    "            linewidth=1,\\\n",
    "            showmeans=True,\\\n",
    "            dodge=False,\\\n",
    "            flierprops=dict(marker=\"d\",color=\"black\"),\\\n",
    "            capprops=dict(color=\"black\"),\\\n",
    "            whiskerprops=dict(color=\"black\"),\\\n",
    "            boxprops=dict(edgecolor=\"black\"),\\\n",
    "            medianprops=dict(color=\"black\"),\\\n",
    "            meanprops=dict(color=\"black\",marker=\"o\",markerfacecolor=\"white\",markeredgecolor=\"black\"))\n",
    "axe.set_xlim(0,10);\n",
    "axe.set_xticks(range(0,10,1));\n",
    "axe.tick_params(bottom=True,left=True)\n",
    "axe.set_title(\"Boxplot Distribution of Revenue/Budget Ratio per Certification\\n(White Circle is the Mean Ratio)\\n(Outliers beyond a Ratio of 10 not Shown)\",fontsize=\"x-large\",pad=20);\n",
    "axe.set_xlabel(\"Ratio of Revenue to Budget\",fontsize=\"large\",labelpad=10);\n",
    "axe.set_ylabel(\"Certification\",fontsize=\"large\",labelpad=10);\n",
    "axe.xaxis.grid(True);\n",
    "# axe.set(xscale='log')\n",
    "plt.show()"
   ]
  },
  {
   "cell_type": "markdown",
   "id": "0c68289b",
   "metadata": {},
   "source": [
    "Although most movies being examined in this data set have ratios greater than 1 (revenue is greater than budget), the R certification as a sub-group of movies leans the other way.\n",
    "\n",
    "Most movies also have a smaller ratio than the mean value in their certification category, except the G certification sub-group.  This is because the mean values are being skewed by extreme outliers."
   ]
  }
 ],
 "metadata": {
  "kernelspec": {
   "display_name": "Python (dojo-env)",
   "language": "python",
   "name": "dojo-env"
  },
  "language_info": {
   "codemirror_mode": {
    "name": "ipython",
    "version": 3
   },
   "file_extension": ".py",
   "mimetype": "text/x-python",
   "name": "python",
   "nbconvert_exporter": "python",
   "pygments_lexer": "ipython3",
   "version": "3.7.12"
  },
  "toc": {
   "base_numbering": 1,
   "nav_menu": {},
   "number_sections": false,
   "sideBar": true,
   "skip_h1_title": false,
   "title_cell": "Table of Contents",
   "title_sidebar": "Contents",
   "toc_cell": false,
   "toc_position": {},
   "toc_section_display": true,
   "toc_window_display": true
  }
 },
 "nbformat": 4,
 "nbformat_minor": 5
}
