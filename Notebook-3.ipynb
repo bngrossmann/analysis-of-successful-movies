{
 "cells": [
  {
   "cell_type": "markdown",
   "id": "02538ba1",
   "metadata": {},
   "source": [
    "# Analysis of Successful Movies (Notebook 3)\n",
    "* Benjamin Grossmann"
   ]
  },
  {
   "cell_type": "markdown",
   "id": "28917032",
   "metadata": {},
   "source": [
    "This notebook goes through a little Exploratory Data Analysis (EDA) using TMDB data retrieved from Notebook 2."
   ]
  },
  {
   "cell_type": "markdown",
   "id": "44e74400",
   "metadata": {},
   "source": [
    "# Initial Imports and Loads"
   ]
  },
  {
   "cell_type": "code",
   "execution_count": 1,
   "id": "26f4e15a",
   "metadata": {},
   "outputs": [],
   "source": [
    "import numpy as np\n",
    "import pandas as pd\n",
    "import matplotlib.pyplot as plt\n",
    "import seaborn as sns"
   ]
  },
  {
   "cell_type": "code",
   "execution_count": 2,
   "id": "09b95b3e",
   "metadata": {},
   "outputs": [],
   "source": [
    "# open saved csv.gz files of from tmdb data\n",
    "df_2000 = pd.read_csv('Data/tmdb_data_2000.csv.gz', low_memory = False)\n",
    "df_2001 = pd.read_csv('Data/tmdb_data_2001.csv.gz', low_memory = False)"
   ]
  },
  {
   "cell_type": "code",
   "execution_count": 3,
   "id": "1ca46934",
   "metadata": {},
   "outputs": [],
   "source": [
    "df = pd.concat([df_2000,df_2001], ignore_index=True)"
   ]
  },
  {
   "cell_type": "code",
   "execution_count": 4,
   "id": "3c953761",
   "metadata": {},
   "outputs": [
    {
     "name": "stdout",
     "output_type": "stream",
     "text": [
      "<class 'pandas.core.frame.DataFrame'>\n",
      "RangeIndex: 2476 entries, 0 to 2475\n",
      "Data columns (total 26 columns):\n",
      " #   Column                 Non-Null Count  Dtype  \n",
      "---  ------                 --------------  -----  \n",
      " 0   imdb_id                2476 non-null   object \n",
      " 1   adult                  2476 non-null   float64\n",
      " 2   backdrop_path          1256 non-null   object \n",
      " 3   belongs_to_collection  195 non-null    object \n",
      " 4   budget                 2476 non-null   float64\n",
      " 5   genres                 2476 non-null   object \n",
      " 6   homepage               173 non-null    object \n",
      " 7   id                     2476 non-null   float64\n",
      " 8   original_language      2476 non-null   object \n",
      " 9   original_title         2476 non-null   object \n",
      " 10  overview               2423 non-null   object \n",
      " 11  popularity             2476 non-null   float64\n",
      " 12  poster_path            2169 non-null   object \n",
      " 13  production_companies   2476 non-null   object \n",
      " 14  production_countries   2476 non-null   object \n",
      " 15  release_date           2457 non-null   object \n",
      " 16  revenue                2476 non-null   float64\n",
      " 17  runtime                2433 non-null   float64\n",
      " 18  spoken_languages       2476 non-null   object \n",
      " 19  status                 2476 non-null   object \n",
      " 20  tagline                1023 non-null   object \n",
      " 21  title                  2476 non-null   object \n",
      " 22  video                  2476 non-null   float64\n",
      " 23  vote_average           2476 non-null   float64\n",
      " 24  vote_count             2476 non-null   float64\n",
      " 25  certification          786 non-null    object \n",
      "dtypes: float64(9), object(17)\n",
      "memory usage: 503.1+ KB\n"
     ]
    }
   ],
   "source": [
    "df.info()"
   ]
  },
  {
   "cell_type": "markdown",
   "id": "fe706286",
   "metadata": {},
   "source": [
    "# Budget and Revenue"
   ]
  },
  {
   "cell_type": "code",
   "execution_count": 5,
   "id": "481ae649",
   "metadata": {},
   "outputs": [
    {
     "name": "stdout",
     "output_type": "stream",
     "text": [
      "0 missing values for budget.\n",
      "0 missing values for revenue.\n"
     ]
    }
   ],
   "source": [
    "print(f\"{df['budget'].isna().sum()} missing values for budget.\")\n",
    "print(f\"{df['revenue'].isna().sum()} missing values for revenue.\")"
   ]
  },
  {
   "cell_type": "code",
   "execution_count": 6,
   "id": "d37c7a40",
   "metadata": {},
   "outputs": [
    {
     "data": {
      "text/html": [
       "<div>\n",
       "<style scoped>\n",
       "    .dataframe tbody tr th:only-of-type {\n",
       "        vertical-align: middle;\n",
       "    }\n",
       "\n",
       "    .dataframe tbody tr th {\n",
       "        vertical-align: top;\n",
       "    }\n",
       "\n",
       "    .dataframe thead th {\n",
       "        text-align: right;\n",
       "    }\n",
       "</style>\n",
       "<table border=\"1\" class=\"dataframe\">\n",
       "  <thead>\n",
       "    <tr style=\"text-align: right;\">\n",
       "      <th></th>\n",
       "      <th>budget</th>\n",
       "      <th>revenue</th>\n",
       "    </tr>\n",
       "  </thead>\n",
       "  <tbody>\n",
       "    <tr>\n",
       "      <th>count</th>\n",
       "      <td>2.476000e+03</td>\n",
       "      <td>2.476000e+03</td>\n",
       "    </tr>\n",
       "    <tr>\n",
       "      <th>mean</th>\n",
       "      <td>5.389631e+06</td>\n",
       "      <td>1.125107e+07</td>\n",
       "    </tr>\n",
       "    <tr>\n",
       "      <th>std</th>\n",
       "      <td>1.734807e+07</td>\n",
       "      <td>5.326838e+07</td>\n",
       "    </tr>\n",
       "    <tr>\n",
       "      <th>min</th>\n",
       "      <td>0.000000e+00</td>\n",
       "      <td>0.000000e+00</td>\n",
       "    </tr>\n",
       "    <tr>\n",
       "      <th>25%</th>\n",
       "      <td>0.000000e+00</td>\n",
       "      <td>0.000000e+00</td>\n",
       "    </tr>\n",
       "    <tr>\n",
       "      <th>50%</th>\n",
       "      <td>0.000000e+00</td>\n",
       "      <td>0.000000e+00</td>\n",
       "    </tr>\n",
       "    <tr>\n",
       "      <th>75%</th>\n",
       "      <td>0.000000e+00</td>\n",
       "      <td>0.000000e+00</td>\n",
       "    </tr>\n",
       "    <tr>\n",
       "      <th>max</th>\n",
       "      <td>1.400000e+08</td>\n",
       "      <td>9.764756e+08</td>\n",
       "    </tr>\n",
       "  </tbody>\n",
       "</table>\n",
       "</div>"
      ],
      "text/plain": [
       "             budget       revenue\n",
       "count  2.476000e+03  2.476000e+03\n",
       "mean   5.389631e+06  1.125107e+07\n",
       "std    1.734807e+07  5.326838e+07\n",
       "min    0.000000e+00  0.000000e+00\n",
       "25%    0.000000e+00  0.000000e+00\n",
       "50%    0.000000e+00  0.000000e+00\n",
       "75%    0.000000e+00  0.000000e+00\n",
       "max    1.400000e+08  9.764756e+08"
      ]
     },
     "execution_count": 6,
     "metadata": {},
     "output_type": "execute_result"
    }
   ],
   "source": [
    "df[['budget','revenue']].describe()"
   ]
  },
  {
   "cell_type": "markdown",
   "id": "065b9b16",
   "metadata": {},
   "source": [
    "The minimum values in both columns are zeros...over 75% of the values in both columns are zeros. This means there must be movies that have zero for both budget and revenue. Since these movies can't provide any help with determining what makes a financially successful movie, I will have to remove them from the analysis. Let's see how many we are going to lose."
   ]
  },
  {
   "cell_type": "code",
   "execution_count": 7,
   "id": "19609633",
   "metadata": {},
   "outputs": [
    {
     "name": "stdout",
     "output_type": "stream",
     "text": [
      "1860 movies with budget and revenue given as 0\n",
      "616 movies with a known budget OR revenue greater than 0\n",
      "     (80 with budget given as 0)\n",
      "     (190 with revenue given as 0)\n",
      "     (346 budget AND revenue greater than 0)\n"
     ]
    }
   ],
   "source": [
    "print(len(df.loc[(df['budget']==0) & (df['revenue']==0),:]), \"movies with budget and revenue given as 0\")\n",
    "print(len(df.loc[(df['budget']>0) | (df['revenue']>0),:]), \"movies with a known budget OR revenue greater than 0\")\n",
    "print(f\"     ({len(df.loc[(df['budget']==0) & (df['revenue']>0),:])} with budget given as 0)\")\n",
    "print(f\"     ({len(df.loc[(df['budget']>0) & (df['revenue']==0),:])} with revenue given as 0)\")\n",
    "print(f\"     ({len(df.loc[(df['budget']>0) & (df['revenue']>0),:])} budget AND revenue greater than 0)\")"
   ]
  },
  {
   "cell_type": "code",
   "execution_count": 8,
   "id": "2aa8f425",
   "metadata": {},
   "outputs": [
    {
     "data": {
      "text/plain": [
       "(616, 26)"
      ]
     },
     "execution_count": 8,
     "metadata": {},
     "output_type": "execute_result"
    }
   ],
   "source": [
    "df = df.loc[(df['budget']>0) | (df['revenue']>0),:]\n",
    "df.shape"
   ]
  },
  {
   "cell_type": "code",
   "execution_count": 9,
   "id": "4a42c7e9",
   "metadata": {},
   "outputs": [
    {
     "data": {
      "text/html": [
       "<div>\n",
       "<style scoped>\n",
       "    .dataframe tbody tr th:only-of-type {\n",
       "        vertical-align: middle;\n",
       "    }\n",
       "\n",
       "    .dataframe tbody tr th {\n",
       "        vertical-align: top;\n",
       "    }\n",
       "\n",
       "    .dataframe thead th {\n",
       "        text-align: right;\n",
       "    }\n",
       "</style>\n",
       "<table border=\"1\" class=\"dataframe\">\n",
       "  <thead>\n",
       "    <tr style=\"text-align: right;\">\n",
       "      <th></th>\n",
       "      <th>budget</th>\n",
       "      <th>revenue</th>\n",
       "    </tr>\n",
       "  </thead>\n",
       "  <tbody>\n",
       "    <tr>\n",
       "      <th>count</th>\n",
       "      <td>6.160000e+02</td>\n",
       "      <td>6.160000e+02</td>\n",
       "    </tr>\n",
       "    <tr>\n",
       "      <th>mean</th>\n",
       "      <td>2.166352e+07</td>\n",
       "      <td>4.522347e+07</td>\n",
       "    </tr>\n",
       "    <tr>\n",
       "      <th>std</th>\n",
       "      <td>2.929232e+07</td>\n",
       "      <td>9.940040e+07</td>\n",
       "    </tr>\n",
       "    <tr>\n",
       "      <th>min</th>\n",
       "      <td>0.000000e+00</td>\n",
       "      <td>0.000000e+00</td>\n",
       "    </tr>\n",
       "    <tr>\n",
       "      <th>25%</th>\n",
       "      <td>7.000000e+05</td>\n",
       "      <td>0.000000e+00</td>\n",
       "    </tr>\n",
       "    <tr>\n",
       "      <th>50%</th>\n",
       "      <td>8.500000e+06</td>\n",
       "      <td>3.137902e+06</td>\n",
       "    </tr>\n",
       "    <tr>\n",
       "      <th>75%</th>\n",
       "      <td>3.000000e+07</td>\n",
       "      <td>3.952534e+07</td>\n",
       "    </tr>\n",
       "    <tr>\n",
       "      <th>max</th>\n",
       "      <td>1.400000e+08</td>\n",
       "      <td>9.764756e+08</td>\n",
       "    </tr>\n",
       "  </tbody>\n",
       "</table>\n",
       "</div>"
      ],
      "text/plain": [
       "             budget       revenue\n",
       "count  6.160000e+02  6.160000e+02\n",
       "mean   2.166352e+07  4.522347e+07\n",
       "std    2.929232e+07  9.940040e+07\n",
       "min    0.000000e+00  0.000000e+00\n",
       "25%    7.000000e+05  0.000000e+00\n",
       "50%    8.500000e+06  3.137902e+06\n",
       "75%    3.000000e+07  3.952534e+07\n",
       "max    1.400000e+08  9.764756e+08"
      ]
     },
     "execution_count": 9,
     "metadata": {},
     "output_type": "execute_result"
    }
   ],
   "source": [
    "df[['budget','revenue']].describe()"
   ]
  },
  {
   "cell_type": "markdown",
   "id": "4315147c",
   "metadata": {},
   "source": [
    "There are still some zero values present in either column, but never both columns at the same time."
   ]
  },
  {
   "cell_type": "markdown",
   "id": "cdfcaa3c",
   "metadata": {},
   "source": [
    "#  Certification Categories"
   ]
  },
  {
   "cell_type": "markdown",
   "id": "f9fd54cb",
   "metadata": {},
   "source": [
    "I can split the data into certification categories. For each category I can find how many movies there are, the average budget, and average revenue."
   ]
  },
  {
   "cell_type": "code",
   "execution_count": 10,
   "id": "2db1c3dd",
   "metadata": {},
   "outputs": [
    {
     "data": {
      "text/html": [
       "<div>\n",
       "<style scoped>\n",
       "    .dataframe tbody tr th:only-of-type {\n",
       "        vertical-align: middle;\n",
       "    }\n",
       "\n",
       "    .dataframe tbody tr th {\n",
       "        vertical-align: top;\n",
       "    }\n",
       "\n",
       "    .dataframe thead th {\n",
       "        text-align: right;\n",
       "    }\n",
       "</style>\n",
       "<table border=\"1\" class=\"dataframe\">\n",
       "  <thead>\n",
       "    <tr style=\"text-align: right;\">\n",
       "      <th></th>\n",
       "      <th>count</th>\n",
       "      <th>mean budget</th>\n",
       "      <th>mean revenue</th>\n",
       "    </tr>\n",
       "    <tr>\n",
       "      <th>certification</th>\n",
       "      <th></th>\n",
       "      <th></th>\n",
       "      <th></th>\n",
       "    </tr>\n",
       "  </thead>\n",
       "  <tbody>\n",
       "    <tr>\n",
       "      <th>G</th>\n",
       "      <td>14</td>\n",
       "      <td>4.085714e+07</td>\n",
       "      <td>1.237085e+08</td>\n",
       "    </tr>\n",
       "    <tr>\n",
       "      <th>NR</th>\n",
       "      <td>17</td>\n",
       "      <td>6.388241e+06</td>\n",
       "      <td>8.887611e+06</td>\n",
       "    </tr>\n",
       "    <tr>\n",
       "      <th>PG</th>\n",
       "      <td>35</td>\n",
       "      <td>4.497857e+07</td>\n",
       "      <td>1.123378e+08</td>\n",
       "    </tr>\n",
       "    <tr>\n",
       "      <th>PG-13</th>\n",
       "      <td>130</td>\n",
       "      <td>4.348391e+07</td>\n",
       "      <td>9.957933e+07</td>\n",
       "    </tr>\n",
       "    <tr>\n",
       "      <th>R</th>\n",
       "      <td>226</td>\n",
       "      <td>2.028827e+07</td>\n",
       "      <td>3.324591e+07</td>\n",
       "    </tr>\n",
       "    <tr>\n",
       "      <th>NaN</th>\n",
       "      <td>0</td>\n",
       "      <td>4.390831e+06</td>\n",
       "      <td>8.164620e+06</td>\n",
       "    </tr>\n",
       "  </tbody>\n",
       "</table>\n",
       "</div>"
      ],
      "text/plain": [
       "               count   mean budget  mean revenue\n",
       "certification                                   \n",
       "G                 14  4.085714e+07  1.237085e+08\n",
       "NR                17  6.388241e+06  8.887611e+06\n",
       "PG                35  4.497857e+07  1.123378e+08\n",
       "PG-13            130  4.348391e+07  9.957933e+07\n",
       "R                226  2.028827e+07  3.324591e+07\n",
       "NaN                0  4.390831e+06  8.164620e+06"
      ]
     },
     "execution_count": 10,
     "metadata": {},
     "output_type": "execute_result"
    }
   ],
   "source": [
    "certification_means = df\\\n",
    "    .groupby(['certification'],dropna=False)\\\n",
    "    .agg({'certification':'count','budget':'mean','revenue':'mean'})\\\n",
    "    .rename(columns={'certification':'count','budget':'mean budget','revenue':'mean revenue'})\n",
    "\n",
    "certification_means"
   ]
  },
  {
   "cell_type": "markdown",
   "id": "ed6517ca",
   "metadata": {},
   "source": [
    "Since we are only interested in G/PG/PG-13/R, the other ratings can be dropped."
   ]
  },
  {
   "cell_type": "code",
   "execution_count": 11,
   "id": "8eb0c5d9",
   "metadata": {},
   "outputs": [
    {
     "data": {
      "text/html": [
       "<div>\n",
       "<style scoped>\n",
       "    .dataframe tbody tr th:only-of-type {\n",
       "        vertical-align: middle;\n",
       "    }\n",
       "\n",
       "    .dataframe tbody tr th {\n",
       "        vertical-align: top;\n",
       "    }\n",
       "\n",
       "    .dataframe thead th {\n",
       "        text-align: right;\n",
       "    }\n",
       "</style>\n",
       "<table border=\"1\" class=\"dataframe\">\n",
       "  <thead>\n",
       "    <tr style=\"text-align: right;\">\n",
       "      <th></th>\n",
       "      <th>count</th>\n",
       "      <th>mean budget</th>\n",
       "      <th>mean revenue</th>\n",
       "    </tr>\n",
       "    <tr>\n",
       "      <th>certification</th>\n",
       "      <th></th>\n",
       "      <th></th>\n",
       "      <th></th>\n",
       "    </tr>\n",
       "  </thead>\n",
       "  <tbody>\n",
       "    <tr>\n",
       "      <th>G</th>\n",
       "      <td>14</td>\n",
       "      <td>4.085714e+07</td>\n",
       "      <td>1.237085e+08</td>\n",
       "    </tr>\n",
       "    <tr>\n",
       "      <th>PG</th>\n",
       "      <td>35</td>\n",
       "      <td>4.497857e+07</td>\n",
       "      <td>1.123378e+08</td>\n",
       "    </tr>\n",
       "    <tr>\n",
       "      <th>PG-13</th>\n",
       "      <td>130</td>\n",
       "      <td>4.348391e+07</td>\n",
       "      <td>9.957933e+07</td>\n",
       "    </tr>\n",
       "    <tr>\n",
       "      <th>R</th>\n",
       "      <td>226</td>\n",
       "      <td>2.028827e+07</td>\n",
       "      <td>3.324591e+07</td>\n",
       "    </tr>\n",
       "  </tbody>\n",
       "</table>\n",
       "</div>"
      ],
      "text/plain": [
       "               count   mean budget  mean revenue\n",
       "certification                                   \n",
       "G                 14  4.085714e+07  1.237085e+08\n",
       "PG                35  4.497857e+07  1.123378e+08\n",
       "PG-13            130  4.348391e+07  9.957933e+07\n",
       "R                226  2.028827e+07  3.324591e+07"
      ]
     },
     "execution_count": 11,
     "metadata": {},
     "output_type": "execute_result"
    }
   ],
   "source": [
    "certification_means = certification_means.drop(labels=['NR',np.nan],axis=0)\n",
    "certification_means"
   ]
  },
  {
   "cell_type": "markdown",
   "id": "756373bc",
   "metadata": {},
   "source": [
    "Scientific notation isn't always easy to read quickly. Let's see those numbers in another format."
   ]
  },
  {
   "cell_type": "code",
   "execution_count": 12,
   "id": "ea61a18d",
   "metadata": {},
   "outputs": [
    {
     "name": "stdout",
     "output_type": "stream",
     "text": [
      "certification\n",
      "G                 14\n",
      "PG                35\n",
      "PG-13            130\n",
      "R                226\n",
      "Name: count, dtype: object \n",
      "\n",
      "certification\n",
      "G         40,857,143\n",
      "PG        44,978,572\n",
      "PG-13     43,483,907\n",
      "R         20,288,265\n",
      "Name: mean budget, dtype: object \n",
      "\n",
      "certification\n",
      "G        123,708,547\n",
      "PG       112,337,845\n",
      "PG-13     99,579,325\n",
      "R         33,245,914\n",
      "Name: mean revenue, dtype: object \n",
      "\n"
     ]
    }
   ],
   "source": [
    "for col in certification_means.columns:\n",
    "    print(certification_means[col].apply(lambda x: '{:>11,.0f}'.format(x)),\"\\n\")"
   ]
  },
  {
   "cell_type": "markdown",
   "id": "c663a783",
   "metadata": {},
   "source": [
    "The number of movies in each certification category:\n",
    "* 14 : G\n",
    "* 35 : PG\n",
    "* 130 : PG-13\n",
    "* 226 : R\n",
    "\n",
    "\n",
    "The average budget for each certification category:\n",
    "* \\$ 40.86 Million : G\n",
    "* \\$ 44.98 Million : PG\n",
    "* \\$ 43.48 Million : PG-13\n",
    "* \\$ 20.29 Million : R\n",
    "\n",
    "The average revenue for each certification category:\n",
    "* \\$ 123.71 Million : G\n",
    "* \\$ 112.33 Million : PG\n",
    "* \\$ 99.58 Million : PG-13\n",
    "* \\$ 33.25 Million : R\n",
    "\n",
    "We can see how these financial numbers compare in the graphs below."
   ]
  },
  {
   "cell_type": "markdown",
   "id": "3d1aba5e",
   "metadata": {},
   "source": [
    "# Visualizations"
   ]
  },
  {
   "cell_type": "code",
   "execution_count": 13,
   "id": "68ef3b81",
   "metadata": {},
   "outputs": [
    {
     "data": {
      "image/png": "[encoded data removed]",
      "text/plain": [
       "<Figure size 576x288 with 2 Axes>"
      ]
     },
     "metadata": {
      "needs_background": "light"
     },
     "output_type": "display_data"
    }
   ],
   "source": [
    "from matplotlib.ticker import FuncFormatter\n",
    "\n",
    "# define the format\n",
    "def mdollar(x,pos):\n",
    "    # function for use wth matplotlib FuncFormatter -  formats money in millions\n",
    "    return f\"${x*1e-6:,.0f}M\"\n",
    "# create the formatter\n",
    "\n",
    "mdollar_formatter = FuncFormatter(mdollar)\n",
    "\n",
    "# since I want to use the certification as a plotted category,\n",
    "# I will move it from the index to its own column\n",
    "certification_means = certification_means.reset_index()\n",
    "\n",
    "fig, axe = plt.subplots(ncols = 2, figsize=(8,4),constrained_layout=True)\n",
    "\n",
    "sns.barplot(ax = axe[0],\n",
    "            data = certification_means,\n",
    "            x = 'certification',\n",
    "            y = 'mean budget',\n",
    "           zorder=3)\n",
    "sns.barplot(ax = axe[1],\n",
    "            data = certification_means,\n",
    "            x = 'certification',\n",
    "            y = 'mean revenue',\n",
    "           zorder=3)\n",
    "axe[0].set_xlabel('Certification', labelpad=15, fontsize='x-large')\n",
    "axe[0].set_ylabel('Mean Budget', labelpad=15, fontsize='x-large')\n",
    "axe[0].yaxis.set_major_formatter(mdollar_formatter)\n",
    "axe[1].set_xlabel('Certification', labelpad=15, fontsize='x-large')\n",
    "axe[1].set_ylabel('Mean Revenue', labelpad=15, fontsize='x-large')\n",
    "axe[1].yaxis.set_major_formatter(mdollar_formatter)\n",
    "axe[1].yaxis.set_label_position('right')\n",
    "axe[1].yaxis.tick_right()\n",
    "axe[0].set_title('Mean Budget\\nper Movie Certification\\n(2000-2001)', fontsize='xx-large')\n",
    "axe[1].set_title('Mean Revenue\\nper Movie Certification\\n(2000-2001)', fontsize='xx-large')\n",
    "axe[0].yaxis.grid(True,zorder=1)\n",
    "axe[1].yaxis.grid(True,zorder=1)\n",
    "axe[0].set(ylim=(0,130000000))\n",
    "axe[1].set(ylim=(0,130000000))\n",
    "plt.show()"
   ]
  },
  {
   "cell_type": "markdown",
   "id": "2c45a70d",
   "metadata": {},
   "source": [
    "We can also see a comparison of the revenue to the budget of each movie individually."
   ]
  },
  {
   "cell_type": "code",
   "execution_count": 14,
   "id": "e70606f1",
   "metadata": {},
   "outputs": [
    {
     "data": {
      "image/png": "[encoded data removed]",
      "text/plain": [
       "<Figure size 576x432 with 1 Axes>"
      ]
     },
     "metadata": {
      "needs_background": "light"
     },
     "output_type": "display_data"
    }
   ],
   "source": [
    "plt.figure(figsize=(8,6))\n",
    "certification_filter = (df['certification']=='G')|(\n",
    "    df['certification']=='PG')|(\n",
    "    df['certification']=='PG-13')|(\n",
    "    df['certification']=='R')\n",
    "\n",
    "axe = sns.scatterplot(data = df[certification_filter].sort_values(by='certification'),\n",
    "                      x = 'budget',\n",
    "                      y = 'revenue',\n",
    "                      hue='certification',\n",
    "                      style='certification',\n",
    "                      s=100)\n",
    "axe.set_xlabel('Budget', labelpad=15, fontsize='x-large')\n",
    "axe.set_ylabel('Revenue', labelpad=15, fontsize='x-large')\n",
    "axe.plot([0,140000000],[0,140000000],color='black')\n",
    "# axe.plot([0,140000000],[0,280000000])\n",
    "# axe.plot([0,140000000],[0,420000000])\n",
    "# axe.plot([0,140000000],[0,590000000])\n",
    "axe.xaxis.set_major_formatter(mdollar_formatter)\n",
    "axe.yaxis.set_major_formatter(mdollar_formatter)\n",
    "axe.set_title('Revenues and Budgets per Movie Certification (2000-2001)\\n(with Break-Even Line)', fontsize='xx-large',pad=15)\n",
    "# axe.set(xscale='log',yscale='log')\n",
    "plt.show()"
   ]
  },
  {
   "cell_type": "code",
   "execution_count": 15,
   "id": "9ef9ea11",
   "metadata": {},
   "outputs": [],
   "source": [
    "df['r_to_b_ratio']=df['revenue']/df['budget']"
   ]
  },
  {
   "cell_type": "code",
   "execution_count": 16,
   "id": "6be05fed",
   "metadata": {},
   "outputs": [
    {
     "data": {
      "image/png": "[encoded data removed]",
      "text/plain": [
       "<Figure size 576x288 with 1 Axes>"
      ]
     },
     "metadata": {
      "needs_background": "light"
     },
     "output_type": "display_data"
    },
    {
     "data": {
      "image/png": "[encoded data removed]",
      "text/plain": [
       "<Figure size 576x288 with 1 Axes>"
      ]
     },
     "metadata": {
      "needs_background": "light"
     },
     "output_type": "display_data"
    }
   ],
   "source": [
    "plt.figure(figsize=(8,4),tight_layout=True)\n",
    "# sns.set(style=\"white\")\n",
    "axe = sns.boxplot(data=df[certification_filter][df[certification_filter]['budget']!=0].sort_values(by='certification') ,x=\"r_to_b_ratio\",y=\"certification\", notch=True,\\\n",
    "            width=0.5,\\\n",
    "            linewidth=1,\\\n",
    "            showmeans=True,\\\n",
    "            dodge=False,\\\n",
    "            flierprops=dict(marker=\"d\",color=\"black\"),\\\n",
    "            capprops=dict(color=\"black\"),\\\n",
    "            whiskerprops=dict(color=\"black\"),\\\n",
    "            boxprops=dict(edgecolor=\"black\"),\\\n",
    "            medianprops=dict(color=\"black\"),\\\n",
    "            meanprops=dict(color=\"black\",marker=\"o\",markerfacecolor=\"white\",markeredgecolor=\"black\"))\n",
    "# axe.set_xlim(0,10);\n",
    "# axe.set_xticks(range(0,10,1));\n",
    "axe.tick_params(bottom=True,left=True)\n",
    "axe.set_title(\"Boxplot Distribution of Revenue/Budget Ratio per Certification\\n(White Circle is the Mean Ratio)\",fontsize=\"x-large\",pad=20);\n",
    "axe.set_xlabel(\"Ratio of Revenue to Budget\",fontsize=\"large\",labelpad=10);\n",
    "axe.set_ylabel(\"Certification\",fontsize=\"large\",labelpad=10);\n",
    "axe.xaxis.grid(True);\n",
    "# axe.set(xscale='log')\n",
    "plt.show()\n",
    "\n",
    "plt.figure(figsize=(8,4),tight_layout=True)\n",
    "# sns.set(style=\"white\")\n",
    "axe = sns.boxplot(data=df[certification_filter][df[certification_filter]['budget']!=0].sort_values(by='certification') ,x=\"r_to_b_ratio\",y=\"certification\", notch=True,\\\n",
    "            width=0.5,\\\n",
    "            linewidth=1,\\\n",
    "            showmeans=True,\\\n",
    "            dodge=False,\\\n",
    "            flierprops=dict(marker=\"d\",color=\"black\"),\\\n",
    "            capprops=dict(color=\"black\"),\\\n",
    "            whiskerprops=dict(color=\"black\"),\\\n",
    "            boxprops=dict(edgecolor=\"black\"),\\\n",
    "            medianprops=dict(color=\"black\"),\\\n",
    "            meanprops=dict(color=\"black\",marker=\"o\",markerfacecolor=\"white\",markeredgecolor=\"black\"))\n",
    "axe.set_xlim(0,10);\n",
    "axe.set_xticks(range(0,10,1));\n",
    "axe.tick_params(bottom=True,left=True)\n",
    "axe.set_title(\"Boxplot Distribution of Revenue/Budget Ratio per Certification\\n(White Circle is the Mean Ratio)\\n(Outliers beyond a Ratio of 10 not Shown)\",fontsize=\"x-large\",pad=20);\n",
    "axe.set_xlabel(\"Ratio of Revenue to Budget\",fontsize=\"large\",labelpad=10);\n",
    "axe.set_ylabel(\"Certification\",fontsize=\"large\",labelpad=10);\n",
    "axe.xaxis.grid(True);\n",
    "# axe.set(xscale='log')\n",
    "plt.show()"
   ]
  },
  {
   "cell_type": "markdown",
   "id": "0c68289b",
   "metadata": {},
   "source": [
    "Although most movies being examined in this data set have ratios greater than 1 (revenue is greater than budget), the R certification as a sub-group of movies leans the other way.\n",
    "\n",
    "Most movies also have a smaller ratio than the mean value in their certification category, except the G certification sub-group.  This is because the mean values are being skewed by extreme outliers."
   ]
  },
  {
   "cell_type": "markdown",
   "id": "9aad3974",
   "metadata": {},
   "source": [
    "# Saving the Merged Data"
   ]
  },
  {
   "cell_type": "code",
   "execution_count": 17,
   "id": "943ba783",
   "metadata": {},
   "outputs": [],
   "source": [
    "df.to_csv('Data/tmdb_results_combined.csv.gz', compression='gzip', index=False)"
   ]
  }
 ],
 "metadata": {
  "kernelspec": {
   "display_name": "Python (dojo-env)",
   "language": "python",
   "name": "dojo-env"
  },
  "language_info": {
   "codemirror_mode": {
    "name": "ipython",
    "version": 3
   },
   "file_extension": ".py",
   "mimetype": "text/x-python",
   "name": "python",
   "nbconvert_exporter": "python",
   "pygments_lexer": "ipython3",
   "version": "3.7.12"
  },
  "toc": {
   "base_numbering": 1,
   "nav_menu": {},
   "number_sections": false,
   "sideBar": true,
   "skip_h1_title": false,
   "title_cell": "Table of Contents",
   "title_sidebar": "Contents",
   "toc_cell": false,
   "toc_position": {},
   "toc_section_display": true,
   "toc_window_display": true
  }
 },
 "nbformat": 4,
 "nbformat_minor": 5
}
