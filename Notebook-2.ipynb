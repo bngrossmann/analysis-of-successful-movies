{
 "cells": [
  {
   "cell_type": "markdown",
   "id": "9a8933c9",
   "metadata": {},
   "source": [
    "# Analysis of Successful Movies (Notebook 2)\n",
    "* Benjamin Grossmann\n",
    "\n"
   ]
  },
  {
   "cell_type": "markdown",
   "id": "f2553c3c",
   "metadata": {},
   "source": [
    "This notebook retrieves data from TMDB (The Movie Database); not to be confused with IMDB (which is accessed in Notebook 1).\n",
    "\n",
    "Then it performs some preprocessing and filtering to keep only the movies that meet the desired criteria.\n",
    "The final steps are to save the reduced data set.\n",
    "\n",
    "After the reduced data set has been saved, further work on this project should proceed in Notebook 3. This will reduce the time to bring the data into a project-ready state.\n",
    "\n",
    "If the reduced data set should need to be reset to its initial condition, then re-run Notebook 2.\n",
    "\n",
    "The information wanted from the movies in TMDB is:\n",
    "* budget\n",
    "* revenue\n",
    "* MPAA Rating, a.k.a. Certification (G/PG/PG-13/R)"
   ]
  },
  {
   "cell_type": "markdown",
   "id": "6580ea1a",
   "metadata": {},
   "source": [
    "# Initial Imports and Loads"
   ]
  },
  {
   "cell_type": "code",
   "execution_count": 1,
   "id": "fabf8e64",
   "metadata": {},
   "outputs": [],
   "source": [
    "import numpy as np\n",
    "import pandas as pd\n",
    "import json\n",
    "import time\n",
    "import os\n",
    "import tmdbsimple as tmdb\n",
    "from tqdm.notebook import tqdm_notebook"
   ]
  },
  {
   "cell_type": "code",
   "execution_count": 2,
   "id": "d9661968",
   "metadata": {},
   "outputs": [],
   "source": [
    "# Load API credentials\n",
    "with open('/Users/Benjamin/.secret/tmdb_api.json', 'r') as f:\n",
    "    login = json.load(f)\n",
    "    \n",
    "tmdb.API_KEY = login['api-key']\n",
    "\n",
    "# Load pandas dataframe with imbd id and release years\n",
    "basics = pd.read_csv('Data/title_basics.csv.gz', low_memory = False)"
   ]
  },
  {
   "cell_type": "markdown",
   "id": "03dba15b",
   "metadata": {},
   "source": [
    "# Definitions"
   ]
  },
  {
   "cell_type": "code",
   "execution_count": 3,
   "id": "46a5b466",
   "metadata": {},
   "outputs": [],
   "source": [
    "# define function for retrieving certification of a movie released in the US\n",
    "\n",
    "def tmdb_info_with_certification(imdb_id):\n",
    "    # Get the movie object for the current id\n",
    "    movie = tmdb.Movies(imdb_id)\n",
    "\n",
    "    # save the .info & .releases dictionaries\n",
    "    info = movie.info()\n",
    "    releases = movie.releases()\n",
    "\n",
    "    # loop through countries in releases\n",
    "    for c in releases['countries']:\n",
    "        if c['iso_3166_1']== 'US':\n",
    "            # save certification key in the info dictionary with the certification value\n",
    "            info['certification'] = c['certification']\n",
    "    return info"
   ]
  },
  {
   "cell_type": "code",
   "execution_count": 4,
   "id": "a9d8b4cc",
   "metadata": {},
   "outputs": [],
   "source": [
    "# From Lesson: Efficient TMDB API Calls\n",
    "# Adapted from: https://www.geeksforgeeks.org/append-to-json-file-using-python/\n",
    "\n",
    "def write_json(new_data, filename):\n",
    "    with open(filename,'r+') as file:\n",
    "        # First we load existing data into a dict.\n",
    "        file_data = json.load(file)\n",
    "        \n",
    "        ## Choose extend or append\n",
    "        if (type(new_data) == list) & (type(file_data) == list):\n",
    "            file_data.extend(new_data)\n",
    "        else:\n",
    "             file_data.append(new_data)\n",
    "        \n",
    "        # Sets file's current position at offset.\n",
    "        file.seek(0)\n",
    "        # convert back to json.\n",
    "        json.dump(file_data, file)"
   ]
  },
  {
   "cell_type": "markdown",
   "id": "6dd7b72d",
   "metadata": {},
   "source": [
    "# Destination Folder"
   ]
  },
  {
   "cell_type": "code",
   "execution_count": 5,
   "id": "6603d35c",
   "metadata": {},
   "outputs": [
    {
     "data": {
      "text/plain": [
       "['.ipynb_checkpoints',\n",
       " 'erd.mwb',\n",
       " 'erd.mwb.bak',\n",
       " 'erd.pdf',\n",
       " 'title_akas.csv.gz',\n",
       " 'title_basics.csv.gz',\n",
       " 'title_ratings.csv.gz',\n",
       " 'tmdb_api_results_2000.json',\n",
       " 'tmdb_api_results_2001.json',\n",
       " 'tmdb_api_results_2002.json',\n",
       " 'tmdb_api_results_2003.json',\n",
       " 'tmdb_api_results_2004.json',\n",
       " 'tmdb_api_results_2005.json',\n",
       " 'tmdb_api_results_2006.json',\n",
       " 'tmdb_api_results_2007.json',\n",
       " 'tmdb_api_results_2008.json',\n",
       " 'tmdb_api_results_2009.json',\n",
       " 'tmdb_api_results_2010.json',\n",
       " 'tmdb_api_results_2011.json',\n",
       " 'tmdb_api_results_2012.json',\n",
       " 'tmdb_api_results_2013.json',\n",
       " 'tmdb_api_results_2014.json',\n",
       " 'tmdb_api_results_2015.json',\n",
       " 'tmdb_api_results_2016.json',\n",
       " 'tmdb_api_results_2017.json',\n",
       " 'tmdb_data_2000.csv.gz',\n",
       " 'tmdb_data_2001.csv.gz',\n",
       " 'tmdb_data_2002.csv.gz',\n",
       " 'tmdb_data_2003.csv.gz',\n",
       " 'tmdb_data_2004.csv.gz',\n",
       " 'tmdb_data_2005.csv.gz',\n",
       " 'tmdb_data_2006.csv.gz',\n",
       " 'tmdb_data_2007.csv.gz',\n",
       " 'tmdb_data_2008.csv.gz',\n",
       " 'tmdb_data_2009.csv.gz',\n",
       " 'tmdb_data_2010.csv.gz',\n",
       " 'tmdb_data_2011.csv.gz',\n",
       " 'tmdb_data_2012.csv.gz',\n",
       " 'tmdb_data_2013.csv.gz',\n",
       " 'tmdb_data_2014.csv.gz',\n",
       " 'tmdb_data_2015.csv.gz',\n",
       " 'tmdb_data_2016.csv.gz',\n",
       " 'tmdb_results_combined.csv.gz']"
      ]
     },
     "execution_count": 5,
     "metadata": {},
     "output_type": "execute_result"
    }
   ],
   "source": [
    "# Define folder for holding data\n",
    "FOLDER = \"Data/\"\n",
    "os.makedirs(FOLDER, exist_ok = True)\n",
    "os.listdir(FOLDER)"
   ]
  },
  {
   "cell_type": "markdown",
   "id": "ff21f894",
   "metadata": {},
   "source": [
    "# Data Retrieval Loop"
   ]
  },
  {
   "cell_type": "code",
   "execution_count": 6,
   "id": "f71b8eef",
   "metadata": {},
   "outputs": [
    {
     "name": "stdout",
     "output_type": "stream",
     "text": [
      "[2017, 2018, 2019, 2020, 2021]\n"
     ]
    }
   ],
   "source": [
    "# Define list of years to search\n",
    "# search_years = [2000, 2001]\n",
    "search_years = list(range(2017 ,2022))\n",
    "print(search_years)"
   ]
  },
  {
   "cell_type": "code",
   "execution_count": 7,
   "id": "3c21f15d",
   "metadata": {},
   "outputs": [
    {
     "data": {
      "application/vnd.jupyter.widget-view+json": {
       "model_id": "674a1482af1a475685b109e004064c30",
       "version_major": 2,
       "version_minor": 0
      },
      "text/plain": [
       "Searching Movies:   0%|          | 0/5 [00:00<?, ?it/s]"
      ]
     },
     "metadata": {},
     "output_type": "display_data"
    },
    {
     "name": "stdout",
     "output_type": "stream",
     "text": [
      "Data/tmdb_api_results_2017.json already exists!\n",
      "   5517 movies in search year 2017\n",
      "   5230 movies not yet found\n"
     ]
    },
    {
     "data": {
      "application/vnd.jupyter.widget-view+json": {
       "model_id": "65c3f678770b424cb7a661beed9d5e1f",
       "version_major": 2,
       "version_minor": 0
      },
      "text/plain": [
       "Movies from year 2017:   0%|          | 0/5230 [00:00<?, ?it/s]"
      ]
     },
     "metadata": {},
     "output_type": "display_data"
    },
    {
     "name": "stdout",
     "output_type": "stream",
     "text": [
      "   Unable to find 1209 movies in search year 2017\n",
      "\n",
      "Data/tmdb_api_results_2018.json being created!\n",
      "   5633 movies in search year 2018\n",
      "   5633 movies not yet found\n"
     ]
    },
    {
     "data": {
      "application/vnd.jupyter.widget-view+json": {
       "model_id": "d8d66867e3514bf89c28336189e7b335",
       "version_major": 2,
       "version_minor": 0
      },
      "text/plain": [
       "Movies from year 2018:   0%|          | 0/5633 [00:00<?, ?it/s]"
      ]
     },
     "metadata": {},
     "output_type": "display_data"
    },
    {
     "name": "stdout",
     "output_type": "stream",
     "text": [
      "   Unable to find 1106 movies in search year 2018\n",
      "\n",
      "Data/tmdb_api_results_2019.json being created!\n",
      "   5685 movies in search year 2019\n",
      "   5685 movies not yet found\n"
     ]
    },
    {
     "data": {
      "application/vnd.jupyter.widget-view+json": {
       "model_id": "e200cda7e9b7422aac612274c5d44b2d",
       "version_major": 2,
       "version_minor": 0
      },
      "text/plain": [
       "Movies from year 2019:   0%|          | 0/5685 [00:00<?, ?it/s]"
      ]
     },
     "metadata": {},
     "output_type": "display_data"
    },
    {
     "name": "stdout",
     "output_type": "stream",
     "text": [
      "   Unable to find 995 movies in search year 2019\n",
      "\n",
      "Data/tmdb_api_results_2020.json being created!\n",
      "   4776 movies in search year 2020\n",
      "   4776 movies not yet found\n"
     ]
    },
    {
     "data": {
      "application/vnd.jupyter.widget-view+json": {
       "model_id": "ab2c06e44d12465ea1435a1cf66e5bd4",
       "version_major": 2,
       "version_minor": 0
      },
      "text/plain": [
       "Movies from year 2020:   0%|          | 0/4776 [00:00<?, ?it/s]"
      ]
     },
     "metadata": {},
     "output_type": "display_data"
    },
    {
     "name": "stdout",
     "output_type": "stream",
     "text": [
      "   Unable to find 1045 movies in search year 2020\n",
      "\n",
      "Data/tmdb_api_results_2021.json being created!\n",
      "   4768 movies in search year 2021\n",
      "   4768 movies not yet found\n"
     ]
    },
    {
     "data": {
      "application/vnd.jupyter.widget-view+json": {
       "model_id": "c1e3eb965ae041dfbbbd12daabfb7df2",
       "version_major": 2,
       "version_minor": 0
      },
      "text/plain": [
       "Movies from year 2021:   0%|          | 0/4768 [00:00<?, ?it/s]"
      ]
     },
     "metadata": {},
     "output_type": "display_data"
    },
    {
     "name": "stdout",
     "output_type": "stream",
     "text": [
      "   Unable to find 1178 movies in search year 2021\n",
      "\n",
      "==========\n",
      "Searching Complete.\n"
     ]
    }
   ],
   "source": [
    "for year in tqdm_notebook(search_years, desc='Searching Movies', position = 0):\n",
    "\n",
    "    # Define file name for the selected year\n",
    "    JSON_FILE = f\"{FOLDER}tmdb_api_results_{year}.json\"\n",
    "\n",
    "    # Check for File existance\n",
    "    file_exists = os.path.isfile(JSON_FILE)\n",
    "\n",
    "    # If file does not exist\n",
    "    if file_exists==False:\n",
    "        # create empty dict with key 'imdb_id'\n",
    "        print(f\"{JSON_FILE} being created!\")\n",
    "        with open(JSON_FILE, 'w') as f:\n",
    "            json.dump([{'imdb_id':0}], f)\n",
    "    # If file exists, inform user\n",
    "    else:\n",
    "        print(f\"{JSON_FILE} already exists!\")\n",
    "    \n",
    "    # Create search data frame for only the selected search year\n",
    "    # Pull out the ids for the movies to be searched\n",
    "    search_df = basics.loc[ basics['startYear']==year ].copy()\n",
    "    search_ids = search_df['tconst'].copy()\n",
    "    \n",
    "    # Load results json file as dataframe\n",
    "    results_df = pd.read_json(JSON_FILE)\n",
    "    \n",
    "    # Filter out movies that are in the json file\n",
    "    remaining_search_ids = search_ids[~search_ids.isin(results_df['imdb_id'])]\n",
    "    \n",
    "    print(f\"   {len(search_ids)} movies in search year {year}\")\n",
    "    print(f\"   {len(remaining_search_ids)} movies not yet found\")\n",
    "    \n",
    "    not_found = 0\n",
    "    ##########\n",
    "    # Loop for API calls to retrieve data for the selected year\n",
    "    for imdb_id in tqdm_notebook(remaining_search_ids,\n",
    "                                desc=f\"Movies from year {year}\",\n",
    "                                position=1,\n",
    "                                leave=True):\n",
    "        # Attempt to retrieve data and save it\n",
    "        try:\n",
    "            temp = tmdb_info_with_certification(imdb_id)\n",
    "            write_json(temp, JSON_FILE)\n",
    "            time.sleep(0.05)\n",
    "        except Exception as e:\n",
    "            not_found += 1\n",
    "            continue\n",
    "    ##########\n",
    "    print(f\"   Unable to find {not_found} movies in search year {year}\\n\")\n",
    "    \n",
    "    # Create csv.gz file from the json file\n",
    "    # Load json to dataframe\n",
    "    tmdb_df = pd.read_json(JSON_FILE)\n",
    "    # Drop the dummy zero row\n",
    "    tmdb_df = tmdb_df[tmdb_df['imdb_id']!=0]\n",
    "    # Save dataframe to csv.gz\n",
    "    tmdb_df.to_csv(f\"{FOLDER}tmdb_data_{year}.csv.gz\",\n",
    "                   compression='gzip',\n",
    "                   index=False)\n",
    "print(f\"==========\\nSearching Complete.\")"
   ]
  },
  {
   "cell_type": "code",
   "execution_count": null,
   "id": "14e3c4e6",
   "metadata": {},
   "outputs": [],
   "source": []
  }
 ],
 "metadata": {
  "kernelspec": {
   "display_name": "Python (dojo-env)",
   "language": "python",
   "name": "dojo-env"
  },
  "language_info": {
   "codemirror_mode": {
    "name": "ipython",
    "version": 3
   },
   "file_extension": ".py",
   "mimetype": "text/x-python",
   "name": "python",
   "nbconvert_exporter": "python",
   "pygments_lexer": "ipython3",
   "version": "3.7.12"
  },
  "toc": {
   "base_numbering": 1,
   "nav_menu": {},
   "number_sections": false,
   "sideBar": true,
   "skip_h1_title": false,
   "title_cell": "Table of Contents",
   "title_sidebar": "Contents",
   "toc_cell": false,
   "toc_position": {},
   "toc_section_display": true,
   "toc_window_display": true
  }
 },
 "nbformat": 4,
 "nbformat_minor": 5
}
