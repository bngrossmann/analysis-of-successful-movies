{
 "cells": [
  {
   "cell_type": "markdown",
   "id": "9a8933c9",
   "metadata": {},
   "source": [
    "# Analysis of Successful Movies (Notebook 2)\n",
    "* Benjamin Grossmann\n",
    "\n"
   ]
  },
  {
   "cell_type": "markdown",
   "id": "f2553c3c",
   "metadata": {},
   "source": [
    "This notebook retrieves data from TMDB (The Movie Database); not to be confused with IMDB (which is accessed in Notebook 1).\n",
    "\n",
    "Then it performs some preprocessing and filtering to keep only the movies that meet the desired criteria.\n",
    "The final steps are to save the reduced data set.\n",
    "\n",
    "After the reduced data set has been saved, further work on this project should proceed in Notebook 3. This will reduce the time to bring the data into a project-ready state.\n",
    "\n",
    "If the reduced data set should need to be reset to its initial condition, then re-run Notebook 2.\n",
    "\n",
    "The information wanted from the movies in TMDB is:\n",
    "* budget\n",
    "* revenue\n",
    "* MPAA Rating, a.k.a. Certification (G/PG/PG-13/R)"
   ]
  },
  {
   "cell_type": "markdown",
   "id": "6580ea1a",
   "metadata": {},
   "source": [
    "# Initial Imports and Loads"
   ]
  },
  {
   "cell_type": "code",
   "execution_count": 1,
   "id": "fabf8e64",
   "metadata": {},
   "outputs": [],
   "source": [
    "import numpy as np\n",
    "import pandas as pd\n",
    "import json\n",
    "import time\n",
    "import os\n",
    "import tmdbsimple as tmdb\n",
    "from tqdm.notebook import tqdm_notebook"
   ]
  },
  {
   "cell_type": "code",
   "execution_count": 2,
   "id": "d9661968",
   "metadata": {},
   "outputs": [],
   "source": [
    "# Load API credentials\n",
    "with open('/Users/Benjamin/.secret/tmdb_api.json', 'r') as f:\n",
    "    login = json.load(f)\n",
    "    \n",
    "tmdb.API_KEY = login['api-key']\n",
    "\n",
    "# Load pandas dataframe with imbd id and release years\n",
    "basics = pd.read_csv('Data/title_basics.csv.gz', low_memory = False)"
   ]
  },
  {
   "cell_type": "markdown",
   "id": "03dba15b",
   "metadata": {},
   "source": [
    "# Definitions"
   ]
  },
  {
   "cell_type": "code",
   "execution_count": 3,
   "id": "46a5b466",
   "metadata": {},
   "outputs": [],
   "source": [
    "# define function for retrieving certification of a movie released in the US\n",
    "\n",
    "def tmdb_info_with_certification(imdb_id):\n",
    "    # Get the movie object for the current id\n",
    "    movie = tmdb.Movies(imdb_id)\n",
    "\n",
    "    # save the .info & .releases dictionaries\n",
    "    info = movie.info()\n",
    "    releases = movie.releases()\n",
    "\n",
    "    # loop through countries in releases\n",
    "    for c in releases['countries']:\n",
    "        if c['iso_3166_1']== 'US':\n",
    "            # save certification key in the info dictionary with the certification value\n",
    "            info['certification'] = c['certification']\n",
    "    return info"
   ]
  },
  {
   "cell_type": "code",
   "execution_count": 4,
   "id": "a9d8b4cc",
   "metadata": {},
   "outputs": [],
   "source": [
    "# From Lesson: Efficient TMDB API Calls\n",
    "# Adapted from: https://www.geeksforgeeks.org/append-to-json-file-using-python/\n",
    "\n",
    "def write_json(new_data, filename):\n",
    "    with open(filename,'r+') as file:\n",
    "        # First we load existing data into a dict.\n",
    "        file_data = json.load(file)\n",
    "        \n",
    "        ## Choose extend or append\n",
    "        if (type(new_data) == list) & (type(file_data) == list):\n",
    "            file_data.extend(new_data)\n",
    "        else:\n",
    "             file_data.append(new_data)\n",
    "        \n",
    "        # Sets file's current position at offset.\n",
    "        file.seek(0)\n",
    "        # convert back to json.\n",
    "        json.dump(file_data, file)"
   ]
  },
  {
   "cell_type": "markdown",
   "id": "6dd7b72d",
   "metadata": {},
   "source": [
    "# Destination Folder"
   ]
  },
  {
   "cell_type": "code",
   "execution_count": 5,
   "id": "6603d35c",
   "metadata": {},
   "outputs": [
    {
     "data": {
      "text/plain": [
       "['.ipynb_checkpoints',\n",
       " 'title_akas.csv.gz',\n",
       " 'title_basics.csv.gz',\n",
       " 'title_ratings.csv.gz',\n",
       " 'tmdb_api_results_2000.json',\n",
       " 'tmdb_api_results_2001.json',\n",
       " 'tmdb_data_2000.csv.gz',\n",
       " 'tmdb_data_2001.csv.gz']"
      ]
     },
     "execution_count": 5,
     "metadata": {},
     "output_type": "execute_result"
    }
   ],
   "source": [
    "# Define folder for holding data\n",
    "FOLDER = \"Data/\"\n",
    "os.makedirs(FOLDER, exist_ok = True)\n",
    "os.listdir(FOLDER)"
   ]
  },
  {
   "cell_type": "markdown",
   "id": "ff21f894",
   "metadata": {},
   "source": [
    "# Data Retrieval Loop"
   ]
  },
  {
   "cell_type": "code",
   "execution_count": 6,
   "id": "f71b8eef",
   "metadata": {},
   "outputs": [],
   "source": [
    "# Define list of years to search\n",
    "search_years = [2000, 2001] "
   ]
  },
  {
   "cell_type": "code",
   "execution_count": 7,
   "id": "3c21f15d",
   "metadata": {},
   "outputs": [
    {
     "data": {
      "application/vnd.jupyter.widget-view+json": {
       "model_id": "4364a75013004ad1960f5d62aada4aae",
       "version_major": 2,
       "version_minor": 0
      },
      "text/plain": [
       "Searching Movies:   0%|          | 0/2 [00:00<?, ?it/s]"
      ]
     },
     "metadata": {},
     "output_type": "display_data"
    },
    {
     "name": "stdout",
     "output_type": "stream",
     "text": [
      "Data/tmdb_api_results_2000.json already exists!\n",
      "1405 movies in search year 2000\n",
      "208 movies not yet found\n"
     ]
    },
    {
     "data": {
      "application/vnd.jupyter.widget-view+json": {
       "model_id": "a108d5d14b4a44e495cffbc716be87d1",
       "version_major": 2,
       "version_minor": 0
      },
      "text/plain": [
       "Movies from year 2000:   0%|          | 0/208 [00:00<?, ?it/s]"
      ]
     },
     "metadata": {},
     "output_type": "display_data"
    },
    {
     "name": "stdout",
     "output_type": "stream",
     "text": [
      "Unable to find 208 movies\n",
      "Data/tmdb_api_results_2001.json already exists!\n",
      "1521 movies in search year 2001\n",
      "242 movies not yet found\n"
     ]
    },
    {
     "data": {
      "application/vnd.jupyter.widget-view+json": {
       "model_id": "6f045e17e76142dd8e79719c7d8c0242",
       "version_major": 2,
       "version_minor": 0
      },
      "text/plain": [
       "Movies from year 2001:   0%|          | 0/242 [00:00<?, ?it/s]"
      ]
     },
     "metadata": {},
     "output_type": "display_data"
    },
    {
     "name": "stdout",
     "output_type": "stream",
     "text": [
      "Unable to find 242 movies\n",
      "==========\n",
      "Searching Complete.\n"
     ]
    }
   ],
   "source": [
    "for year in tqdm_notebook(search_years, desc='Searching Movies', position = 0):\n",
    "\n",
    "    # Define file name for the selected year\n",
    "    JSON_FILE = f\"{FOLDER}tmdb_api_results_{year}.json\"\n",
    "\n",
    "    # Check for File existance\n",
    "    file_exists = os.path.isfile(JSON_FILE)\n",
    "\n",
    "    # If file does not exist\n",
    "    if file_exists==False:\n",
    "        # create empty dict with key 'imdb_id'\n",
    "        print(f\"{JSON_FILE} being created!\")\n",
    "        with open(JSON_FILE, 'w') as f:\n",
    "            json.dump([{'imdb_id':0}], f)\n",
    "    # If file exists, inform user\n",
    "    else:\n",
    "        print(f\"{JSON_FILE} already exists!\")\n",
    "    \n",
    "    # Create search data frame for only the selected search year\n",
    "    # Pull out the ids for the movies to be searched\n",
    "    search_df = basics.loc[ basics['startYear']==year ].copy()\n",
    "    search_ids = search_df['tconst'].copy()\n",
    "    \n",
    "    # Load results json file as dataframe\n",
    "    results_df = pd.read_json(JSON_FILE)\n",
    "    \n",
    "    # Filter out movies that are in the json file\n",
    "    remaining_search_ids = search_ids[~search_ids.isin(results_df['imdb_id'])]\n",
    "    \n",
    "    print(f\"{len(search_ids)} movies in search year {year}\")\n",
    "    print(f\"{len(remaining_search_ids)} movies not yet found\")\n",
    "    \n",
    "    not_found = 0\n",
    "    ##########\n",
    "    # Loop for API calls to retrieve data for the selected year\n",
    "    for imdb_id in tqdm_notebook(remaining_search_ids,\n",
    "                                desc=f\"Movies from year {year}\",\n",
    "                                position=1,\n",
    "                                leave=True):\n",
    "        # Attempt to retrieve data and save it\n",
    "        try:\n",
    "            temp = tmdb_info_with_certification(imdb_id)\n",
    "            write_json(temp, JSON_FILE)\n",
    "            time.sleep(0.05)\n",
    "        except Exception as e:\n",
    "            not_found += 1\n",
    "            continue\n",
    "    ##########\n",
    "    print(f\"Unable to find {not_found} movies in search year {year}\\n\")\n",
    "    \n",
    "    # Create csv.gz file from the json file\n",
    "    # Load json to dataframe\n",
    "    tmdb_df = pd.read_json(JSON_FILE)\n",
    "    # Drop the dummy zero row\n",
    "    tmdb_df = tmdb_df[tmdb_df['imdb_id']!=0]\n",
    "    # Save dataframe to csv.gz\n",
    "    tmdb_df.to_csv(f\"{FOLDER}tmdb_data_{year}.csv.gz\",\n",
    "                   compression='gzip',\n",
    "                   index=False)\n",
    "print(f\"==========\\nSearching Complete.\")"
   ]
  }
 ],
 "metadata": {
  "kernelspec": {
   "display_name": "Python (dojo-env)",
   "language": "python",
   "name": "dojo-env"
  },
  "language_info": {
   "codemirror_mode": {
    "name": "ipython",
    "version": 3
   },
   "file_extension": ".py",
   "mimetype": "text/x-python",
   "name": "python",
   "nbconvert_exporter": "python",
   "pygments_lexer": "ipython3",
   "version": "3.7.12"
  },
  "toc": {
   "base_numbering": 1,
   "nav_menu": {},
   "number_sections": false,
   "sideBar": true,
   "skip_h1_title": false,
   "title_cell": "Table of Contents",
   "title_sidebar": "Contents",
   "toc_cell": false,
   "toc_position": {},
   "toc_section_display": true,
   "toc_window_display": true
  }
 },
 "nbformat": 4,
 "nbformat_minor": 5
}
