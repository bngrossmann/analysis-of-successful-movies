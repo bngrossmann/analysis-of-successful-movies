{
 "cells": [
  {
   "cell_type": "markdown",
   "id": "9a8933c9",
   "metadata": {},
   "source": [
    "# Analysis of Successful Movies (Notebook 2)\n",
    "* Benjamin Grossmann\n",
    "\n"
   ]
  },
  {
   "cell_type": "markdown",
   "id": "f2553c3c",
   "metadata": {},
   "source": [
    "This notebook retrieves data from TMDB (The Movie Database); not to be confused with IMDB (which is accessed in Notebook 1).\n",
    "\n",
    "Then it performs some preprocessing and filtering to keep only the movies that meet the desired criteria.\n",
    "The final steps are to save the reduced data set.\n",
    "\n",
    "After the reduced data set has been saved, further work on this project should proceed in Notebook 3. This will reduce the time to bring the data into a project-ready state.\n",
    "\n",
    "If the reduced data set should need to be reset to its initial condition, then re-run Notebook 2.\n",
    "\n",
    "The information wanted from the movies in TMDB is:\n",
    "* budget\n",
    "* revenue\n",
    "* MPAA Rating, a.k.a. Certification (G/PG/PG-13/R)"
   ]
  },
  {
   "cell_type": "code",
   "execution_count": 2,
   "id": "fabf8e64",
   "metadata": {},
   "outputs": [],
   "source": [
    "import numpy as np\n",
    "import pandas as pd\n",
    "import json\n",
    "\n",
    "import tmdbsimple as tmdb"
   ]
  },
  {
   "cell_type": "code",
   "execution_count": 5,
   "id": "d9661968",
   "metadata": {},
   "outputs": [],
   "source": [
    "# Load API credentials\n",
    "with open('/Users/Benjamin/.secret/tmdb_api.json', 'r') as f:\n",
    "    login = json.load(f)\n",
    "    \n",
    "tmdb.API_KEY = login['api-key']"
   ]
  },
  {
   "cell_type": "code",
   "execution_count": 6,
   "id": "b9eaa0d0",
   "metadata": {},
   "outputs": [
    {
     "data": {
      "text/plain": [
       "{'adult': False,\n",
       " 'backdrop_path': '/mbtvyCr73zTz45lANjURpKu493l.jpg',\n",
       " 'belongs_to_collection': {'id': 397444,\n",
       "  'name': 'Kindergarten Cop Collection',\n",
       "  'poster_path': '/q5Pk0utXHTqOgvRtlRxu8AMqGLC.jpg',\n",
       "  'backdrop_path': '/zicuhHPyM7KuVO1Qi6voMywsuG2.jpg'},\n",
       " 'budget': 15000000,\n",
       " 'genres': [{'id': 35, 'name': 'Comedy'}],\n",
       " 'homepage': '',\n",
       " 'id': 951,\n",
       " 'imdb_id': 'tt0099938',\n",
       " 'original_language': 'en',\n",
       " 'original_title': 'Kindergarten Cop',\n",
       " 'overview': \"Hard-edged cop John Kimble gets more than he bargained for when he goes undercover as a kindergarten teacher to get the goods on a brutal drug lord while at the same time protecting the man's young son. Pitted against a class of boisterous moppets whose antics try his patience and test his mettle, Kimble may have met his match … in more ways than one.\",\n",
       " 'popularity': 7.478,\n",
       " 'poster_path': '/nKnHWwkXyvhzCYWm3FyRAv3qBrl.jpg',\n",
       " 'production_companies': [{'id': 33,\n",
       "   'logo_path': '/8lvHyhjr8oUKOOy2dKXoALWKdp0.png',\n",
       "   'name': 'Universal Pictures',\n",
       "   'origin_country': 'US'},\n",
       "  {'id': 23,\n",
       "   'logo_path': '/mkxNjThahj5pvntvYKVpMbWXm3D.png',\n",
       "   'name': 'Imagine Entertainment',\n",
       "   'origin_country': 'US'}],\n",
       " 'production_countries': [{'iso_3166_1': 'US',\n",
       "   'name': 'United States of America'}],\n",
       " 'release_date': '1990-12-21',\n",
       " 'revenue': 201957688,\n",
       " 'runtime': 111,\n",
       " 'spoken_languages': [{'english_name': 'English',\n",
       "   'iso_639_1': 'en',\n",
       "   'name': 'English'},\n",
       "  {'english_name': 'Spanish', 'iso_639_1': 'es', 'name': 'Español'}],\n",
       " 'status': 'Released',\n",
       " 'tagline': \"Go ahead, you tell him you didn't do your homework.\",\n",
       " 'title': 'Kindergarten Cop',\n",
       " 'video': False,\n",
       " 'vote_average': 6.1,\n",
       " 'vote_count': 1955}"
      ]
     },
     "execution_count": 6,
     "metadata": {},
     "output_type": "execute_result"
    }
   ],
   "source": [
    "# make a movie object\n",
    "movie = tmdb.Movies(951)\n",
    "movie.info()"
   ]
  },
  {
   "cell_type": "code",
   "execution_count": 8,
   "id": "ffd9e53f",
   "metadata": {},
   "outputs": [
    {
     "name": "stdout",
     "output_type": "stream",
     "text": [
      "tt0099938\n",
      "15000000\n",
      "201957688\n"
     ]
    }
   ],
   "source": [
    "print(movie.info()['imdb_id'])\n",
    "print(movie.info()['budget'])\n",
    "print(movie.info()['revenue'])"
   ]
  },
  {
   "cell_type": "markdown",
   "id": "03dba15b",
   "metadata": {},
   "source": [
    "Finding the Certification"
   ]
  },
  {
   "cell_type": "code",
   "execution_count": 17,
   "id": "46a5b466",
   "metadata": {},
   "outputs": [],
   "source": [
    "# define function for retrieving certification of a movie released in the US\n",
    "\n",
    "def info_with_certification(imdb_id):\n",
    "    # Get the movie object for the current id\n",
    "    movie = tmdb.Movies(imdb_id)\n",
    "\n",
    "    # save the .info & .releases dictionaries\n",
    "    info = movie.info()\n",
    "    releases = movie.releases()\n",
    "\n",
    "    # loop through countries in releases\n",
    "    for c in releases['countries']:\n",
    "        if c['iso_3166_1']== 'US':\n",
    "            # save certification key in the info dictionary with the certification value\n",
    "            info['certification'] = c['certification']\n",
    "    return info"
   ]
  },
  {
   "cell_type": "code",
   "execution_count": 18,
   "id": "5a0310bd",
   "metadata": {},
   "outputs": [
    {
     "data": {
      "text/plain": [
       "{'adult': False,\n",
       " 'backdrop_path': '/mbtvyCr73zTz45lANjURpKu493l.jpg',\n",
       " 'belongs_to_collection': {'id': 397444,\n",
       "  'name': 'Kindergarten Cop Collection',\n",
       "  'poster_path': '/q5Pk0utXHTqOgvRtlRxu8AMqGLC.jpg',\n",
       "  'backdrop_path': '/zicuhHPyM7KuVO1Qi6voMywsuG2.jpg'},\n",
       " 'budget': 15000000,\n",
       " 'genres': [{'id': 35, 'name': 'Comedy'}],\n",
       " 'homepage': '',\n",
       " 'id': 951,\n",
       " 'imdb_id': 'tt0099938',\n",
       " 'original_language': 'en',\n",
       " 'original_title': 'Kindergarten Cop',\n",
       " 'overview': \"Hard-edged cop John Kimble gets more than he bargained for when he goes undercover as a kindergarten teacher to get the goods on a brutal drug lord while at the same time protecting the man's young son. Pitted against a class of boisterous moppets whose antics try his patience and test his mettle, Kimble may have met his match … in more ways than one.\",\n",
       " 'popularity': 7.478,\n",
       " 'poster_path': '/nKnHWwkXyvhzCYWm3FyRAv3qBrl.jpg',\n",
       " 'production_companies': [{'id': 33,\n",
       "   'logo_path': '/8lvHyhjr8oUKOOy2dKXoALWKdp0.png',\n",
       "   'name': 'Universal Pictures',\n",
       "   'origin_country': 'US'},\n",
       "  {'id': 23,\n",
       "   'logo_path': '/mkxNjThahj5pvntvYKVpMbWXm3D.png',\n",
       "   'name': 'Imagine Entertainment',\n",
       "   'origin_country': 'US'}],\n",
       " 'production_countries': [{'iso_3166_1': 'US',\n",
       "   'name': 'United States of America'}],\n",
       " 'release_date': '1990-12-21',\n",
       " 'revenue': 201957688,\n",
       " 'runtime': 111,\n",
       " 'spoken_languages': [{'english_name': 'English',\n",
       "   'iso_639_1': 'en',\n",
       "   'name': 'English'},\n",
       "  {'english_name': 'Spanish', 'iso_639_1': 'es', 'name': 'Español'}],\n",
       " 'status': 'Released',\n",
       " 'tagline': \"Go ahead, you tell him you didn't do your homework.\",\n",
       " 'title': 'Kindergarten Cop',\n",
       " 'video': False,\n",
       " 'vote_average': 6.1,\n",
       " 'vote_count': 1955,\n",
       " 'certification': 'PG-13'}"
      ]
     },
     "execution_count": 18,
     "metadata": {},
     "output_type": "execute_result"
    }
   ],
   "source": [
    "test = info_with_certification('tt0099938')\n",
    "test"
   ]
  },
  {
   "cell_type": "code",
   "execution_count": 14,
   "id": "2df35170",
   "metadata": {},
   "outputs": [
    {
     "name": "stdout",
     "output_type": "stream",
     "text": [
      "None\n"
     ]
    }
   ],
   "source": [
    "print(test)"
   ]
  },
  {
   "cell_type": "code",
   "execution_count": null,
   "id": "97d49d92",
   "metadata": {},
   "outputs": [],
   "source": []
  }
 ],
 "metadata": {
  "kernelspec": {
   "display_name": "Python (dojo-env)",
   "language": "python",
   "name": "dojo-env"
  },
  "language_info": {
   "codemirror_mode": {
    "name": "ipython",
    "version": 3
   },
   "file_extension": ".py",
   "mimetype": "text/x-python",
   "name": "python",
   "nbconvert_exporter": "python",
   "pygments_lexer": "ipython3",
   "version": "3.7.12"
  },
  "toc": {
   "base_numbering": 1,
   "nav_menu": {},
   "number_sections": true,
   "sideBar": true,
   "skip_h1_title": false,
   "title_cell": "Table of Contents",
   "title_sidebar": "Contents",
   "toc_cell": false,
   "toc_position": {},
   "toc_section_display": true,
   "toc_window_display": false
  }
 },
 "nbformat": 4,
 "nbformat_minor": 5
}
